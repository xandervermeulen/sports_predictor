{
 "cells": [
  {
   "cell_type": "markdown",
   "source": [
    "### Scrape upcoming events"
   ],
   "metadata": {
    "collapsed": false
   },
   "id": "d0aabbf6a03f3eb1"
  },
  {
   "cell_type": "code",
   "id": "initial_id",
   "metadata": {
    "collapsed": true,
    "ExecuteTime": {
     "end_time": "2024-06-16T23:53:35.727157Z",
     "start_time": "2024-06-16T23:53:35.709140Z"
    }
   },
   "source": [
    "import pandas as pd\n",
    "import numpy as np\n",
    "import re\n",
    "import requests\n",
    "from bs4 import BeautifulSoup\n",
    "import itertools\n",
    "import string\n",
    "from retrying import retry"
   ],
   "outputs": [],
   "execution_count": 28
  },
  {
   "cell_type": "markdown",
   "source": [
    "# Scrape the events from the website"
   ],
   "metadata": {
    "collapsed": false
   },
   "id": "c3b4c7dfa3374962"
  },
  {
   "cell_type": "code",
   "source": [
    "url = \"http://www.tennisabstract.com/current\"\n",
    "headers = {\n",
    "    \"Accept\": \"text/html,application/xhtml+xml,application/xml;q=0.9,image/webp,/;q=0.8\",\n",
    "    \"User-Agent\": \"Mozilla/5.0 (Windows NT 10.0; Win64; x64) AppleWebKit/537.36 (KHTML, like Gecko) Chrome/58.0.3029.110 Safari/537.3\"\n",
    "}\n",
    "dft = pd.DataFrame()"
   ],
   "metadata": {
    "collapsed": false,
    "ExecuteTime": {
     "end_time": "2024-06-16T23:53:35.743140Z",
     "start_time": "2024-06-16T23:53:35.738145Z"
    }
   },
   "id": "7d5f2d6a1d8f4b9a",
   "outputs": [],
   "execution_count": 29
  },
  {
   "cell_type": "code",
   "source": [
    "def get_soup(url):\n",
    "    response = requests.get(url, headers=headers)\n",
    "    response.raise_for_status()  # Raise an exception for 4xx and 5xx status codes\n",
    "    return BeautifulSoup(response.text, 'html.parser')"
   ],
   "metadata": {
    "collapsed": false,
    "ExecuteTime": {
     "end_time": "2024-06-16T23:53:35.791219Z",
     "start_time": "2024-06-16T23:53:35.774144Z"
    }
   },
   "id": "2c95ce7de1b6ab1b",
   "outputs": [],
   "execution_count": 30
  },
  {
   "cell_type": "code",
   "source": [
    "def get_current_event_data(html_content):\n",
    "    event_data = []\n",
    "    table = html_content.find('table')\n",
    "    rows = table.find_all('tr')\n",
    "    for row in rows[2:]:  # skipping the header rows\n",
    "        columns = row.find_all('td')\n",
    "        if len(columns) >= 2:\n",
    "            event_name = columns[1].find('a').text.strip()\n",
    "            event_date = columns[2].text.strip()\n",
    "            href_link = columns[1].find('a')['href']\n",
    "            event_data.append({'Event Name': event_name, 'Event Date': event_date, 'Href Link': href_link})\n",
    "    return event_data\n",
    "\n",
    "\n",
    "def write_events_to_csv(event_data, filename='../data/events.csv', overwrite=True):\n",
    "    df = pd.DataFrame(event_data)\n",
    "    print(df)\n",
    "\n",
    "\n",
    "def main():\n",
    "    url = \"http://www.tennisabstract.com/current/\"\n",
    "    try:\n",
    "        soup = get_soup(url)\n",
    "        event_data = get_current_event_data(soup)\n",
    "        dft = pd.DataFrame(event_data)\n",
    "        print(\"TESt\")\n",
    "        print(dft)\n",
    "        write_events_to_csv(event_data)\n",
    "        print(\"Events data has been written to events.csv\")\n",
    "    except Exception as e:\n",
    "        print(\"An error occurred:\", e)\n",
    "\n"
   ],
   "metadata": {
    "collapsed": false,
    "ExecuteTime": {
     "end_time": "2024-06-16T23:53:35.807221Z",
     "start_time": "2024-06-16T23:53:35.792219Z"
    }
   },
   "id": "8dac776e2dec466d",
   "outputs": [],
   "execution_count": 31
  },
  {
   "metadata": {
    "ExecuteTime": {
     "end_time": "2024-06-16T23:53:36.181566Z",
     "start_time": "2024-06-16T23:53:35.824220Z"
    }
   },
   "cell_type": "code",
   "source": [
    "url = \"http://www.tennisabstract.com/current/\"\n",
    "try:\n",
    "    soup = get_soup(url)\n",
    "    print(soup)\n",
    "except Exception as e:\n",
    "    print(\"An error occurred:\", e)"
   ],
   "id": "f672d048374fca32",
   "outputs": [
    {
     "name": "stdout",
     "output_type": "stream",
     "text": [
      "\n",
      "<!DOCTYPE html PUBLIC \"-//W3C//DTD XHTML 1.0 Transitional//EN\" \"http://www.w3.org/TR/xhtml1/DTD/xhtml1-transitional.dtd\">\n",
      "\n",
      "<html xmlns=\"http://www.w3.org/1999/xhtml\">\n",
      "<head>\n",
      "<title>Tennis Abstract: ATP Match Results, Splits, and Analysis</title>\n",
      "<link href=\"http://www.minorleaguesplits.com/tennisabstract/blue/style.css\" rel=\"stylesheet\" type=\"text/css\"/>\n",
      "</head>\n",
      "<body>\n",
      "<table width=\"1000\">\n",
      "<tr>\n",
      "<td>\n",
      "<table width=\"500\">\n",
      "<tbody>\n",
      "<tr>\n",
      "<td align=\"left\" class=\"headline\" valign=\"top\">\n",
      "<h1>tennis<span style=\"color: blue\">abstract</span>.com <em>beta</em></h1></td></tr>\n",
      "<tr>\n",
      "<td><input id=\"tags\"/></td></tr>\n",
      "<tr>\n",
      "<td>\n",
      "<p> <br/>\n",
      "<strong>TennisAbstract.com</strong> is a new way to analyze ATP tennis players. Use the search box to find your favorite, \r\n",
      "\r\n",
      "or jump in with <a href=\"http://www.tennisabstract.com/cgi-bin/player.cgi?p=RadekStepanek\">Radek Stepanek</a>. </p>\n",
      "<p>The database currently consists of over 1600 players--everyone who has appeared in an ATP-level match since 1991.  \r\n",
      "\r\n",
      "Match results are limited to tour-level events and go back to 1991.  In the not-too-distant future, look for Davis Cup \r\n",
      "\r\n",
      "results, as well as challengers and qualies.</p>\n",
      "<p><strong>The site is still in beta, and it is not yet functional in Internet Explorer.</strong>  For this site (and \r\n",
      "\r\n",
      "others!) I strongly recommend switching to Google Chrome, which <a href=\"https://www.google.com/chrome\">you can download \r\n",
      "\r\n",
      "here</a>.</p>\n",
      "</td></tr></tbody></table>\n",
      "</td>\n",
      "<td valign=\"top\">\n",
      "<h2>Upcoming Matches</h2>\n",
      "<br/><b>Monte-Carlo Rolex Masters</b><br/> <br/><a href=\"http://www.tennisabstract.com/cgi-bin/player.cgi?p=FredericoGil\">Frederico Gil</a> vs. <a href=\"http://www.tennisabstract.com/cgi-bin/player.cgi?p=GillesSimon\">Gilles Simon</a> <a href=\"http://www.tennisabstract.com/cgi-bin/player.cgi?p=FredericoGil&amp;f=A0&amp;q=GillesSimon\">[H2H]</a><br/><a href=\"http://www.tennisabstract.com/cgi-bin/player.cgi?p=NovakDjokovic\">Novak Djokovic</a> vs. <a href=\"http://www.tennisabstract.com/cgi-bin/player.cgi?p=AndreasSeppi\">Andreas Seppi</a> <a href=\"http://www.tennisabstract.com/cgi-bin/player.cgi?p=NovakDjokovic&amp;f=A0&amp;q=AndreasSeppi\">[H2H]</a><br/><a href=\"http://www.tennisabstract.com/cgi-bin/player.cgi?p=JarkkoNieminen\">Jarkko Nieminen</a> vs. <a href=\"http://www.tennisabstract.com/cgi-bin/player.cgi?p=RafaelNadal\">Rafael Nadal</a> <a href=\"http://www.tennisabstract.com/cgi-bin/player.cgi?p=JarkkoNieminen&amp;f=A0&amp;q=RafaelNadal\">[H2H]</a><br/><a href=\"http://www.tennisabstract.com/cgi-bin/player.cgi?p=ThomazBellucci\">Thomaz Bellucci</a> vs. <a href=\"http://www.tennisabstract.com/cgi-bin/player.cgi?p=DavidFerrer\">David Ferrer</a> <a href=\"http://www.tennisabstract.com/cgi-bin/player.cgi?p=ThomazBellucci&amp;f=A0&amp;q=DavidFerrer\">[H2H]</a><br/><a href=\"http://www.tennisabstract.com/cgi-bin/player.cgi?p=BernardTomic\">Bernard Tomic</a> vs. <a href=\"http://www.tennisabstract.com/cgi-bin/player.cgi?p=AlexandrDolgopolov\">Alexandr Dolgopolov</a> <a href=\"http://www.tennisabstract.com/cgi-bin/player.cgi?p=BernardTomic&amp;f=A0&amp;q=AlexandrDolgopolov\">[H2H]</a><br/><a href=\"http://www.tennisabstract.com/cgi-bin/player.cgi?p=JulienBenneteau\">Julien Benneteau</a> vs. <a href=\"http://www.tennisabstract.com/cgi-bin/player.cgi?p=JurgenMelzer\">Jurgen Melzer</a> <a href=\"http://www.tennisabstract.com/cgi-bin/player.cgi?p=JulienBenneteau&amp;f=A0&amp;q=JurgenMelzer\">[H2H]</a><br/><a href=\"http://www.tennisabstract.com/cgi-bin/player.cgi?p=MarinCilic\">Marin Cilic</a> vs. <a href=\"http://www.tennisabstract.com/cgi-bin/player.cgi?p=TomasBerdych\">Tomas Berdych</a> <a href=\"http://www.tennisabstract.com/cgi-bin/player.cgi?p=MarinCilic&amp;f=A0&amp;q=TomasBerdych\">[H2H]</a><br/><a href=\"http://www.tennisabstract.com/cgi-bin/player.cgi?p=KeiNishikori\">Kei Nishikori</a> vs. <a href=\"http://www.tennisabstract.com/cgi-bin/player.cgi?p=PaulHenriMathieu\">Paul-Henri Mathieu</a> <a href=\"http://www.tennisabstract.com/cgi-bin/player.cgi?p=KeiNishikori&amp;f=A0&amp;q=PaulHenriMathieu\">[H2H]</a><br/><a href=\"http://www.tennisabstract.com/cgi-bin/player.cgi?p=JankoTipsarevic\">Janko Tipsarevic</a> vs. <a href=\"http://www.tennisabstract.com/cgi-bin/player.cgi?p=AlbertMontanes\">Albert Montanes</a> <a href=\"http://www.tennisabstract.com/cgi-bin/player.cgi?p=JankoTipsarevic&amp;f=A0&amp;q=AlbertMontanes\">[H2H]</a><br/><a href=\"http://www.tennisabstract.com/cgi-bin/player.cgi?p=NicolasAlmagro\">Nicolas Almagro</a> vs. <a href=\"http://www.tennisabstract.com/cgi-bin/player.cgi?p=PotitoStarace\">Potito Starace</a> <a href=\"http://www.tennisabstract.com/cgi-bin/player.cgi?p=NicolasAlmagro&amp;f=A0&amp;q=PotitoStarace\">[H2H]</a><br/><a href=\"http://www.tennisabstract.com/cgi-bin/player.cgi?p=MikhailKukushkin\">Mikhail Kukushkin</a> vs. <a href=\"http://www.tennisabstract.com/cgi-bin/player.cgi?p=FilippoVolandri\">Filippo Volandri</a> <a href=\"http://www.tennisabstract.com/cgi-bin/player.cgi?p=MikhailKukushkin&amp;f=A0&amp;q=FilippoVolandri\">[H2H]</a><br/><a href=\"http://www.tennisabstract.com/cgi-bin/player.cgi?p=RobinHaase\">Robin Haase</a> vs. <a href=\"http://www.tennisabstract.com/cgi-bin/player.cgi?p=FabioFognini\">Fabio Fognini</a> <a href=\"http://www.tennisabstract.com/cgi-bin/player.cgi?p=RobinHaase&amp;f=A0&amp;q=FabioFognini\">[H2H]</a><br/><a href=\"http://www.tennisabstract.com/cgi-bin/player.cgi?p=PabloAndujar\">Pablo Andujar</a> vs. <a href=\"http://www.tennisabstract.com/cgi-bin/player.cgi?p=StanislasWawrinka\">Stanislas Wawrinka</a> <a href=\"http://www.tennisabstract.com/cgi-bin/player.cgi?p=PabloAndujar&amp;f=A0&amp;q=StanislasWawrinka\">[H2H]</a><br/>\n",
      "</td>\n",
      "</tr>\n",
      "</table>\n",
      "</body>\n",
      "<script src=\"http://www.minorleaguesplits.com/tennisabstract/jquery-1.7.1-min.js\" type=\"text/javascript\"></script>\n",
      "<script src=\"http://www.minorleaguesplits.com/tennisabstract/jquery.ui.core.js\" type=\"text/javascript\"></script>\n",
      "<script src=\"http://www.minorleaguesplits.com/tennisabstract/jquery.ui.position.js\" type=\"text/javascript\"></script>\n",
      "<script src=\"http://www.minorleaguesplits.com/tennisabstract/jquery.ui.widget.js\" type=\"text/javascript\"></script>\n",
      "<script src=\"http://www.minorleaguesplits.com/tennisabstract/jquery.ui.autocomplete.js\" type=\"text/javascript\"></script>\n",
      "<script src=\"http://www.minorleaguesplits.com/tennisabstract/cgi-\r\n",
      "\r\n",
      "bin/jsplayers/playerlist.js\" type=\"text/javascript\"></script>\n",
      "<script language=\"JavaScript\">\r\n",
      "    var searchbox = \"Player Search\";\t\t\r\n",
      "    $(\"#tags\").val(searchbox);\r\n",
      "    $(\"#tags\").focus(function() {\r\n",
      "        if ($(this).val() == searchbox) {$(this).val(\"\");}\r\n",
      "        $( \"#tags\" ).autocomplete({\r\n",
      "                source: playerlist,\r\n",
      "                minLength: 2,\r\n",
      "                select: function(e, ui) {\r\n",
      "                    var player = ui.item.value;\r\n",
      "                    var playerurl = 'http://www.tennisabstract.com/cgi-bin/player.cgi?p=' + player.replace(/ /g, '');\r\n",
      "                    window.open(playerurl, \"_self\");\r\n",
      "                    }\r\n",
      "            });\r\n",
      "        });\r\n",
      "</script>\n",
      "</html>\n"
     ]
    }
   ],
   "execution_count": 33
  },
  {
   "cell_type": "code",
   "source": "events = pd.read_csv('../data/events.csv')",
   "metadata": {
    "collapsed": false,
    "ExecuteTime": {
     "end_time": "2024-06-16T23:53:36.259090Z",
     "start_time": "2024-06-16T23:53:36.182545Z"
    }
   },
   "id": "3b3d3db4367cbbe0",
   "outputs": [
    {
     "ename": "EmptyDataError",
     "evalue": "No columns to parse from file",
     "output_type": "error",
     "traceback": [
      "\u001B[1;31m---------------------------------------------------------------------------\u001B[0m",
      "\u001B[1;31mEmptyDataError\u001B[0m                            Traceback (most recent call last)",
      "Cell \u001B[1;32mIn[34], line 1\u001B[0m\n\u001B[1;32m----> 1\u001B[0m events \u001B[38;5;241m=\u001B[39m \u001B[43mpd\u001B[49m\u001B[38;5;241;43m.\u001B[39;49m\u001B[43mread_csv\u001B[49m\u001B[43m(\u001B[49m\u001B[38;5;124;43m'\u001B[39;49m\u001B[38;5;124;43m../data/events.csv\u001B[39;49m\u001B[38;5;124;43m'\u001B[39;49m\u001B[43m)\u001B[49m\n",
      "File \u001B[1;32m~\\Desktop\\Home\\WielerManager2024\\.venv\\fight_predictor\\lib\\site-packages\\pandas\\util\\_decorators.py:211\u001B[0m, in \u001B[0;36mdeprecate_kwarg.<locals>._deprecate_kwarg.<locals>.wrapper\u001B[1;34m(*args, **kwargs)\u001B[0m\n\u001B[0;32m    209\u001B[0m     \u001B[38;5;28;01melse\u001B[39;00m:\n\u001B[0;32m    210\u001B[0m         kwargs[new_arg_name] \u001B[38;5;241m=\u001B[39m new_arg_value\n\u001B[1;32m--> 211\u001B[0m \u001B[38;5;28;01mreturn\u001B[39;00m func(\u001B[38;5;241m*\u001B[39margs, \u001B[38;5;241m*\u001B[39m\u001B[38;5;241m*\u001B[39mkwargs)\n",
      "File \u001B[1;32m~\\Desktop\\Home\\WielerManager2024\\.venv\\fight_predictor\\lib\\site-packages\\pandas\\util\\_decorators.py:331\u001B[0m, in \u001B[0;36mdeprecate_nonkeyword_arguments.<locals>.decorate.<locals>.wrapper\u001B[1;34m(*args, **kwargs)\u001B[0m\n\u001B[0;32m    325\u001B[0m \u001B[38;5;28;01mif\u001B[39;00m \u001B[38;5;28mlen\u001B[39m(args) \u001B[38;5;241m>\u001B[39m num_allow_args:\n\u001B[0;32m    326\u001B[0m     warnings\u001B[38;5;241m.\u001B[39mwarn(\n\u001B[0;32m    327\u001B[0m         msg\u001B[38;5;241m.\u001B[39mformat(arguments\u001B[38;5;241m=\u001B[39m_format_argument_list(allow_args)),\n\u001B[0;32m    328\u001B[0m         \u001B[38;5;167;01mFutureWarning\u001B[39;00m,\n\u001B[0;32m    329\u001B[0m         stacklevel\u001B[38;5;241m=\u001B[39mfind_stack_level(),\n\u001B[0;32m    330\u001B[0m     )\n\u001B[1;32m--> 331\u001B[0m \u001B[38;5;28;01mreturn\u001B[39;00m func(\u001B[38;5;241m*\u001B[39margs, \u001B[38;5;241m*\u001B[39m\u001B[38;5;241m*\u001B[39mkwargs)\n",
      "File \u001B[1;32m~\\Desktop\\Home\\WielerManager2024\\.venv\\fight_predictor\\lib\\site-packages\\pandas\\io\\parsers\\readers.py:950\u001B[0m, in \u001B[0;36mread_csv\u001B[1;34m(filepath_or_buffer, sep, delimiter, header, names, index_col, usecols, squeeze, prefix, mangle_dupe_cols, dtype, engine, converters, true_values, false_values, skipinitialspace, skiprows, skipfooter, nrows, na_values, keep_default_na, na_filter, verbose, skip_blank_lines, parse_dates, infer_datetime_format, keep_date_col, date_parser, dayfirst, cache_dates, iterator, chunksize, compression, thousands, decimal, lineterminator, quotechar, quoting, doublequote, escapechar, comment, encoding, encoding_errors, dialect, error_bad_lines, warn_bad_lines, on_bad_lines, delim_whitespace, low_memory, memory_map, float_precision, storage_options)\u001B[0m\n\u001B[0;32m    935\u001B[0m kwds_defaults \u001B[38;5;241m=\u001B[39m _refine_defaults_read(\n\u001B[0;32m    936\u001B[0m     dialect,\n\u001B[0;32m    937\u001B[0m     delimiter,\n\u001B[1;32m   (...)\u001B[0m\n\u001B[0;32m    946\u001B[0m     defaults\u001B[38;5;241m=\u001B[39m{\u001B[38;5;124m\"\u001B[39m\u001B[38;5;124mdelimiter\u001B[39m\u001B[38;5;124m\"\u001B[39m: \u001B[38;5;124m\"\u001B[39m\u001B[38;5;124m,\u001B[39m\u001B[38;5;124m\"\u001B[39m},\n\u001B[0;32m    947\u001B[0m )\n\u001B[0;32m    948\u001B[0m kwds\u001B[38;5;241m.\u001B[39mupdate(kwds_defaults)\n\u001B[1;32m--> 950\u001B[0m \u001B[38;5;28;01mreturn\u001B[39;00m \u001B[43m_read\u001B[49m\u001B[43m(\u001B[49m\u001B[43mfilepath_or_buffer\u001B[49m\u001B[43m,\u001B[49m\u001B[43m \u001B[49m\u001B[43mkwds\u001B[49m\u001B[43m)\u001B[49m\n",
      "File \u001B[1;32m~\\Desktop\\Home\\WielerManager2024\\.venv\\fight_predictor\\lib\\site-packages\\pandas\\io\\parsers\\readers.py:605\u001B[0m, in \u001B[0;36m_read\u001B[1;34m(filepath_or_buffer, kwds)\u001B[0m\n\u001B[0;32m    602\u001B[0m _validate_names(kwds\u001B[38;5;241m.\u001B[39mget(\u001B[38;5;124m\"\u001B[39m\u001B[38;5;124mnames\u001B[39m\u001B[38;5;124m\"\u001B[39m, \u001B[38;5;28;01mNone\u001B[39;00m))\n\u001B[0;32m    604\u001B[0m \u001B[38;5;66;03m# Create the parser.\u001B[39;00m\n\u001B[1;32m--> 605\u001B[0m parser \u001B[38;5;241m=\u001B[39m TextFileReader(filepath_or_buffer, \u001B[38;5;241m*\u001B[39m\u001B[38;5;241m*\u001B[39mkwds)\n\u001B[0;32m    607\u001B[0m \u001B[38;5;28;01mif\u001B[39;00m chunksize \u001B[38;5;129;01mor\u001B[39;00m iterator:\n\u001B[0;32m    608\u001B[0m     \u001B[38;5;28;01mreturn\u001B[39;00m parser\n",
      "File \u001B[1;32m~\\Desktop\\Home\\WielerManager2024\\.venv\\fight_predictor\\lib\\site-packages\\pandas\\io\\parsers\\readers.py:1442\u001B[0m, in \u001B[0;36mTextFileReader.__init__\u001B[1;34m(self, f, engine, **kwds)\u001B[0m\n\u001B[0;32m   1439\u001B[0m     \u001B[38;5;28mself\u001B[39m\u001B[38;5;241m.\u001B[39moptions[\u001B[38;5;124m\"\u001B[39m\u001B[38;5;124mhas_index_names\u001B[39m\u001B[38;5;124m\"\u001B[39m] \u001B[38;5;241m=\u001B[39m kwds[\u001B[38;5;124m\"\u001B[39m\u001B[38;5;124mhas_index_names\u001B[39m\u001B[38;5;124m\"\u001B[39m]\n\u001B[0;32m   1441\u001B[0m \u001B[38;5;28mself\u001B[39m\u001B[38;5;241m.\u001B[39mhandles: IOHandles \u001B[38;5;241m|\u001B[39m \u001B[38;5;28;01mNone\u001B[39;00m \u001B[38;5;241m=\u001B[39m \u001B[38;5;28;01mNone\u001B[39;00m\n\u001B[1;32m-> 1442\u001B[0m \u001B[38;5;28mself\u001B[39m\u001B[38;5;241m.\u001B[39m_engine \u001B[38;5;241m=\u001B[39m \u001B[38;5;28;43mself\u001B[39;49m\u001B[38;5;241;43m.\u001B[39;49m\u001B[43m_make_engine\u001B[49m\u001B[43m(\u001B[49m\u001B[43mf\u001B[49m\u001B[43m,\u001B[49m\u001B[43m \u001B[49m\u001B[38;5;28;43mself\u001B[39;49m\u001B[38;5;241;43m.\u001B[39;49m\u001B[43mengine\u001B[49m\u001B[43m)\u001B[49m\n",
      "File \u001B[1;32m~\\Desktop\\Home\\WielerManager2024\\.venv\\fight_predictor\\lib\\site-packages\\pandas\\io\\parsers\\readers.py:1753\u001B[0m, in \u001B[0;36mTextFileReader._make_engine\u001B[1;34m(self, f, engine)\u001B[0m\n\u001B[0;32m   1750\u001B[0m     \u001B[38;5;28;01mraise\u001B[39;00m \u001B[38;5;167;01mValueError\u001B[39;00m(msg)\n\u001B[0;32m   1752\u001B[0m \u001B[38;5;28;01mtry\u001B[39;00m:\n\u001B[1;32m-> 1753\u001B[0m     \u001B[38;5;28;01mreturn\u001B[39;00m mapping[engine](f, \u001B[38;5;241m*\u001B[39m\u001B[38;5;241m*\u001B[39m\u001B[38;5;28mself\u001B[39m\u001B[38;5;241m.\u001B[39moptions)\n\u001B[0;32m   1754\u001B[0m \u001B[38;5;28;01mexcept\u001B[39;00m \u001B[38;5;167;01mException\u001B[39;00m:\n\u001B[0;32m   1755\u001B[0m     \u001B[38;5;28;01mif\u001B[39;00m \u001B[38;5;28mself\u001B[39m\u001B[38;5;241m.\u001B[39mhandles \u001B[38;5;129;01mis\u001B[39;00m \u001B[38;5;129;01mnot\u001B[39;00m \u001B[38;5;28;01mNone\u001B[39;00m:\n",
      "File \u001B[1;32m~\\Desktop\\Home\\WielerManager2024\\.venv\\fight_predictor\\lib\\site-packages\\pandas\\io\\parsers\\c_parser_wrapper.py:79\u001B[0m, in \u001B[0;36mCParserWrapper.__init__\u001B[1;34m(self, src, **kwds)\u001B[0m\n\u001B[0;32m     76\u001B[0m     kwds\u001B[38;5;241m.\u001B[39mpop(key, \u001B[38;5;28;01mNone\u001B[39;00m)\n\u001B[0;32m     78\u001B[0m kwds[\u001B[38;5;124m\"\u001B[39m\u001B[38;5;124mdtype\u001B[39m\u001B[38;5;124m\"\u001B[39m] \u001B[38;5;241m=\u001B[39m ensure_dtype_objs(kwds\u001B[38;5;241m.\u001B[39mget(\u001B[38;5;124m\"\u001B[39m\u001B[38;5;124mdtype\u001B[39m\u001B[38;5;124m\"\u001B[39m, \u001B[38;5;28;01mNone\u001B[39;00m))\n\u001B[1;32m---> 79\u001B[0m \u001B[38;5;28mself\u001B[39m\u001B[38;5;241m.\u001B[39m_reader \u001B[38;5;241m=\u001B[39m parsers\u001B[38;5;241m.\u001B[39mTextReader(src, \u001B[38;5;241m*\u001B[39m\u001B[38;5;241m*\u001B[39mkwds)\n\u001B[0;32m     81\u001B[0m \u001B[38;5;28mself\u001B[39m\u001B[38;5;241m.\u001B[39munnamed_cols \u001B[38;5;241m=\u001B[39m \u001B[38;5;28mself\u001B[39m\u001B[38;5;241m.\u001B[39m_reader\u001B[38;5;241m.\u001B[39munnamed_cols\n\u001B[0;32m     83\u001B[0m \u001B[38;5;66;03m# error: Cannot determine type of 'names'\u001B[39;00m\n",
      "File \u001B[1;32m~\\Desktop\\Home\\WielerManager2024\\.venv\\fight_predictor\\lib\\site-packages\\pandas\\_libs\\parsers.pyx:554\u001B[0m, in \u001B[0;36mpandas._libs.parsers.TextReader.__cinit__\u001B[1;34m()\u001B[0m\n",
      "\u001B[1;31mEmptyDataError\u001B[0m: No columns to parse from file"
     ]
    }
   ],
   "execution_count": 34
  },
  {
   "cell_type": "code",
   "source": [
    "# get only events that are happening now to 2 weeks ago to 1 week ahead\n",
    "\n",
    "events['Event Date'] = pd.to_datetime(events['Event Date'])\n",
    "\n",
    "events = events[(events['Event Date'] >= pd.Timestamp.now() - pd.DateOffset(weeks=2)) & (\n",
    "            events['Event Date'] <= pd.Timestamp.now() + pd.DateOffset(weeks=1))]\n",
    "\n",
    "events"
   ],
   "metadata": {
    "collapsed": false,
    "ExecuteTime": {
     "end_time": "2024-06-16T23:53:36.260094Z",
     "start_time": "2024-06-16T23:53:36.260094Z"
    }
   },
   "id": "b8903587137f74a9",
   "outputs": [],
   "execution_count": null
  },
  {
   "metadata": {
    "ExecuteTime": {
     "end_time": "2024-06-16T23:53:36.261093Z",
     "start_time": "2024-06-16T23:53:36.261093Z"
    }
   },
   "cell_type": "code",
   "source": "",
   "id": "89bdc368e4197bcd",
   "outputs": [],
   "execution_count": null
  },
  {
   "cell_type": "markdown",
   "source": [
    "Now we will check if there are any upcoming matches in the events"
   ],
   "metadata": {
    "collapsed": false
   },
   "id": "2b1c3115099c8639"
  },
  {
   "cell_type": "code",
   "source": [
    "base_url = 'http://www.tennisabstract.com/current/'\n",
    "event_urls = events['Href Link'].tolist()\n",
    "\n",
    "\n",
    "# def get_events_with_upcoming_matches(event_urls):\n",
    "#     events_with_matches = []\n",
    "#     for event_url in event_urls:\n",
    "#             soup = get_soup(base_url + event_url)\n",
    "#             matches = soup.find_all('span'  , {'id': 'upcoming'})\n",
    "#             if len(matches) > 0:\n",
    "#                 events_with_matches.append(event_url)\n",
    "#     return events_with_matches\n",
    "\n",
    "\n",
    "url = \"https://www.tennisabstract.com/current/2024WTAParis125.html\"\n",
    "headers = {\n",
    "    \"Accept\": \"text/html,application/xhtml+xml,application/xml;q=0.9,image/avif,image/webp,image/apng,*/*;q=0.8,application/signed-exchange;v=b3;q=0.7\",\n",
    "    \"User-Agent\": \"Mozilla/5.0 (Windows NT 10.0; Win64; x64) AppleWebKit/537.36 (KHTML, like Gecko) Chrome/124.0.0.0 Safari/537.36\"\n",
    "}\n",
    "\n",
    "# Make the request\n",
    "response = requests.get(url, headers=headers)\n",
    "\n",
    "# Define the pattern to match the upcomingSingles variable\n",
    "upcoming_singles_matches = re.findall(r\"var upcomingSingles = (.*?);\", response.text)\n",
    "\n",
    "print(upcoming_singles_matches)\n"
   ],
   "metadata": {
    "collapsed": false
   },
   "id": "d316c632b6a0aa31",
   "outputs": [],
   "execution_count": null
  },
  {
   "cell_type": "code",
   "source": [
    "import re\n",
    "import requests\n",
    "\n",
    "# Define the URL and headers\n",
    "url = \"https://www.tennisabstract.com/current/2024WTAParis125.html\"\n",
    "headers = {\n",
    "    \"Accept\": \"text/html,application/xhtml+xml,application/xml;q=0.9,image/avif,image/webp,image/apng,*/*;q=0.8,application/signed-exchange;v=b3;q=0.7\",\n",
    "    \"User-Agent\": \"Mozilla/5.0 (Windows NT 10.0; Win64; x64) AppleWebKit/537.36 (KHTML, like Gecko) Chrome/124.0.0.0 Safari/537.36\"\n",
    "}\n",
    "\n",
    "# Make the request\n",
    "response = requests.get(url, headers=headers)\n",
    "\n",
    "table = [[\"Event Name\", \"Player 1\", \"Player 2\"]]  # Initialize the table\n",
    "\n",
    "# Define the pattern to match the upcomingSingles variable\n",
    "upcoming_singles_matches = re.findall(r\"var upcomingSingles = (.*?);\", response.text)\n",
    "\n",
    "# Check if any matches are found\n",
    "if upcoming_singles_matches:\n",
    "    # Define the pattern to match each match in the list\n",
    "    pattern_match = r'(.*?)\\s*<br/>'\n",
    "    # Process each match separately\n",
    "    for match in upcoming_singles_matches:\n",
    "        # Find all matches in the list\n",
    "        matches = re.findall(pattern_match, match)\n",
    "        # Create a table  \n",
    "        # Process each match\n",
    "        for m in matches:\n",
    "            # Define the pattern to match player names within <a> tags\n",
    "            pattern_player = r'<a href=\".*?\">(.*?)<\\/a>'\n",
    "            \n",
    "            # Find all player names in the match\n",
    "            player_names = re.findall(pattern_player, m)\n",
    "            \n",
    "            # Ensure there are even number of player names\n",
    "            if len(player_names) % 2 != 0:\n",
    "                player_names = player_names[:-1]  # Discard the last player if uneven\n",
    "            \n",
    "            # Extract player pairs\n",
    "            player_pairs = [(player_names[i], player_names[i+1]) for i in range(0, len(player_names), 2)]\n",
    "            \n",
    "            # Add player pairs to the table\n",
    "            for i, pair in enumerate(player_pairs):\n",
    "                event_name = \"WTAROME\"\n",
    "                table.append([event_name, pair[0], pair[1]])\n",
    "\n",
    "# Print the table outside the loop\n",
    "for row in table:\n",
    "    print(row)\n"
   ],
   "metadata": {
    "collapsed": false
   },
   "id": "e2c812a39bb2ac4d",
   "outputs": [],
   "execution_count": null
  },
  {
   "cell_type": "markdown",
   "source": [
    "Now for all the events"
   ],
   "metadata": {
    "collapsed": false
   },
   "id": "a3d9e629fce63a0a"
  },
  {
   "cell_type": "code",
   "source": [
    "def get_upcoming_matches(event_urls):\n",
    "    table = [[\"Event Name\", \"Player 1\", \"Player 2\"]]  # Initialize the table\n",
    "    for event_url in event_urls:\n",
    "        url = base_url + event_url\n",
    "        response = requests.get(url, headers=headers)\n",
    "        upcoming_singles_matches = re.findall(r\"var upcomingSingles = (.*?);\", response.text)\n",
    "        if upcoming_singles_matches:\n",
    "            pattern_match = r'(.*?)\\s*<br/>'\n",
    "            for match in upcoming_singles_matches:\n",
    "                matches = re.findall(pattern_match, match)\n",
    "                for m in matches:\n",
    "                    pattern_player = r'<a href=\".*?\">(.*?)<\\/a>'\n",
    "                    player_names = re.findall(pattern_player, m)\n",
    "                    if len(player_names) % 2 != 0:\n",
    "                        player_names = player_names[:-1]  # Discard the last player if uneven\n",
    "                    player_pairs = [(player_names[i], player_names[i + 1]) for i in range(0, len(player_names), 2)]\n",
    "                    for i, pair in enumerate(player_pairs):\n",
    "                        event_name = event_url.split('.html')[0]\n",
    "                        table.append([event_name, pair[0], pair[1]])\n",
    "    return table\n",
    "\n",
    "\n",
    "upcoming_matches = get_upcoming_matches(event_urls)\n",
    "\n",
    "# convert to dataframe\n",
    "upcoming_matches_df = pd.DataFrame(upcoming_matches[1:], columns=upcoming_matches[0])\n",
    "upcoming_matches_df"
   ],
   "metadata": {
    "collapsed": false
   },
   "id": "9d354ef9a127d03",
   "outputs": [],
   "execution_count": null
  },
  {
   "metadata": {},
   "cell_type": "code",
   "source": "#upcoming_matches_df.to_csv('../data/upcoming_matches.csv', index=False)",
   "id": "8d774587917f2a7e",
   "outputs": [],
   "execution_count": null
  },
  {
   "metadata": {},
   "cell_type": "code",
   "source": "upcoming_matches_info = pd.read_csv('../data/upcoming_matches_info.csv', index_col=0)",
   "id": "a9e0b43728f54e4b",
   "outputs": [],
   "execution_count": null
  },
  {
   "metadata": {},
   "cell_type": "code",
   "source": [
    "# remove the 'Augsburg CH' CH from the upcoming_matches_info.Tournament column\n",
    "upcoming_matches_info['Tournament'] = upcoming_matches_info['Tournament'].str.replace(' CH', '')\n",
    "upcoming_matches_info"
   ],
   "id": "94d86de3f18dfc64",
   "outputs": [],
   "execution_count": null
  },
  {
   "metadata": {},
   "cell_type": "code",
   "source": "# join the two dataframes",
   "id": "ed6ee87c87d4665d",
   "outputs": [],
   "execution_count": null
  },
  {
   "metadata": {},
   "cell_type": "code",
   "source": [
    "names = upcoming_matches_info['Results'].str.split('vs')\n",
    "# remove everything between () and []\n",
    "names = names.apply(lambda x: [re.sub(r'\\[.*?\\]', '', re.sub(r'\\(.*?\\)', '', name)).strip() for name in x])"
   ],
   "id": "42f980378ca301d8",
   "outputs": [],
   "execution_count": null
  },
  {
   "metadata": {},
   "cell_type": "code",
   "source": [
    "upcoming_matches_info['player1'] = names.apply(lambda x: x[0])\n",
    "upcoming_matches_info['player2'] = names.apply(lambda x: x[1])"
   ],
   "id": "5889bb26b3356296",
   "outputs": [],
   "execution_count": null
  },
  {
   "metadata": {},
   "cell_type": "code",
   "source": "players = pd.read_csv('../data/player_urls.csv')",
   "id": "76a493180b1f2ce1",
   "outputs": [],
   "execution_count": null
  },
  {
   "metadata": {},
   "cell_type": "code",
   "source": [
    "def find_matching_player_name(player_name):\n",
    "    for player in players['name']:\n",
    "        if all(part.lower() in player.lower() for part in player_name.split()):\n",
    "            return player\n",
    "    return None"
   ],
   "id": "4d6b6cdf2dde6fa1",
   "outputs": [],
   "execution_count": null
  },
  {
   "metadata": {},
   "cell_type": "code",
   "source": [
    "# Apply the function to create player_name column\n",
    "\n",
    "upcoming_matches_info['player_name'] = upcoming_matches_info['player1'].apply(lambda x: find_matching_player_name(x) if pd.notnull(x) else None)\n",
    "upcoming_matches_info = upcoming_matches_info.drop(columns=['player1', 'Results'])\n",
    "upcoming_matches_info = upcoming_matches_info.rename(columns={'player_name': 'player1'})\n",
    "upcoming_matches_info"
   ],
   "id": "600ce3f138b38999",
   "outputs": [],
   "execution_count": null
  },
  {
   "metadata": {},
   "cell_type": "code",
   "source": [
    "# rearrange the columns\n",
    "upcoming_matches_info = upcoming_matches_info[['Tournament','Surface', 'Date', 'player1', 'player2', ]]\n",
    "upcoming_matches_info"
   ],
   "id": "232ee177f354901c",
   "outputs": [],
   "execution_count": null
  },
  {
   "metadata": {},
   "cell_type": "markdown",
   "source": "",
   "id": "ba200a704f414c59"
  },
  {
   "metadata": {},
   "cell_type": "code",
   "source": [
    "for index, row in upcoming_matches_info.iterrows():\n",
    "    for event in upcoming_matches_df['Event Name']:\n",
    "        if row['Tournament'] in event:\n",
    "            upcoming_matches_info.loc[index, 'Event'] = event\n",
    "            \n",
    "upcoming_matches_info"
   ],
   "id": "5ccc1e8210079f24",
   "outputs": [],
   "execution_count": null
  },
  {
   "metadata": {},
   "cell_type": "code",
   "source": "upcoming_matches_info['Event'] = upcoming_matches_info['Event'].astype(str)",
   "id": "7d74337ee6387afe",
   "outputs": [],
   "execution_count": null
  },
  {
   "metadata": {},
   "cell_type": "code",
   "source": [
    "def format_event(event):\n",
    "    return re.sub(r'(?<=[0-9])(ATP|WTA)', r' \\1', event)"
   ],
   "id": "79ce9b2febabf00d",
   "outputs": [],
   "execution_count": null
  },
  {
   "metadata": {},
   "cell_type": "code",
   "source": [
    "upcoming_matches_info['Event'] = upcoming_matches_info['Event'].apply(format_event)\n",
    "\n",
    "upcoming_matches_info"
   ],
   "id": "bc9c927dea557fe4",
   "outputs": [],
   "execution_count": null
  },
  {
   "metadata": {},
   "cell_type": "code",
   "source": "upcoming_matches_info = upcoming_matches_info.rename(columns={'Tournament': 'Location'})",
   "id": "a7836d011af8332d",
   "outputs": [],
   "execution_count": null
  },
  {
   "metadata": {},
   "cell_type": "code",
   "source": "#upcoming_matches_info.to_csv('../data/upcoming_matches_info_clean.csv')",
   "id": "19b2caa616abd266",
   "outputs": [],
   "execution_count": null
  },
  {
   "metadata": {},
   "cell_type": "code",
   "source": [
    "# group by tournament\n",
    "tournaments = upcoming_matches_info.copy()\n",
    "tournaments = tournaments.groupby('Event').agg({'Location': 'first', 'Surface': 'first', 'Date': 'first'}).reset_index()\n",
    "tournaments = tournaments.dropna()\n",
    "tournaments"
   ],
   "id": "3fb7ce790c3272e5",
   "outputs": [],
   "execution_count": null
  },
  {
   "metadata": {},
   "cell_type": "code",
   "source": "#tournaments.to_csv('../data/tournaments.csv', index=False)",
   "id": "903685637eaf8853",
   "outputs": [],
   "execution_count": null
  }
 ],
 "metadata": {
  "kernelspec": {
   "display_name": "Python 3",
   "language": "python",
   "name": "python3"
  },
  "language_info": {
   "codemirror_mode": {
    "name": "ipython",
    "version": 2
   },
   "file_extension": ".py",
   "mimetype": "text/x-python",
   "name": "python",
   "nbconvert_exporter": "python",
   "pygments_lexer": "ipython2",
   "version": "2.7.6"
  }
 },
 "nbformat": 4,
 "nbformat_minor": 5
}
