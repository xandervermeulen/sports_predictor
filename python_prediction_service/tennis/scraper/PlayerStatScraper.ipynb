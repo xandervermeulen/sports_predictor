{
 "cells": [
  {
   "metadata": {},
   "cell_type": "markdown",
   "source": [
    "# Retrieve the Stats of all the players\n",
    "using the `players_urls.csv` file"
   ],
   "id": "d531ce2323ab0e88"
  },
  {
   "metadata": {
    "ExecuteTime": {
     "end_time": "2024-05-15T12:11:24.718948Z",
     "start_time": "2024-05-15T12:11:24.712746Z"
    }
   },
   "cell_type": "code",
   "source": [
    "import pandas as pd\n",
    "import requests\n",
    "import re"
   ],
   "id": "c4c35d35476fd90e",
   "execution_count": 33,
   "outputs": []
  },
  {
   "metadata": {
    "ExecuteTime": {
     "end_time": "2024-05-15T12:11:24.734847Z",
     "start_time": "2024-05-15T12:11:24.722829Z"
    }
   },
   "cell_type": "code",
   "source": [
    "headers = {\n",
    "    \"Accept\": \"text/html,application/xhtml+xml,application/xml;q=0.9,image/webp,*/*;q=0.8\",\n",
    "    \"User-Agent\": \"Mozilla/5.0 (Windows NT 10.0; Win64; x64) AppleWebKit/537.36 (KHTML, like Gecko) Chrome/58.0.3029.110 Safari/537.3\"\n",
    "}"
   ],
   "id": "50cf9d7dc1c1355f",
   "execution_count": 34,
   "outputs": []
  },
  {
   "cell_type": "code",
   "id": "initial_id",
   "metadata": {
    "collapsed": true,
    "ExecuteTime": {
     "end_time": "2024-05-15T12:11:24.766846Z",
     "start_time": "2024-05-15T12:11:24.742848Z"
    }
   },
   "source": [
    "player_urls = pd.read_csv('../data/player_urls.csv')\n",
    "# drop the first column\n",
    "player_urls = player_urls.drop(player_urls.columns[0], axis=1)\n",
    "# dont show the index\n",
    "player_urls"
   ],
   "execution_count": 35,
   "outputs": []
  },
  {
   "metadata": {},
   "cell_type": "markdown",
   "source": "#### Add overall stats and image to the player_urls dataframe",
   "id": "3bac65db2da5d4af"
  },
  {
   "metadata": {
    "ExecuteTime": {
     "end_time": "2024-05-15T12:11:24.781830Z",
     "start_time": "2024-05-15T12:11:24.767849Z"
    }
   },
   "cell_type": "code",
   "source": "hand_pattern =  r\"var hand = \\'(\\w)\\';\"",
   "id": "7beb687cc6ec8651",
   "execution_count": 36,
   "outputs": []
  },
  {
   "metadata": {},
   "cell_type": "markdown",
   "source": "### Get the hand of the player",
   "id": "ee997de1fb6f9164"
  },
  {
   "metadata": {
    "ExecuteTime": {
     "end_time": "2024-05-15T12:11:25.382134Z",
     "start_time": "2024-05-15T12:11:24.782829Z"
    }
   },
   "cell_type": "code",
   "source": [
    "url = \"https://www.tennisabstract.com/cgi-bin/player.cgi?p=StefanosTsitsipas\"\n",
    "response = requests.get(url, headers=headers)\n",
    "match = re.search(hand_pattern, response.text)\n",
    "if match:\n",
    "    hand_value = match.group(1)\n",
    "    print(\"Hand:\", hand_value)\n",
    "else:\n",
    "    print(\"Hand value not found.\")"
   ],
   "id": "b3c54ebdeb553f8c",
   "execution_count": 37,
   "outputs": []
  },
  {
   "metadata": {},
   "cell_type": "markdown",
   "source": "### Get the image of the player",
   "id": "cccb096ad31782c9"
  },
  {
   "metadata": {
    "ExecuteTime": {
     "end_time": "2024-05-15T12:11:25.912943Z",
     "start_time": "2024-05-15T12:11:25.383139Z"
    }
   },
   "cell_type": "code",
   "source": [
    "img = \"https://www.tennisabstract.com/photos/stefanos_tsitsipas-sirobi.jpg\"\n",
    "# get the url of the image\n",
    "response = requests.get(img, headers)\n",
    "if response.status_code == 200 or 304:\n",
    "    print(\"Image found\")\n",
    "else:\n",
    "    print(\"Image not found\")"
   ],
   "id": "859f8806080b7617",
   "execution_count": 38,
   "outputs": []
  },
  {
   "metadata": {},
   "cell_type": "markdown",
   "source": "### Example for 1 player",
   "id": "3cb55b36679a7b37"
  },
  {
   "metadata": {
    "ExecuteTime": {
     "end_time": "2024-05-15T12:11:26.896339Z",
     "start_time": "2024-05-15T12:11:25.913943Z"
    }
   },
   "cell_type": "code",
   "source": [
    "from bs4 import BeautifulSoup\n",
    "\n",
    "url = \"https://www.minorleaguesplits.com/tennisabstract/cgi-bin/frags/CasperRuud.js\"\n",
    "response = requests.get(url, headers=headers)\n",
    "# print the table with id recent-results\n",
    "soup = BeautifulSoup(response.text, 'html.parser')\n",
    "# get the table with id recent-results\n",
    "table = soup.find('table', {'id': 'recent-results'})\n",
    "# print the table\n",
    "rows = table.find('tbody').find_all('tr')"
   ],
   "id": "6b3faec280c832c4",
   "execution_count": 39,
   "outputs": []
  },
  {
   "metadata": {
    "ExecuteTime": {
     "end_time": "2024-05-15T12:11:26.927853Z",
     "start_time": "2024-05-15T12:11:26.897322Z"
    }
   },
   "cell_type": "code",
   "source": [
    "ruud_df = pd.DataFrame(columns=['Date', 'Tournament', 'Surface', 'Round in Tournament', 'Ranking at that time', 'Opponent Ranking at that time', 'Result', 'Winner','Loser',  'Set Scores', 'Dominance Ratio', 'Ace Ratio', 'Double Fault Ratio', 'First Serve Percentage', 'First Serve Points Won', 'Second Serve Points Won', 'Break Points Saved', 'Time'])\n",
    "\n",
    "# print len of rows\n",
    "for row in rows:\n",
    "    cells = row.find_all('td')\n",
    "    date = cells[0].text.strip()\n",
    "    tournament = cells[1].text.strip()\n",
    "    surface = cells[2].text.strip()\n",
    "    round_in_tour = cells[3].text.strip()\n",
    "    ranking_at_that_time = cells[4].text.strip()\n",
    "    opponent_ranking_at_that_time = cells[5].text.strip()\n",
    "    result = cells[6].text.strip()\n",
    "    set_scores = cells[7].text.strip()\n",
    "    dominance_ratio = cells[8].text.strip() # Dominance Ratio: % of return points won divided by % of serve points lost.\n",
    "    ace_ratio = cells[9].text.strip() \n",
    "    double_fault_ratio = cells[10].text.strip()\n",
    "    first_serve_perc = cells[11].text.strip()\n",
    "    first_serve_points_won = cells[12].text.strip()\n",
    "    second_serve_points_won = cells[13].text.strip()\n",
    "    break_points_saved = cells[14].text.strip()\n",
    "    time = cells[15].text.strip()\n",
    "    # split the result\n",
    "    results = result.split(\"d.\")\n",
    "    winner = results[0].strip()\n",
    "    # remove everything between [] and () and remove spaces at the beginning and end\n",
    "    winner = re.sub(r'\\[.*?\\]|\\(.*?\\)|\\s', '', winner)\n",
    "    loser = results[1].strip()\n",
    "    loser = re.sub(r'\\[.*?\\]|\\(.*?\\)|\\s', '', loser)\n",
    "    # Append to DataFrame\n",
    "    row_data = {'Date': date, 'Tournament': tournament, 'Surface': surface, 'Round in Tournament': round_in_tour, 'Ranking at that time': ranking_at_that_time, 'Opponent Ranking at that time': opponent_ranking_at_that_time, 'Result': result, 'Winner': winner, 'Loser': loser, 'Set Scores': set_scores, 'Dominance Ratio': dominance_ratio, 'Ace Ratio': ace_ratio, 'Double Fault Ratio': double_fault_ratio, 'First Serve Percentage': first_serve_perc, 'First Serve Points Won': first_serve_points_won, 'Second Serve Points Won': second_serve_points_won, 'Break Points Saved': break_points_saved, 'Time': time}\n",
    "    ruud_df = pd.concat([ruud_df, pd.DataFrame([row_data])], ignore_index=True)\n",
    "\n",
    "ruud_df"
   ],
   "id": "855315856a5502f",
   "execution_count": 40,
   "outputs": []
  },
  {
   "metadata": {},
   "cell_type": "markdown",
   "source": "### Get the stats for all the players",
   "id": "fae5926beb786a30"
  },
  {
   "metadata": {
    "ExecuteTime": {
     "end_time": "2024-05-15T12:11:26.943839Z",
     "start_time": "2024-05-15T12:11:26.928837Z"
    }
   },
   "cell_type": "code",
   "source": [
    "def clean_player_name(name):\n",
    "    # Remove everything between [], (), and extra spaces\n",
    "    cleaned_name = re.sub(r'\\[.*?\\]|\\(.*?\\)|\\s', '', name).strip()\n",
    "    return cleaned_name"
   ],
   "id": "40b40ce33aac2a72",
   "execution_count": 41,
   "outputs": []
  },
  {
   "metadata": {
    "ExecuteTime": {
     "end_time": "2024-05-15T12:17:11.888466Z",
     "start_time": "2024-05-15T12:11:26.945838Z"
    }
   },
   "cell_type": "code",
   "source": [
    "BASE_URL = \"https://www.minorleaguesplits.com/tennisabstract/cgi-bin/frags/\"\n",
    "upcoming_df = pd.DataFrame(columns=[ 'Date', 'Tournament', 'Surface', 'Results'])\n",
    "x = 0\n",
    "all_matches_df = pd.DataFrame(columns=['Date', 'Tournament', 'Surface', 'Round in Tournament', 'Ranking at that time', 'Opponent Ranking at that time', 'Result', 'Winner','Loser',  'Set Scores', 'Dominance Ratio', 'Ace Ratio', 'Double Fault Ratio', 'First Serve Percentage', 'First Serve Points Won', 'Second Serve Points Won', 'Break Points Saved', 'Time'])\n",
    "for player in player_urls.iterrows():\n",
    "    print(f\"Player {x}\")\n",
    "    if x < 500:\n",
    "        player_name = player[1]['name']\n",
    "        # remove all spaces\n",
    "        player_name = re.sub(r'\\s', '', player_name)\n",
    "        url = BASE_URL + player_name + \".js\"\n",
    "        response = requests.get(url, headers=headers)\n",
    "        soup = BeautifulSoup(response.text, 'html.parser')\n",
    "        # get the table with id recent-results\n",
    "        table = soup.find('table', {'id': 'recent-results'})\n",
    "        # print the table\n",
    "        rows = table.find('tbody').find_all('tr')\n",
    "        for row in rows:\n",
    "            cells = row.find_all('td')\n",
    "            date = cells[0].text.strip()\n",
    "            tournament = cells[1].text.strip()\n",
    "            surface = cells[2].text.strip()\n",
    "            round_in_tour = cells[3].text.strip()\n",
    "            ranking_at_that_time = cells[4].text.strip()\n",
    "            opponent_ranking_at_that_time = cells[5].text.strip()\n",
    "            result = cells[6].text.strip()\n",
    "            set_scores = cells[7].text.strip()\n",
    "            # check if the set_scores is empty\n",
    "            if set_scores == \"\":\n",
    "                upcoming_df = pd.concat([upcoming_df, pd.DataFrame([{'Date': date, 'Tournament': tournament, 'Surface': surface, 'Results': result}])], ignore_index=True)\n",
    "                continue\n",
    "            dominance_ratio = cells[8].text.strip() # Dominance Ratio: % of return points won divided by % of serve points lost.\n",
    "            ace_ratio = cells[9].text.strip() \n",
    "            double_fault_ratio = cells[10].text.strip()\n",
    "            first_serve_perc = cells[11].text.strip()\n",
    "            first_serve_points_won = cells[12].text.strip()\n",
    "            second_serve_points_won = cells[13].text.strip()\n",
    "            break_points_saved = cells[14].text.strip()\n",
    "            time = cells[15].text.strip()\n",
    "            # split the result\n",
    "            results = result.split(\"d.\")\n",
    "            winner = clean_player_name(results[0])\n",
    "            loser = clean_player_name(results[1])\n",
    "            # Append to DataFrame\n",
    "            row_data = {'Date': date, 'Tournament': tournament, 'Surface': surface, 'Round in Tournament': round_in_tour, 'Ranking at that time': ranking_at_that_time, 'Opponent Ranking at that time': opponent_ranking_at_that_time, 'Result': result, 'Winner': winner, 'Loser': loser, 'Set Scores': set_scores, 'Dominance Ratio': dominance_ratio, 'Ace Ratio': ace_ratio, 'Double Fault Ratio': double_fault_ratio, 'First Serve Percentage': first_serve_perc, 'First Serve Points Won': first_serve_points_won, 'Second Serve Points Won': second_serve_points_won, 'Break Points Saved': break_points_saved, 'Time': time}\n",
    "            \n",
    "            all_matches_df = pd.concat([all_matches_df, pd.DataFrame([row_data])], ignore_index=True)\n",
    "    x += 1    \n",
    "all_matches_df"
   ],
   "id": "e0e11b8a8a5a3e37",
   "execution_count": 42,
   "outputs": []
  },
  {
   "metadata": {
    "ExecuteTime": {
     "end_time": "2024-05-15T12:17:19.055490Z",
     "start_time": "2024-05-15T12:17:19.004705Z"
    }
   },
   "cell_type": "code",
   "source": "all_matches_df.to_csv(\"../data/all_matches_data_raw.csv\")",
   "id": "615b7b021b6eb081",
   "execution_count": 43,
   "outputs": []
  },
  {
   "metadata": {
    "ExecuteTime": {
     "end_time": "2024-05-15T12:17:20.345324Z",
     "start_time": "2024-05-15T12:17:20.325323Z"
    }
   },
   "cell_type": "code",
   "source": "all_matches_df",
   "id": "599632f3cd023c5d",
   "execution_count": 44,
   "outputs": []
  },
  {
   "metadata": {
    "ExecuteTime": {
     "end_time": "2024-05-15T12:17:22.623345Z",
     "start_time": "2024-05-15T12:17:22.605873Z"
    }
   },
   "cell_type": "code",
   "source": [
    "# check the len\n",
    "len(all_matches_df)"
   ],
   "id": "bcaa11d80e0f29cb",
   "execution_count": 45,
   "outputs": []
  },
  {
   "metadata": {
    "ExecuteTime": {
     "end_time": "2024-05-15T12:17:25.030895Z",
     "start_time": "2024-05-15T12:17:25.019900Z"
    }
   },
   "cell_type": "code",
   "source": "upcoming_df",
   "id": "ffd7556ca753cc14",
   "execution_count": 46,
   "outputs": []
  },
  {
   "metadata": {
    "ExecuteTime": {
     "end_time": "2024-05-15T12:17:27.612880Z",
     "start_time": "2024-05-15T12:17:27.598449Z"
    }
   },
   "cell_type": "code",
   "source": "upcoming_df.to_csv(\"../data/upcoming_matches_info.csv\")",
   "id": "d32fecd44ad132cc",
   "execution_count": 47,
   "outputs": []
  }
 ],
 "metadata": {
  "kernelspec": {
   "display_name": "Python 3",
   "language": "python",
   "name": "python3"
  },
  "language_info": {
   "codemirror_mode": {
    "name": "ipython",
    "version": 2
   },
   "file_extension": ".py",
   "mimetype": "text/x-python",
   "name": "python",
   "nbconvert_exporter": "python",
   "pygments_lexer": "ipython2",
   "version": "2.7.6"
  }
 },
 "nbformat": 4,
 "nbformat_minor": 5
}
