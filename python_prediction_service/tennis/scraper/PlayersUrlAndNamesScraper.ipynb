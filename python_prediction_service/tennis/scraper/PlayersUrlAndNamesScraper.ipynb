{
 "cells": [
  {
   "metadata": {},
   "cell_type": "markdown",
   "source": "# Get players from tennisabstract.com",
   "id": "b08bc979fa56fa0a"
  },
  {
   "metadata": {
    "ExecuteTime": {
     "end_time": "2024-05-29T08:06:27.048017Z",
     "start_time": "2024-05-29T08:06:26.083659Z"
    }
   },
   "cell_type": "code",
   "source": [
    "import pandas as pd\n",
    "import requests\n",
    "from bs4 import BeautifulSoup"
   ],
   "id": "66aa39763d17c621",
   "execution_count": 1,
   "outputs": []
  },
  {
   "cell_type": "code",
   "id": "initial_id",
   "metadata": {
    "collapsed": true,
    "ExecuteTime": {
     "end_time": "2024-05-29T08:06:27.064017Z",
     "start_time": "2024-05-29T08:06:27.050018Z"
    }
   },
   "source": [
    "PLAYER_URL = \"https://tennisabstract.com/reports/atpRankings.html\"\n",
    "headers = {\n",
    "    \"Accept\": \"text/html,application/xhtml+xml,application/xml;q=0.9,image/webp,*/*;q=0.8\",\n",
    "    \"User-Agent\": \"Mozilla/5.0 (Windows NT 10.0; Win64; x64) AppleWebKit/537.36 (KHTML, like Gecko) Chrome/58.0.3029.110 Safari/537.3\"\n",
    "}"
   ],
   "execution_count": 2,
   "outputs": []
  },
  {
   "metadata": {},
   "cell_type": "markdown",
   "source": "",
   "id": "45eba05a28d7a03d"
  },
  {
   "metadata": {
    "ExecuteTime": {
     "end_time": "2024-05-29T08:06:28.971576Z",
     "start_time": "2024-05-29T08:06:28.000797Z"
    }
   },
   "cell_type": "code",
   "source": [
    "response = requests.get(PLAYER_URL, headers=headers)\n",
    "response.status_code"
   ],
   "id": "308d2344a6861dbb",
   "execution_count": 3,
   "outputs": []
  },
  {
   "metadata": {
    "ExecuteTime": {
     "end_time": "2024-05-29T08:06:39.324914Z",
     "start_time": "2024-05-29T08:06:39.319797Z"
    }
   },
   "cell_type": "code",
   "source": [
    "players = pd.DataFrame(columns=[\"player_id\", \"rank\",\"name\", \"nationality\", \"date_of_birth\"])\n",
    "player_data = [] "
   ],
   "id": "ba7f0b025b26c469",
   "execution_count": 5,
   "outputs": []
  },
  {
   "metadata": {
    "ExecuteTime": {
     "end_time": "2024-05-28T21:15:27.173557Z",
     "start_time": "2024-05-28T21:15:26.666624Z"
    }
   },
   "cell_type": "code",
   "source": [
    "if response.status_code == 200:\n",
    "    x = 0\n",
    "    soup = BeautifulSoup(response.content, \"html.parser\")\n",
    "    player_table = soup.find(\"table\", class_=\"tablesorter\")\n",
    "    if player_table:\n",
    "        tr_player_elements = player_table.find_all(\"tr\")\n",
    "        first_row_skipped = False\n",
    "        \n",
    "        for player_elem in tr_player_elements:\n",
    "            if not first_row_skipped:\n",
    "                first_row_skipped = True\n",
    "                continue\n",
    "            td_elems = player_elem.find_all(\"td\")\n",
    "            if td_elems:\n",
    "                rank = td_elems[0].text.strip() \n",
    "                player_url = td_elems[1].find(\"a\")[\"href\"] \n",
    "                player_name = td_elems[1].text.strip().replace(\"\\xa0\", \" \")  \n",
    "                nationality = td_elems[2].text.strip()\n",
    "                dob = td_elems[3].text.strip() \n",
    "                player_data.append({\n",
    "                    \"player_id\": x,\n",
    "                    \"rank\": rank,\n",
    "                    \"player_url\": player_url,\n",
    "                    \"name\": player_name,\n",
    "                    \"nationality\": nationality,\n",
    "                    \"date_of_birth\": dob\n",
    "                })\n",
    "                x+=1\n",
    "players = pd.concat([players, pd.DataFrame(player_data)], ignore_index=True)\n",
    "\n",
    "# Display the DataFrame\n",
    "players"
   ],
   "id": "7d727a97be36df28",
   "execution_count": 5,
   "outputs": []
  },
  {
   "metadata": {
    "ExecuteTime": {
     "end_time": "2024-05-15T12:47:48.676866Z",
     "start_time": "2024-05-15T12:47:48.661831Z"
    }
   },
   "cell_type": "code",
   "source": "players",
   "id": "2793a724dc09ad32",
   "execution_count": 15,
   "outputs": []
  },
  {
   "metadata": {
    "ExecuteTime": {
     "end_time": "2024-05-15T12:47:48.692853Z",
     "start_time": "2024-05-15T12:47:48.677851Z"
    }
   },
   "cell_type": "code",
   "source": "players.to_csv(\"../data/player_urls.csv\")",
   "id": "4a5fe54e2bb8d3a6",
   "execution_count": 16,
   "outputs": []
  }
 ],
 "metadata": {
  "kernelspec": {
   "display_name": "Python 3",
   "language": "python",
   "name": "python3"
  },
  "language_info": {
   "codemirror_mode": {
    "name": "ipython",
    "version": 2
   },
   "file_extension": ".py",
   "mimetype": "text/x-python",
   "name": "python",
   "nbconvert_exporter": "python",
   "pygments_lexer": "ipython2",
   "version": "2.7.6"
  }
 },
 "nbformat": 4,
 "nbformat_minor": 5
}
