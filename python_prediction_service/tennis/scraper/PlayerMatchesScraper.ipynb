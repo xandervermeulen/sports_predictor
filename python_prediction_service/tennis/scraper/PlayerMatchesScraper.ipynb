{
 "cells": [
  {
   "metadata": {},
   "cell_type": "markdown",
   "source": [
    "# Retrieve the Stats of all the players\n",
    "using the `players_urls.csv` file"
   ],
   "id": "d531ce2323ab0e88"
  },
  {
   "metadata": {
    "ExecuteTime": {
     "end_time": "2024-06-05T10:05:25.092403Z",
     "start_time": "2024-06-05T10:05:24.560338Z"
    }
   },
   "cell_type": "code",
   "source": [
    "import requests\n",
    "import re\n",
    "import pandas as pd\n",
    "from selenium import webdriver\n",
    "from selenium.webdriver.chrome.service import Service as ChromeService\n",
    "from selenium.webdriver.chrome.options import Options\n",
    "from selenium.webdriver.common.by import By\n",
    "from selenium.webdriver.support.ui import WebDriverWait\n",
    "from selenium.webdriver.support import expected_conditions as EC\n",
    "from concurrent.futures import ThreadPoolExecutor, as_completed\n",
    "from bs4 import BeautifulSoup"
   ],
   "id": "c4c35d35476fd90e",
   "execution_count": 1,
   "outputs": []
  },
  {
   "metadata": {
    "ExecuteTime": {
     "end_time": "2024-06-05T10:05:25.107858Z",
     "start_time": "2024-06-05T10:05:25.093041Z"
    }
   },
   "cell_type": "code",
   "source": [
    "headers = {\n",
    "    \"Accept\": \"text/html,application/xhtml+xml,application/xml;q=0.9,image/webp,*/*;q=0.8\",\n",
    "    \"User-Agent\": \"Mozilla/5.0 (Windows NT 10.0; Win64; x64) AppleWebKit/537.36 (KHTML, like Gecko) Chrome/58.0.3029.110 Safari/537.3\"\n",
    "}"
   ],
   "id": "50cf9d7dc1c1355f",
   "execution_count": 2,
   "outputs": []
  },
  {
   "cell_type": "code",
   "id": "initial_id",
   "metadata": {
    "collapsed": true,
    "ExecuteTime": {
     "end_time": "2024-06-05T10:05:25.123230Z",
     "start_time": "2024-06-05T10:05:25.109027Z"
    }
   },
   "source": [
    "player_urls = pd.read_csv('../data/player_urls.csv')\n",
    "# drop the first column\n",
    "player_urls"
   ],
   "execution_count": 3,
   "outputs": []
  },
  {
   "metadata": {},
   "cell_type": "markdown",
   "source": "#### Add overall stats and image to the player_urls dataframe",
   "id": "3bac65db2da5d4af"
  },
  {
   "metadata": {
    "ExecuteTime": {
     "end_time": "2024-06-05T10:05:25.138288Z",
     "start_time": "2024-06-05T10:05:25.124879Z"
    }
   },
   "cell_type": "code",
   "source": "hand_pattern =  r\"var hand = \\'(\\w)\\';\"",
   "id": "7beb687cc6ec8651",
   "execution_count": 4,
   "outputs": []
  },
  {
   "metadata": {},
   "cell_type": "markdown",
   "source": "### Get the hand of the player",
   "id": "ee997de1fb6f9164"
  },
  {
   "metadata": {
    "ExecuteTime": {
     "end_time": "2024-06-05T10:05:25.726320Z",
     "start_time": "2024-06-05T10:05:25.140286Z"
    }
   },
   "cell_type": "code",
   "source": [
    "url = \"https://www.tennisabstract.com/cgi-bin/player.cgi?p=StefanosTsitsipas\"\n",
    "response = requests.get(url, headers=headers)\n",
    "match = re.search(hand_pattern, response.text)\n",
    "if match:\n",
    "    hand_value = match.group(1)\n",
    "    print(\"Hand:\", hand_value)\n",
    "else:\n",
    "    print(\"Hand value not found.\")"
   ],
   "id": "b3c54ebdeb553f8c",
   "execution_count": 5,
   "outputs": []
  },
  {
   "metadata": {},
   "cell_type": "markdown",
   "source": "### Get the image of the player",
   "id": "cccb096ad31782c9"
  },
  {
   "metadata": {
    "ExecuteTime": {
     "end_time": "2024-06-05T10:05:26.273444Z",
     "start_time": "2024-06-05T10:05:25.727324Z"
    }
   },
   "cell_type": "code",
   "source": [
    "img = \"https://www.tennisabstract.com/photos/stefanos_tsitsipas-sirobi.jpg\"\n",
    "# get the url of the image\n",
    "response = requests.get(img, headers)\n",
    "if response.status_code == 200 or 304:\n",
    "    print(\"Image found\")\n",
    "else:\n",
    "    print(\"Image not found\")"
   ],
   "id": "859f8806080b7617",
   "execution_count": 6,
   "outputs": []
  },
  {
   "metadata": {},
   "cell_type": "markdown",
   "source": "### Get the stats for all the players",
   "id": "fae5926beb786a30"
  },
  {
   "metadata": {
    "ExecuteTime": {
     "end_time": "2024-06-05T10:05:26.288279Z",
     "start_time": "2024-06-05T10:05:26.275089Z"
    }
   },
   "cell_type": "code",
   "source": [
    "def clean_player_name(name):\n",
    "    # Remove everything between [], (), and extra spaces\n",
    "    cleaned_name = re.sub(r'\\[.*?\\]|\\(.*?\\)|\\s', '', name).strip()\n",
    "    return cleaned_name"
   ],
   "id": "40b40ce33aac2a72",
   "execution_count": 7,
   "outputs": []
  },
  {
   "metadata": {
    "ExecuteTime": {
     "end_time": "2024-06-05T10:05:26.303271Z",
     "start_time": "2024-06-05T10:05:26.289281Z"
    }
   },
   "cell_type": "code",
   "source": [
    "\n",
    "def get_html_of_page1(url):\n",
    "    options = Options()\n",
    "    options.headless = True\n",
    "    service = ChromeService(executable_path='../../config/chromedriver-win64/chromedriver-win64/chromedriver.exe')\n",
    "    browser = webdriver.Chrome(service=service, options=options)\n",
    "    browser.get(url)\n",
    "    WebDriverWait(browser, 20).until(\n",
    "        EC.presence_of_element_located((By.ID, 'matches'))\n",
    "    )\n",
    "    html = browser.page_source\n",
    "    browser.quit()\n",
    "    return html"
   ],
   "id": "cec5fba17662b257",
   "execution_count": 8,
   "outputs": []
  },
  {
   "metadata": {
    "ExecuteTime": {
     "end_time": "2024-06-05T10:05:26.319036Z",
     "start_time": "2024-06-05T10:05:26.304776Z"
    }
   },
   "cell_type": "code",
   "source": [
    "def add_space_before_uppercase(s):\n",
    "    return re.sub(r'([A-Z])', r' \\1', s).strip()"
   ],
   "id": "e681b28f04b0a34e",
   "execution_count": 9,
   "outputs": []
  },
  {
   "metadata": {
    "ExecuteTime": {
     "end_time": "2024-06-05T10:05:26.333724Z",
     "start_time": "2024-06-05T10:05:26.320134Z"
    }
   },
   "cell_type": "code",
   "source": [
    "def get_html_of_page(url):\n",
    "    options = Options()\n",
    "    options.headless = True\n",
    "    service = ChromeService(executable_path='../../config/chromedriver-win64/chromedriver-win64/chromedriver.exe')\n",
    "    with webdriver.Chrome(service=service, options=options) as browser:\n",
    "        browser.get(url)\n",
    "        WebDriverWait(browser, 20).until(EC.presence_of_element_located((By.ID, 'matches')))\n",
    "        return browser.page_source"
   ],
   "id": "48777e3fc641c416",
   "execution_count": 10,
   "outputs": []
  },
  {
   "metadata": {
    "ExecuteTime": {
     "end_time": "2024-06-05T10:05:26.348923Z",
     "start_time": "2024-06-05T10:05:26.335365Z"
    }
   },
   "cell_type": "code",
   "source": [
    "def parse_match_row(row):\n",
    "    cells = row.find_all('td')\n",
    "    return {\n",
    "        'Date': cells[0].text.strip(),\n",
    "        'Tournament': cells[1].text.strip(),\n",
    "        'Surface': cells[2].text.strip(),\n",
    "        'Round in Tournament': cells[3].text.strip(),\n",
    "        'Ranking at that time': cells[4].text.strip(),\n",
    "        'Opponent Ranking at that time': cells[5].text.strip(),\n",
    "        'Result': cells[6].text.strip(),\n",
    "        'Set Scores': cells[7].text.strip(),\n",
    "        'Dominance Ratio': cells[9].text.strip(),\n",
    "        'Ace Ratio': cells[10].text.strip(),\n",
    "        'Double Fault Ratio': cells[11].text.strip(),\n",
    "        'First Serve Percentage': cells[12].text.strip(),\n",
    "        'First Serve Points Won': cells[13].text.strip(),\n",
    "        'Second Serve Points Won': cells[14].text.strip(),\n",
    "        'Break Points Saved': cells[15].text.strip(),\n",
    "        'Time': cells[16].text.strip()\n",
    "    }"
   ],
   "id": "cb4277cf63ca7b44",
   "execution_count": 11,
   "outputs": []
  },
  {
   "metadata": {
    "ExecuteTime": {
     "end_time": "2024-06-05T10:05:26.364891Z",
     "start_time": "2024-06-05T10:05:26.350921Z"
    }
   },
   "cell_type": "code",
   "source": [
    "def process_player(player):\n",
    "    player_name = re.sub(r'\\s', '', player['name'])\n",
    "    print(\"Player Name:\", player_name)\n",
    "    url = MATCHES_URL.format(player_name)\n",
    "    player_html = get_html_of_page(url)\n",
    "    soup = BeautifulSoup(player_html, 'html.parser')\n",
    "    table = soup.find('table', {'id': 'matches'})\n",
    "    player_matches = []\n",
    "    upcoming_matches = []\n",
    "    if table:\n",
    "        rows = table.find('tbody').find_all('tr')\n",
    "        for row in rows:\n",
    "            match_data = parse_match_row(row)\n",
    "            result = match_data['Result']\n",
    "            set_scores = match_data['Set Scores']\n",
    "            full_name = add_space_before_uppercase(player_name)\n",
    "            if 'd.' in result and not set_scores:\n",
    "                continue\n",
    "            if (set_scores == \"\" or set_scores == 'Live Scores')  and 'vs' in result:\n",
    "                print(f'Upcoming match: {result}')\n",
    "                upcoming_matches.append({\n",
    "                    'Date': match_data['Date'],\n",
    "                    'Tournament': match_data['Tournament'],\n",
    "                    'Surface': match_data['Surface'],\n",
    "                    'Results': result,\n",
    "                    'player': full_name\n",
    "                })\n",
    "                continue\n",
    "            winner, loser = map(clean_player_name, result.split(\"d.\"))\n",
    "            match_data.update({'Winner': winner, 'Loser': loser, 'player_name': full_name})\n",
    "            player_matches.append(match_data)\n",
    "    return player_matches, upcoming_matches"
   ],
   "id": "90cf5308873771cf",
   "execution_count": 12,
   "outputs": []
  },
  {
   "metadata": {
    "ExecuteTime": {
     "end_time": "2024-06-05T10:11:54.307577Z",
     "start_time": "2024-06-05T10:05:26.366145Z"
    }
   },
   "cell_type": "code",
   "source": [
    "MATCHES_URL = \"https://www.tennisabstract.com/cgi-bin/player-classic.cgi?p={}&f=ACareerqq\"\n",
    "all_matches = []\n",
    "upcoming_matches = []\n",
    "\n",
    "with ThreadPoolExecutor(max_workers=15) as executor:\n",
    "    future_to_player = {executor.submit(process_player, player): player for _, player in player_urls.iterrows()}\n",
    "    for future in as_completed(future_to_player):\n",
    "        player_matches, player_upcoming_matches = future.result()\n",
    "        all_matches.extend(player_matches)\n",
    "        upcoming_matches.extend(player_upcoming_matches)\n",
    "\n",
    "all_matches_df = pd.DataFrame(all_matches)\n",
    "upcoming_df = pd.DataFrame(upcoming_matches)"
   ],
   "id": "e11dd1fbf92818fe",
   "execution_count": 13,
   "outputs": []
  },
  {
   "metadata": {
    "ExecuteTime": {
     "end_time": "2024-06-05T11:02:33.642034Z",
     "start_time": "2024-06-05T11:02:33.416176Z"
    }
   },
   "cell_type": "code",
   "source": [
    "all_matches_df = pd.DataFrame(all_matches)\n",
    "upcoming_df = pd.DataFrame(upcoming_matches)"
   ],
   "id": "7a7abe1c78d052f9",
   "execution_count": 14,
   "outputs": []
  },
  {
   "metadata": {
    "ExecuteTime": {
     "end_time": "2024-06-05T11:02:35.616072Z",
     "start_time": "2024-06-05T11:02:35.602023Z"
    }
   },
   "cell_type": "code",
   "source": "all_matches_df",
   "id": "eaec7ac8e5e3b616",
   "execution_count": 15,
   "outputs": []
  },
  {
   "metadata": {
    "ExecuteTime": {
     "end_time": "2024-06-05T11:02:39.095931Z",
     "start_time": "2024-06-05T11:02:39.088865Z"
    }
   },
   "cell_type": "code",
   "source": "print(f'Size of the df: {len(all_matches_df)}')",
   "id": "dcdfe14612f30971",
   "execution_count": 16,
   "outputs": []
  },
  {
   "metadata": {},
   "cell_type": "markdown",
   "source": "",
   "id": "4929e7e16089eb35"
  },
  {
   "metadata": {
    "ExecuteTime": {
     "end_time": "2024-06-05T11:02:48.523489Z",
     "start_time": "2024-06-05T11:02:41.391015Z"
    }
   },
   "cell_type": "code",
   "source": [
    "import config.ConnectionConfig as cc\n",
    "\n",
    "\n",
    "cc.setupEnvironment()\n",
    "spark = cc.startLocalCluster(\"Tennis Predictions\")\n",
    "spark.getActiveSession()"
   ],
   "id": "e73b5b5c13825d53",
   "execution_count": 17,
   "outputs": []
  },
  {
   "metadata": {
    "ExecuteTime": {
     "end_time": "2024-06-05T11:03:10.333130Z",
     "start_time": "2024-06-05T11:02:50.418179Z"
    }
   },
   "cell_type": "code",
   "source": [
    "spark_df = spark.createDataFrame(all_matches_df)\n",
    "spark_df.write.csv(\"../data/all_matches_spark.csv\", header=True, mode='overwrite')"
   ],
   "id": "ec7cd61617a01f1",
   "execution_count": 18,
   "outputs": []
  },
  {
   "metadata": {},
   "cell_type": "code",
   "source": "# all_matches_df.to_csv('../data/full_matches_data_raw.csv', index=False)",
   "id": "88e18ef9b3fb9c8",
   "execution_count": null,
   "outputs": []
  },
  {
   "metadata": {},
   "cell_type": "code",
   "source": "upcoming_df",
   "id": "b7292f4fc490af84",
   "execution_count": null,
   "outputs": []
  },
  {
   "metadata": {},
   "cell_type": "code",
   "source": "#upcoming_df.to_csv(\"../data/upcoming_matches_info.csv\")",
   "id": "c6b38fb58682ff53",
   "execution_count": null,
   "outputs": []
  }
 ],
 "metadata": {
  "kernelspec": {
   "display_name": "Python 3",
   "language": "python",
   "name": "python3"
  },
  "language_info": {
   "codemirror_mode": {
    "name": "ipython",
    "version": 2
   },
   "file_extension": ".py",
   "mimetype": "text/x-python",
   "name": "python",
   "nbconvert_exporter": "python",
   "pygments_lexer": "ipython2",
   "version": "2.7.6"
  }
 },
 "nbformat": 4,
 "nbformat_minor": 5
}
