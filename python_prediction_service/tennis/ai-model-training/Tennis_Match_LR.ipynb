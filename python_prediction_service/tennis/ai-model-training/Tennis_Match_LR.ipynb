{
 "cells": [
  {
   "metadata": {},
   "cell_type": "markdown",
   "source": "# Tennis match prediction with Logistic Regression",
   "id": "d76810a12003b10c"
  },
  {
   "metadata": {
    "ExecuteTime": {
     "end_time": "2024-06-05T12:21:56.558433Z",
     "start_time": "2024-06-05T12:21:55.213221Z"
    }
   },
   "cell_type": "code",
   "source": [
    "import pandas as pd\n",
    "import joblib\n",
    "from sklearn.linear_model import LogisticRegression\n",
    "from sklearn.pipeline import Pipeline\n",
    "from sklearn.model_selection import train_test_split\n",
    "import config.ConnectionConfig as cc"
   ],
   "id": "d53fa850009e1ee4",
   "outputs": [],
   "execution_count": 1
  },
  {
   "metadata": {
    "ExecuteTime": {
     "end_time": "2024-06-05T12:21:56.573587Z",
     "start_time": "2024-06-05T12:21:56.560989Z"
    }
   },
   "cell_type": "code",
   "source": "scaler = joblib.load('../models/tennis_nn_scaler.pkl')",
   "id": "de866ae782d7a3b4",
   "outputs": [],
   "execution_count": 2
  },
  {
   "metadata": {
    "ExecuteTime": {
     "end_time": "2024-06-05T12:22:03.930947Z",
     "start_time": "2024-06-05T12:21:56.575085Z"
    }
   },
   "cell_type": "code",
   "source": [
    "cc.setupEnvironment()\n",
    "spark = cc.startLocalCluster(\"Tennis Predictions\")\n",
    "spark.getActiveSession()"
   ],
   "id": "76fc3df53df21a92",
   "outputs": [
    {
     "name": "stdout",
     "output_type": "stream",
     "text": [
      "<pyspark.sql.session.SparkSession object at 0x000001D268021A60>\n"
     ]
    },
    {
     "data": {
      "text/plain": [
       "<pyspark.sql.session.SparkSession at 0x1d268021a60>"
      ],
      "text/html": [
       "\n",
       "            <div>\n",
       "                <p><b>SparkSession - in-memory</b></p>\n",
       "                \n",
       "        <div>\n",
       "            <p><b>SparkContext</b></p>\n",
       "\n",
       "            <p><a href=\"http://10.150.138.37:4045\">Spark UI</a></p>\n",
       "\n",
       "            <dl>\n",
       "              <dt>Version</dt>\n",
       "                <dd><code>v3.4.0</code></dd>\n",
       "              <dt>Master</dt>\n",
       "                <dd><code>local[*]</code></dd>\n",
       "              <dt>AppName</dt>\n",
       "                <dd><code>Tennis Predictions</code></dd>\n",
       "            </dl>\n",
       "        </div>\n",
       "        \n",
       "            </div>\n",
       "        "
      ]
     },
     "execution_count": 3,
     "metadata": {},
     "output_type": "execute_result"
    }
   ],
   "execution_count": 3
  },
  {
   "metadata": {
    "ExecuteTime": {
     "end_time": "2024-06-05T12:22:11.385924Z",
     "start_time": "2024-06-05T12:22:03.930947Z"
    }
   },
   "cell_type": "code",
   "source": [
    "data = spark.read.csv('../data/final_train_df_spark.csv', header=True, inferSchema=True)\n",
    "data = data.toPandas()"
   ],
   "id": "65e640e648371cdf",
   "outputs": [],
   "execution_count": 4
  },
  {
   "metadata": {
    "ExecuteTime": {
     "end_time": "2024-06-05T12:22:11.448595Z",
     "start_time": "2024-06-05T12:22:11.388818Z"
    }
   },
   "cell_type": "code",
   "source": [
    "# drop round_value1 and 2, drop all surface columns\n",
    "data = data.drop(['round value1', 'round value2', 'Break Points Faced1', 'Break Points Faced2', 'Second Serve Points Won1', 'Second Serve Points Won2', 'Dominance Ratio1', 'Dominance Ratio2', 'Ace Ratio1', 'Ace Ratio2'], axis=1)\n",
    "data"
   ],
   "id": "7b0bc54176fecf3a",
   "outputs": [
    {
     "data": {
      "text/plain": [
       "       player_id1   age1  Ranking at that time1  \\\n",
       "0            50.0  11153             183.579075   \n",
       "1            48.0   9242             138.016432   \n",
       "2           268.0  11499             227.502273   \n",
       "3           162.0   6951             319.224719   \n",
       "4           388.0  11345             193.812598   \n",
       "...           ...    ...                    ...   \n",
       "62698        64.0   9086             119.188596   \n",
       "62699       274.0   9115             223.504259   \n",
       "62700        93.0  11446              51.121981   \n",
       "62701        93.0  10130              51.121981   \n",
       "62702        18.0   8476              61.430862   \n",
       "\n",
       "       Opponent Ranking at that time1  Double Fault Ratio1  \\\n",
       "0                          173.094891             2.938200   \n",
       "1                          213.997653             4.911972   \n",
       "2                          250.547727             4.174318   \n",
       "3                          332.752809             6.312360   \n",
       "4                          237.478740             4.045669   \n",
       "...                               ...                  ...   \n",
       "62698                      172.065789             3.547588   \n",
       "62699                      282.942078             5.813288   \n",
       "62700                       98.693237             5.101087   \n",
       "62701                       98.693237             5.101087   \n",
       "62702                       92.398798             3.241683   \n",
       "\n",
       "       First Serve Percentage1  First Serve Points Won1  Break Points Won1  \\\n",
       "0                    61.517762                71.794161           3.802920   \n",
       "1                    65.302817                65.993897           4.492958   \n",
       "2                    63.618636                72.530000           3.654545   \n",
       "3                    55.720225                66.247753           4.707865   \n",
       "4                    58.822677                75.976850           3.278740   \n",
       "...                        ...                      ...                ...   \n",
       "62698                65.639474                69.003289           4.144737   \n",
       "62699                61.034923                65.421976           4.563884   \n",
       "62700                59.310507                67.326570           4.570048   \n",
       "62701                59.310507                67.326570           4.570048   \n",
       "62702                61.540281                74.058918           3.913828   \n",
       "\n",
       "       Sets Won1  Sets Lost1  ...  Opponent Ranking at that time2  \\\n",
       "0      12.323601   12.218978  ...                      294.226190   \n",
       "1      11.715962   11.265258  ...                      283.840637   \n",
       "2      12.015909   11.718182  ...                      262.626016   \n",
       "3      11.162921   11.359551  ...                      272.577947   \n",
       "4      12.127559   12.022047  ...                      297.838150   \n",
       "...          ...         ...  ...                             ...   \n",
       "62698  12.109649   11.230263  ...                      223.383178   \n",
       "62699  11.194208   11.848382  ...                      158.442759   \n",
       "62700  12.321256   12.439614  ...                      106.368932   \n",
       "62701  12.321256   12.439614  ...                      166.466302   \n",
       "62702  13.513026   12.639279  ...                       67.402889   \n",
       "\n",
       "       Double Fault Ratio2  First Serve Percentage2  First Serve Points Won2  \\\n",
       "0                 3.715476                64.491667                71.958333   \n",
       "1                 3.609960                58.554183                67.578088   \n",
       "2                 2.959892                59.181572                71.897290   \n",
       "3                 3.705894                64.976426                66.622053   \n",
       "4                 4.021965                63.728324                66.829480   \n",
       "...                    ...                      ...                      ...   \n",
       "62698             4.190467                59.079813                69.217009   \n",
       "62699             2.837517                61.341241                69.410483   \n",
       "62700             3.043107                59.361553                76.817087   \n",
       "62701             5.061020                64.122769                73.829508   \n",
       "62702             4.659551                65.864687                74.598074   \n",
       "\n",
       "       Break Points Won2  Sets Won2  Sets Lost2  Total time2  Surface  Result  \n",
       "0               3.357143  12.583333   11.595238   115.136905        1       W  \n",
       "1               4.147410  11.334661   11.007968   105.844622        1       L  \n",
       "2               3.915989  11.696477   11.845528    99.970190        1       W  \n",
       "3               4.309886  11.593156   11.283270   105.395437        2       W  \n",
       "4               4.317919  10.965318   10.820809   104.236994        1       W  \n",
       "...                  ...        ...         ...          ...      ...     ...  \n",
       "62698           4.091589  11.585047   11.409346   105.317757        1       W  \n",
       "62699           4.226207  11.944828   12.337931   106.252414        2       L  \n",
       "62700           3.601942  13.500971   12.085437   105.450485        1       W  \n",
       "62701           3.759563  12.936248   12.187614   109.755920        2       W  \n",
       "62702           3.476726  13.850722   11.886035   114.714286        1       W  \n",
       "\n",
       "[62703 rows x 24 columns]"
      ],
      "text/html": [
       "<div>\n",
       "<style scoped>\n",
       "    .dataframe tbody tr th:only-of-type {\n",
       "        vertical-align: middle;\n",
       "    }\n",
       "\n",
       "    .dataframe tbody tr th {\n",
       "        vertical-align: top;\n",
       "    }\n",
       "\n",
       "    .dataframe thead th {\n",
       "        text-align: right;\n",
       "    }\n",
       "</style>\n",
       "<table border=\"1\" class=\"dataframe\">\n",
       "  <thead>\n",
       "    <tr style=\"text-align: right;\">\n",
       "      <th></th>\n",
       "      <th>player_id1</th>\n",
       "      <th>age1</th>\n",
       "      <th>Ranking at that time1</th>\n",
       "      <th>Opponent Ranking at that time1</th>\n",
       "      <th>Double Fault Ratio1</th>\n",
       "      <th>First Serve Percentage1</th>\n",
       "      <th>First Serve Points Won1</th>\n",
       "      <th>Break Points Won1</th>\n",
       "      <th>Sets Won1</th>\n",
       "      <th>Sets Lost1</th>\n",
       "      <th>...</th>\n",
       "      <th>Opponent Ranking at that time2</th>\n",
       "      <th>Double Fault Ratio2</th>\n",
       "      <th>First Serve Percentage2</th>\n",
       "      <th>First Serve Points Won2</th>\n",
       "      <th>Break Points Won2</th>\n",
       "      <th>Sets Won2</th>\n",
       "      <th>Sets Lost2</th>\n",
       "      <th>Total time2</th>\n",
       "      <th>Surface</th>\n",
       "      <th>Result</th>\n",
       "    </tr>\n",
       "  </thead>\n",
       "  <tbody>\n",
       "    <tr>\n",
       "      <th>0</th>\n",
       "      <td>50.0</td>\n",
       "      <td>11153</td>\n",
       "      <td>183.579075</td>\n",
       "      <td>173.094891</td>\n",
       "      <td>2.938200</td>\n",
       "      <td>61.517762</td>\n",
       "      <td>71.794161</td>\n",
       "      <td>3.802920</td>\n",
       "      <td>12.323601</td>\n",
       "      <td>12.218978</td>\n",
       "      <td>...</td>\n",
       "      <td>294.226190</td>\n",
       "      <td>3.715476</td>\n",
       "      <td>64.491667</td>\n",
       "      <td>71.958333</td>\n",
       "      <td>3.357143</td>\n",
       "      <td>12.583333</td>\n",
       "      <td>11.595238</td>\n",
       "      <td>115.136905</td>\n",
       "      <td>1</td>\n",
       "      <td>W</td>\n",
       "    </tr>\n",
       "    <tr>\n",
       "      <th>1</th>\n",
       "      <td>48.0</td>\n",
       "      <td>9242</td>\n",
       "      <td>138.016432</td>\n",
       "      <td>213.997653</td>\n",
       "      <td>4.911972</td>\n",
       "      <td>65.302817</td>\n",
       "      <td>65.993897</td>\n",
       "      <td>4.492958</td>\n",
       "      <td>11.715962</td>\n",
       "      <td>11.265258</td>\n",
       "      <td>...</td>\n",
       "      <td>283.840637</td>\n",
       "      <td>3.609960</td>\n",
       "      <td>58.554183</td>\n",
       "      <td>67.578088</td>\n",
       "      <td>4.147410</td>\n",
       "      <td>11.334661</td>\n",
       "      <td>11.007968</td>\n",
       "      <td>105.844622</td>\n",
       "      <td>1</td>\n",
       "      <td>L</td>\n",
       "    </tr>\n",
       "    <tr>\n",
       "      <th>2</th>\n",
       "      <td>268.0</td>\n",
       "      <td>11499</td>\n",
       "      <td>227.502273</td>\n",
       "      <td>250.547727</td>\n",
       "      <td>4.174318</td>\n",
       "      <td>63.618636</td>\n",
       "      <td>72.530000</td>\n",
       "      <td>3.654545</td>\n",
       "      <td>12.015909</td>\n",
       "      <td>11.718182</td>\n",
       "      <td>...</td>\n",
       "      <td>262.626016</td>\n",
       "      <td>2.959892</td>\n",
       "      <td>59.181572</td>\n",
       "      <td>71.897290</td>\n",
       "      <td>3.915989</td>\n",
       "      <td>11.696477</td>\n",
       "      <td>11.845528</td>\n",
       "      <td>99.970190</td>\n",
       "      <td>1</td>\n",
       "      <td>W</td>\n",
       "    </tr>\n",
       "    <tr>\n",
       "      <th>3</th>\n",
       "      <td>162.0</td>\n",
       "      <td>6951</td>\n",
       "      <td>319.224719</td>\n",
       "      <td>332.752809</td>\n",
       "      <td>6.312360</td>\n",
       "      <td>55.720225</td>\n",
       "      <td>66.247753</td>\n",
       "      <td>4.707865</td>\n",
       "      <td>11.162921</td>\n",
       "      <td>11.359551</td>\n",
       "      <td>...</td>\n",
       "      <td>272.577947</td>\n",
       "      <td>3.705894</td>\n",
       "      <td>64.976426</td>\n",
       "      <td>66.622053</td>\n",
       "      <td>4.309886</td>\n",
       "      <td>11.593156</td>\n",
       "      <td>11.283270</td>\n",
       "      <td>105.395437</td>\n",
       "      <td>2</td>\n",
       "      <td>W</td>\n",
       "    </tr>\n",
       "    <tr>\n",
       "      <th>4</th>\n",
       "      <td>388.0</td>\n",
       "      <td>11345</td>\n",
       "      <td>193.812598</td>\n",
       "      <td>237.478740</td>\n",
       "      <td>4.045669</td>\n",
       "      <td>58.822677</td>\n",
       "      <td>75.976850</td>\n",
       "      <td>3.278740</td>\n",
       "      <td>12.127559</td>\n",
       "      <td>12.022047</td>\n",
       "      <td>...</td>\n",
       "      <td>297.838150</td>\n",
       "      <td>4.021965</td>\n",
       "      <td>63.728324</td>\n",
       "      <td>66.829480</td>\n",
       "      <td>4.317919</td>\n",
       "      <td>10.965318</td>\n",
       "      <td>10.820809</td>\n",
       "      <td>104.236994</td>\n",
       "      <td>1</td>\n",
       "      <td>W</td>\n",
       "    </tr>\n",
       "    <tr>\n",
       "      <th>...</th>\n",
       "      <td>...</td>\n",
       "      <td>...</td>\n",
       "      <td>...</td>\n",
       "      <td>...</td>\n",
       "      <td>...</td>\n",
       "      <td>...</td>\n",
       "      <td>...</td>\n",
       "      <td>...</td>\n",
       "      <td>...</td>\n",
       "      <td>...</td>\n",
       "      <td>...</td>\n",
       "      <td>...</td>\n",
       "      <td>...</td>\n",
       "      <td>...</td>\n",
       "      <td>...</td>\n",
       "      <td>...</td>\n",
       "      <td>...</td>\n",
       "      <td>...</td>\n",
       "      <td>...</td>\n",
       "      <td>...</td>\n",
       "      <td>...</td>\n",
       "    </tr>\n",
       "    <tr>\n",
       "      <th>62698</th>\n",
       "      <td>64.0</td>\n",
       "      <td>9086</td>\n",
       "      <td>119.188596</td>\n",
       "      <td>172.065789</td>\n",
       "      <td>3.547588</td>\n",
       "      <td>65.639474</td>\n",
       "      <td>69.003289</td>\n",
       "      <td>4.144737</td>\n",
       "      <td>12.109649</td>\n",
       "      <td>11.230263</td>\n",
       "      <td>...</td>\n",
       "      <td>223.383178</td>\n",
       "      <td>4.190467</td>\n",
       "      <td>59.079813</td>\n",
       "      <td>69.217009</td>\n",
       "      <td>4.091589</td>\n",
       "      <td>11.585047</td>\n",
       "      <td>11.409346</td>\n",
       "      <td>105.317757</td>\n",
       "      <td>1</td>\n",
       "      <td>W</td>\n",
       "    </tr>\n",
       "    <tr>\n",
       "      <th>62699</th>\n",
       "      <td>274.0</td>\n",
       "      <td>9115</td>\n",
       "      <td>223.504259</td>\n",
       "      <td>282.942078</td>\n",
       "      <td>5.813288</td>\n",
       "      <td>61.034923</td>\n",
       "      <td>65.421976</td>\n",
       "      <td>4.563884</td>\n",
       "      <td>11.194208</td>\n",
       "      <td>11.848382</td>\n",
       "      <td>...</td>\n",
       "      <td>158.442759</td>\n",
       "      <td>2.837517</td>\n",
       "      <td>61.341241</td>\n",
       "      <td>69.410483</td>\n",
       "      <td>4.226207</td>\n",
       "      <td>11.944828</td>\n",
       "      <td>12.337931</td>\n",
       "      <td>106.252414</td>\n",
       "      <td>2</td>\n",
       "      <td>L</td>\n",
       "    </tr>\n",
       "    <tr>\n",
       "      <th>62700</th>\n",
       "      <td>93.0</td>\n",
       "      <td>11446</td>\n",
       "      <td>51.121981</td>\n",
       "      <td>98.693237</td>\n",
       "      <td>5.101087</td>\n",
       "      <td>59.310507</td>\n",
       "      <td>67.326570</td>\n",
       "      <td>4.570048</td>\n",
       "      <td>12.321256</td>\n",
       "      <td>12.439614</td>\n",
       "      <td>...</td>\n",
       "      <td>106.368932</td>\n",
       "      <td>3.043107</td>\n",
       "      <td>59.361553</td>\n",
       "      <td>76.817087</td>\n",
       "      <td>3.601942</td>\n",
       "      <td>13.500971</td>\n",
       "      <td>12.085437</td>\n",
       "      <td>105.450485</td>\n",
       "      <td>1</td>\n",
       "      <td>W</td>\n",
       "    </tr>\n",
       "    <tr>\n",
       "      <th>62701</th>\n",
       "      <td>93.0</td>\n",
       "      <td>10130</td>\n",
       "      <td>51.121981</td>\n",
       "      <td>98.693237</td>\n",
       "      <td>5.101087</td>\n",
       "      <td>59.310507</td>\n",
       "      <td>67.326570</td>\n",
       "      <td>4.570048</td>\n",
       "      <td>12.321256</td>\n",
       "      <td>12.439614</td>\n",
       "      <td>...</td>\n",
       "      <td>166.466302</td>\n",
       "      <td>5.061020</td>\n",
       "      <td>64.122769</td>\n",
       "      <td>73.829508</td>\n",
       "      <td>3.759563</td>\n",
       "      <td>12.936248</td>\n",
       "      <td>12.187614</td>\n",
       "      <td>109.755920</td>\n",
       "      <td>2</td>\n",
       "      <td>W</td>\n",
       "    </tr>\n",
       "    <tr>\n",
       "      <th>62702</th>\n",
       "      <td>18.0</td>\n",
       "      <td>8476</td>\n",
       "      <td>61.430862</td>\n",
       "      <td>92.398798</td>\n",
       "      <td>3.241683</td>\n",
       "      <td>61.540281</td>\n",
       "      <td>74.058918</td>\n",
       "      <td>3.913828</td>\n",
       "      <td>13.513026</td>\n",
       "      <td>12.639279</td>\n",
       "      <td>...</td>\n",
       "      <td>67.402889</td>\n",
       "      <td>4.659551</td>\n",
       "      <td>65.864687</td>\n",
       "      <td>74.598074</td>\n",
       "      <td>3.476726</td>\n",
       "      <td>13.850722</td>\n",
       "      <td>11.886035</td>\n",
       "      <td>114.714286</td>\n",
       "      <td>1</td>\n",
       "      <td>W</td>\n",
       "    </tr>\n",
       "  </tbody>\n",
       "</table>\n",
       "<p>62703 rows × 24 columns</p>\n",
       "</div>"
      ]
     },
     "execution_count": 5,
     "metadata": {},
     "output_type": "execute_result"
    }
   ],
   "execution_count": 5
  },
  {
   "metadata": {
    "ExecuteTime": {
     "end_time": "2024-06-05T12:22:11.464175Z",
     "start_time": "2024-06-05T12:22:11.449863Z"
    }
   },
   "cell_type": "code",
   "source": [
    "X = data.iloc[:, :-1]\n",
    "y = data.iloc[:, -1]\n",
    "X.shape, y.shape"
   ],
   "id": "452d8c51b2e58af3",
   "outputs": [
    {
     "data": {
      "text/plain": [
       "((62703, 23), (62703,))"
      ]
     },
     "execution_count": 6,
     "metadata": {},
     "output_type": "execute_result"
    }
   ],
   "execution_count": 6
  },
  {
   "metadata": {
    "ExecuteTime": {
     "end_time": "2024-06-05T12:22:11.494847Z",
     "start_time": "2024-06-05T12:22:11.466453Z"
    }
   },
   "cell_type": "code",
   "source": [
    "X_train, X_test, y_train, y_test = train_test_split(X, y, test_size=0.2, random_state=42)\n",
    "X_train.shape, X_test.shape, y_train.shape, y_test.shape"
   ],
   "id": "acb771871d8778a9",
   "outputs": [
    {
     "data": {
      "text/plain": [
       "((50162, 23), (12541, 23), (50162,), (12541,))"
      ]
     },
     "execution_count": 7,
     "metadata": {},
     "output_type": "execute_result"
    }
   ],
   "execution_count": 7
  },
  {
   "metadata": {
    "ExecuteTime": {
     "end_time": "2024-06-05T12:22:11.531277Z",
     "start_time": "2024-06-05T12:22:11.495866Z"
    }
   },
   "cell_type": "code",
   "source": [
    "X_train = scaler.fit_transform(X_train)\n",
    "X_train = pd.DataFrame(X_train, columns=X.columns)\n",
    "X_test = scaler.transform(X_test)\n",
    "X_test = pd.DataFrame(X_test, columns=X.columns)"
   ],
   "id": "a0b199a29fe1dfd",
   "outputs": [],
   "execution_count": 8
  },
  {
   "metadata": {
    "ExecuteTime": {
     "end_time": "2024-06-05T12:22:38.247571Z",
     "start_time": "2024-06-05T12:22:11.532378Z"
    }
   },
   "cell_type": "code",
   "source": [
    "from sklearn.model_selection import GridSearchCV\n",
    "\n",
    "pipe = Pipeline([\n",
    "    ('log_reg', LogisticRegression())\n",
    "])\n",
    "\n",
    "param_grid = {\n",
    "    'log_reg__C': [0.1, 0.01, 1, 10, 100, 1000],\n",
    "    'log_reg__penalty': ['l1', 'l2'],\n",
    "    'log_reg__solver': ['liblinear', 'saga'],\n",
    "    'log_reg__max_iter': [100, 1000],\n",
    "    'log_reg__class_weight': [None, 'balanced']\n",
    "}\n",
    "\n",
    "search = GridSearchCV(pipe, param_grid, n_jobs=-1, cv=5)\n",
    "search.fit(X_train, y_train)\n",
    "print(f'Best score: {search.best_score_}')\n",
    "print(f'Best params: {search.best_params_}')"
   ],
   "id": "891e0c6ee481ad74",
   "outputs": [
    {
     "name": "stdout",
     "output_type": "stream",
     "text": [
      "Best score: 0.6268490436901129\n",
      "Best params: {'log_reg__C': 0.01, 'log_reg__class_weight': None, 'log_reg__max_iter': 1000, 'log_reg__penalty': 'l1', 'log_reg__solver': 'liblinear'}\n"
     ]
    }
   ],
   "execution_count": 9
  },
  {
   "metadata": {
    "ExecuteTime": {
     "end_time": "2024-06-05T12:22:38.263155Z",
     "start_time": "2024-06-05T12:22:38.248583Z"
    }
   },
   "cell_type": "code",
   "source": [
    "#log_reg = LogisticRegression()\n",
    "model = search.best_estimator_\n",
    "y_pred = model.predict(X_test)"
   ],
   "id": "3c64cda38862411d",
   "outputs": [],
   "execution_count": 10
  },
  {
   "metadata": {
    "ExecuteTime": {
     "end_time": "2024-06-05T12:22:38.294146Z",
     "start_time": "2024-06-05T12:22:38.265151Z"
    }
   },
   "cell_type": "code",
   "source": [
    "from sklearn.metrics import accuracy_score\n",
    "\n",
    "accuracy_score(y_test, y_pred)"
   ],
   "id": "c69bc5c436560e70",
   "outputs": [
    {
     "data": {
      "text/plain": [
       "0.6223586635834463"
      ]
     },
     "execution_count": 11,
     "metadata": {},
     "output_type": "execute_result"
    }
   ],
   "execution_count": 11
  },
  {
   "metadata": {
    "ExecuteTime": {
     "end_time": "2024-06-05T12:22:38.310170Z",
     "start_time": "2024-06-05T12:22:38.295142Z"
    }
   },
   "cell_type": "code",
   "source": "#joblib.dump(model, '../models/tennis_lr_model.pkl')",
   "id": "50ee4ef0f64896ed",
   "outputs": [],
   "execution_count": 12
  }
 ],
 "metadata": {
  "kernelspec": {
   "display_name": "Python 3",
   "language": "python",
   "name": "python3"
  },
  "language_info": {
   "codemirror_mode": {
    "name": "ipython",
    "version": 2
   },
   "file_extension": ".py",
   "mimetype": "text/x-python",
   "name": "python",
   "nbconvert_exporter": "python",
   "pygments_lexer": "ipython2",
   "version": "2.7.6"
  }
 },
 "nbformat": 4,
 "nbformat_minor": 5
}
