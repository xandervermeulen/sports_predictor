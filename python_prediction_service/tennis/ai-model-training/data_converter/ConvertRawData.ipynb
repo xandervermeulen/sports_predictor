{
 "cells": [
  {
   "metadata": {},
   "cell_type": "markdown",
   "source": "# Data Converter",
   "id": "35043d9d6b367fca"
  },
  {
   "metadata": {},
   "cell_type": "markdown",
   "source": "Convert the data of `all_matches_data_raw.csv` to a dataset that can be used to train our neural network",
   "id": "8ca37d211182b047"
  },
  {
   "cell_type": "code",
   "id": "28b21ad109e9591f",
   "metadata": {
    "collapsed": true,
    "ExecuteTime": {
     "end_time": "2024-06-05T12:18:57.411178Z",
     "start_time": "2024-06-05T12:18:56.960982Z"
    }
   },
   "source": [
    "import pandas as pd\n",
    "import config.ConnectionConfig as cc"
   ],
   "execution_count": 1,
   "outputs": []
  },
  {
   "metadata": {
    "ExecuteTime": {
     "end_time": "2024-06-05T12:19:03.299367Z",
     "start_time": "2024-06-05T12:18:57.412371Z"
    }
   },
   "cell_type": "code",
   "source": [
    "cc.setupEnvironment()\n",
    "spark = cc.startLocalCluster(\"Tennis Predictions\")\n",
    "spark.getActiveSession()"
   ],
   "id": "fc6b4ab1dd1b096c",
   "execution_count": 2,
   "outputs": []
  },
  {
   "metadata": {
    "ExecuteTime": {
     "end_time": "2024-06-05T12:19:05.811328Z",
     "start_time": "2024-06-05T12:19:03.300846Z"
    }
   },
   "cell_type": "code",
   "source": "matches_data_spark = spark.read.csv(\"../../data/all_matches_spark.csv\", header=True)",
   "id": "6f91195d9e27f970",
   "execution_count": 3,
   "outputs": []
  },
  {
   "metadata": {
    "ExecuteTime": {
     "end_time": "2024-06-05T12:19:09.710887Z",
     "start_time": "2024-06-05T12:19:05.812844Z"
    }
   },
   "cell_type": "code",
   "source": [
    "matches_data = matches_data_spark.toPandas()\n",
    "matches_data"
   ],
   "id": "initial_id",
   "execution_count": 4,
   "outputs": []
  },
  {
   "metadata": {
    "ExecuteTime": {
     "end_time": "2024-06-05T12:19:09.873915Z",
     "start_time": "2024-06-05T12:19:09.712542Z"
    }
   },
   "cell_type": "code",
   "source": "matches_data = matches_data.rename(columns={'player_name': 'player'})",
   "id": "e17f9e1e1b3b4c9f",
   "execution_count": 5,
   "outputs": []
  },
  {
   "metadata": {
    "ExecuteTime": {
     "end_time": "2024-06-05T12:19:09.888895Z",
     "start_time": "2024-06-05T12:19:09.875064Z"
    }
   },
   "cell_type": "code",
   "source": [
    "def count_uppercase_chars(name):\n",
    "    return sum(1 for c in name if c.isupper())"
   ],
   "id": "92412b218ecad104",
   "execution_count": 6,
   "outputs": []
  },
  {
   "metadata": {
    "ExecuteTime": {
     "end_time": "2024-06-05T12:19:09.904352Z",
     "start_time": "2024-06-05T12:19:09.890419Z"
    }
   },
   "cell_type": "code",
   "source": [
    "def check_uppercase_chars(name):\n",
    "    return sum(1 for c in name if c.isupper())"
   ],
   "id": "a2241024c3b3c22b",
   "execution_count": 7,
   "outputs": []
  },
  {
   "metadata": {
    "ExecuteTime": {
     "end_time": "2024-06-05T12:19:10.709057Z",
     "start_time": "2024-06-05T12:19:09.906239Z"
    }
   },
   "cell_type": "code",
   "source": [
    "matches_data.isna().sum()\n",
    "matches_data = matches_data.dropna()"
   ],
   "id": "15f9278604d0b65c",
   "execution_count": 8,
   "outputs": []
  },
  {
   "metadata": {
    "ExecuteTime": {
     "end_time": "2024-06-05T12:19:10.724075Z",
     "start_time": "2024-06-05T12:19:10.709993Z"
    }
   },
   "cell_type": "code",
   "source": [
    "players = pd.read_csv(\"../data/player_urls.csv\", index_col=0)\n",
    "players"
   ],
   "id": "8b0355210882e7c7",
   "execution_count": 9,
   "outputs": []
  },
  {
   "metadata": {
    "ExecuteTime": {
     "end_time": "2024-06-05T12:19:10.739700Z",
     "start_time": "2024-06-05T12:19:10.725076Z"
    }
   },
   "cell_type": "code",
   "source": [
    "# Function to find matching player name\n",
    "def find_matching_player_name(player_name):\n",
    "    for player in players['name']:\n",
    "        if all(part.lower() in player.lower() for part in player_name.split()):\n",
    "            return player\n",
    "    if None:\n",
    "        print(player_name)\n",
    "        return None\n",
    "\n",
    "# Apply the function to create player_name column\n",
    "# matches_data['player_name'] = matches_data['player'].apply(lambda x: find_matching_player_name(x) if pd.notnull(x) else None)"
   ],
   "id": "e2e611abf8b1a47a",
   "execution_count": 10,
   "outputs": []
  },
  {
   "metadata": {
    "ExecuteTime": {
     "end_time": "2024-06-05T12:19:10.754905Z",
     "start_time": "2024-06-05T12:19:10.741204Z"
    }
   },
   "cell_type": "code",
   "source": "matches_data.player.nunique()",
   "id": "800ac9f5cd3da6f2",
   "execution_count": 11,
   "outputs": []
  },
  {
   "metadata": {},
   "cell_type": "markdown",
   "source": "# Give the round in tournament a value",
   "id": "7cb0484ca952dbd2"
  },
  {
   "metadata": {
    "ExecuteTime": {
     "end_time": "2024-06-05T12:19:10.790575Z",
     "start_time": "2024-06-05T12:19:10.755855Z"
    }
   },
   "cell_type": "code",
   "source": [
    "round_mapping = {\n",
    "    'Q1': 1, 'Q2': 1, 'Q3': 1, 'RR': 1,\n",
    "    'R128': 1.5, 'R64': 2, 'R32': 3,\n",
    "    'R16': 5, 'QF': 7, 'SF': 12, 'F': 20\n",
    "}\n",
    "\n",
    "matches_data['round value'] = matches_data['Round in Tournament'].map(round_mapping)\n",
    "matches_data"
   ],
   "id": "b8dcfc7eb898816f",
   "execution_count": 12,
   "outputs": []
  },
  {
   "metadata": {
    "ExecuteTime": {
     "end_time": "2024-06-05T12:19:11.021348Z",
     "start_time": "2024-06-05T12:19:10.792511Z"
    }
   },
   "cell_type": "code",
   "source": [
    "# from the columns 'Ace Ratio', 'Double Fault Ratio', 'First Serve Percentage', 'First Serve Points Won', 'Second Serve Points Won' remove the % sign\n",
    "matches_data['Ace Ratio'] = matches_data['Ace Ratio'].str.replace('%', '')\n",
    "matches_data['Double Fault Ratio'] = matches_data['Double Fault Ratio'].str.replace('%', '')\n",
    "matches_data['First Serve Percentage'] = matches_data['First Serve Percentage'].str.replace('%', '')\n",
    "matches_data['First Serve Points Won'] = matches_data['First Serve Points Won'].str.replace('%', '')\n",
    "matches_data['Second Serve Points Won'] = matches_data['Second Serve Points Won'].str.replace('%', '')\n",
    "matches_data"
   ],
   "id": "9223ec8fc522c423",
   "execution_count": 13,
   "outputs": []
  },
  {
   "metadata": {
    "ExecuteTime": {
     "end_time": "2024-06-05T12:19:11.386370Z",
     "start_time": "2024-06-05T12:19:11.023440Z"
    }
   },
   "cell_type": "code",
   "source": [
    "# split the break points won and break points faced into two columns\n",
    "break_points = matches_data['Break Points Saved'].str.split('/', expand=True)\n",
    "break_points.columns = ['Break Points Won', 'Break Points Faced']\n",
    "matches_data = pd.concat([matches_data, break_points], axis=1)\n",
    "matches_data"
   ],
   "id": "2e0c026ca0217f49",
   "execution_count": 14,
   "outputs": []
  },
  {
   "metadata": {
    "ExecuteTime": {
     "end_time": "2024-06-05T12:19:11.556020Z",
     "start_time": "2024-06-05T12:19:11.387371Z"
    }
   },
   "cell_type": "code",
   "source": "matches_data.isna().sum()",
   "id": "38793643cdc74219",
   "execution_count": 15,
   "outputs": []
  },
  {
   "metadata": {
    "ExecuteTime": {
     "end_time": "2024-06-05T12:19:11.819350Z",
     "start_time": "2024-06-05T12:19:11.557687Z"
    }
   },
   "cell_type": "code",
   "source": [
    "print(\"Before dropping rows:\", matches_data.shape)\n",
    "matches_data_filtered = matches_data[matches_data.isnull().sum(axis=1) <= 3]\n",
    "print(\"After dropping rows:\", matches_data_filtered.shape)"
   ],
   "id": "d8e928e642c62a0b",
   "execution_count": 16,
   "outputs": []
  },
  {
   "metadata": {
    "ExecuteTime": {
     "end_time": "2024-06-05T12:19:12.132952Z",
     "start_time": "2024-06-05T12:19:11.820937Z"
    }
   },
   "cell_type": "code",
   "source": [
    "times_split = matches_data_filtered['Time'].str.split(':', expand=True)\n",
    "times_split.columns = ['Hours', 'Minutes']\n",
    "matches_data_filtered = pd.concat([matches_data_filtered, times_split], axis=1)\n",
    "matches_data_filtered"
   ],
   "id": "3f79a0f3e122b707",
   "execution_count": 17,
   "outputs": []
  },
  {
   "metadata": {
    "ExecuteTime": {
     "end_time": "2024-06-05T12:19:12.303990Z",
     "start_time": "2024-06-05T12:19:12.133951Z"
    }
   },
   "cell_type": "code",
   "source": "matches_data_filtered.isna().sum()",
   "id": "90121c9c50865fa1",
   "execution_count": 18,
   "outputs": []
  },
  {
   "metadata": {
    "ExecuteTime": {
     "end_time": "2024-06-05T12:19:12.340466Z",
     "start_time": "2024-06-05T12:19:12.304972Z"
    }
   },
   "cell_type": "code",
   "source": "matches_data_filtered = matches_data_filtered.drop('Time', axis=1)",
   "id": "b98c8cb6ed608b76",
   "execution_count": 19,
   "outputs": []
  },
  {
   "metadata": {
    "ExecuteTime": {
     "end_time": "2024-06-05T12:19:12.471976Z",
     "start_time": "2024-06-05T12:19:12.342291Z"
    }
   },
   "cell_type": "code",
   "source": [
    "matches_data_filtered['Set Scores'] = matches_data_filtered['Set Scores'].str.replace(r'\\s*RET\\s*$', '', regex=True)\n",
    "matches_data_filtered['Set Scores'] = matches_data_filtered['Set Scores'].str.replace(r'\\[\\d+-\\d+\\]', '', regex=True)"
   ],
   "id": "d77cf0e093474b01",
   "execution_count": 20,
   "outputs": []
  },
  {
   "metadata": {
    "ExecuteTime": {
     "end_time": "2024-06-05T12:19:14.414222Z",
     "start_time": "2024-06-05T12:19:12.473982Z"
    }
   },
   "cell_type": "code",
   "source": [
    "for index, row in matches_data_filtered.iterrows():\n",
    "    set_scores = row['Set Scores'].split(' ')\n",
    "    if len(set_scores) == 6:\n",
    "        print(f\"Match at index {index}: {row['Set Scores']}\")"
   ],
   "id": "e739d533b1eeed3f",
   "execution_count": 21,
   "outputs": []
  },
  {
   "metadata": {
    "ExecuteTime": {
     "end_time": "2024-06-05T12:19:14.732590Z",
     "start_time": "2024-06-05T12:19:14.415227Z"
    }
   },
   "cell_type": "code",
   "source": [
    "sets = matches_data_filtered['Set Scores'].str.split(' ', expand=True)\n",
    "sets.columns = ['Set 1', 'Set 2', 'Set 3', 'Set 4', 'Set 5']\n",
    "matches_data_filtered = pd.concat([matches_data_filtered, sets], axis=1)\n",
    "matches_data_filtered"
   ],
   "id": "75d802201470f357",
   "execution_count": 22,
   "outputs": []
  },
  {
   "metadata": {
    "ExecuteTime": {
     "end_time": "2024-06-05T12:19:14.747338Z",
     "start_time": "2024-06-05T12:19:14.733597Z"
    }
   },
   "cell_type": "code",
   "source": [
    "import re\n",
    "\n",
    "def add_space_before_uppercase(s):\n",
    "    return re.sub(r'([A-Z])', r' \\1', s).strip()"
   ],
   "id": "17fa129cbccaa3e9",
   "execution_count": 23,
   "outputs": []
  },
  {
   "metadata": {
    "ExecuteTime": {
     "end_time": "2024-06-05T12:19:15.236294Z",
     "start_time": "2024-06-05T12:19:14.748301Z"
    }
   },
   "cell_type": "code",
   "source": [
    "matches_data_filtered['Winner'] = matches_data_filtered['Winner'].apply(add_space_before_uppercase)\n",
    "matches_data_filtered['Loser'] = matches_data_filtered['Loser'].apply(add_space_before_uppercase)"
   ],
   "id": "8a5d74502e634a89",
   "execution_count": 24,
   "outputs": []
  },
  {
   "metadata": {
    "ExecuteTime": {
     "end_time": "2024-06-05T12:19:15.392296Z",
     "start_time": "2024-06-05T12:19:15.237960Z"
    }
   },
   "cell_type": "code",
   "source": "matches_data_filtered",
   "id": "2aa94ef52345152b",
   "execution_count": 25,
   "outputs": []
  },
  {
   "metadata": {},
   "cell_type": "markdown",
   "source": "Calculate the amount of sets won and lost by the player",
   "id": "d8f07cb1dab3b887"
  },
  {
   "metadata": {
    "ExecuteTime": {
     "end_time": "2024-06-05T12:19:15.407909Z",
     "start_time": "2024-06-05T12:19:15.393538Z"
    }
   },
   "cell_type": "code",
   "source": [
    "def is_winner(tennis_match):\n",
    "    stripped_winner = tennis_match['Winner'].strip()\n",
    "    stripped_player = tennis_match['player'].strip()\n",
    "    return  stripped_winner.lower() in stripped_player.lower()"
   ],
   "id": "bd75f39a1ef7e6cc",
   "execution_count": 26,
   "outputs": []
  },
  {
   "metadata": {
    "ExecuteTime": {
     "end_time": "2024-06-05T12:19:16.268852Z",
     "start_time": "2024-06-05T12:19:15.408939Z"
    }
   },
   "cell_type": "code",
   "source": "matches_data_filtered['isWinner'] = matches_data_filtered.apply(is_winner, axis=1)",
   "id": "ad86aad061075e68",
   "execution_count": 27,
   "outputs": []
  },
  {
   "metadata": {
    "ExecuteTime": {
     "end_time": "2024-06-05T12:19:16.439398Z",
     "start_time": "2024-06-05T12:19:16.269740Z"
    }
   },
   "cell_type": "code",
   "source": "matches_data_filtered",
   "id": "f42beeebbe3ea1c5",
   "execution_count": 28,
   "outputs": []
  },
  {
   "metadata": {},
   "cell_type": "markdown",
   "source": "Sum up the points won and lost by the player",
   "id": "8b774d96414a9aab"
  },
  {
   "metadata": {
    "ExecuteTime": {
     "end_time": "2024-06-05T12:19:18.298127Z",
     "start_time": "2024-06-05T12:19:16.439398Z"
    }
   },
   "cell_type": "code",
   "source": [
    "for index, row in matches_data_filtered.iterrows():\n",
    "    set_scores = row['Set Scores']\n",
    "    if '[' in set_scores or ']' in set_scores:\n",
    "        print(f\"Row at index {index}: {set_scores}\")\n"
   ],
   "id": "e9a543816543a2ae",
   "execution_count": 29,
   "outputs": []
  },
  {
   "metadata": {
    "ExecuteTime": {
     "end_time": "2024-06-05T12:19:21.822309Z",
     "start_time": "2024-06-05T12:19:18.299275Z"
    }
   },
   "cell_type": "code",
   "source": [
    "sets_data = matches_data_filtered[['Set 1', 'Set 2', 'Set 3', 'Set 4', 'Set 5']]\n",
    "points_won= []\n",
    "points_lost = []\n",
    "\n",
    "for index, row in matches_data_filtered.iterrows():\n",
    "    player_won = row['isWinner']\n",
    "    player_points = 0\n",
    "    opponent_points = 0\n",
    "    for column in sets_data.columns:\n",
    "        set_score = row[column]\n",
    "        if pd.notnull(set_score):  # Check if set score is not NaN\n",
    "            set_score_parts = set_score.split('-')\n",
    "            # remove the tiebreak score if there is one\n",
    "            if '-' not in set_score:\n",
    "                set_score_parts = [\"0\", \"0\"]\n",
    "            set_score_parts[0] = set_score_parts[0].split('(')[0]\n",
    "            set_score_parts[1] = set_score_parts[1].split('(')[0]\n",
    "            if set_score_parts[0].isdigit() and set_score_parts[1].isdigit():\n",
    "                if player_won:\n",
    "                    player_points += int(set_score_parts[0])\n",
    "                    opponent_points += int(set_score_parts[1])\n",
    "                else:\n",
    "    \n",
    "                    player_points += int(set_score_parts[1])\n",
    "                    opponent_points += int(set_score_parts[0])\n",
    "            else:\n",
    "                print(set_score_parts[0])\n",
    "                print(set_score_parts[1])\n",
    "    points_won.append(player_points)\n",
    "    points_lost.append(opponent_points)\n",
    "    \n",
    "    \n",
    "matches_data_filtered['Sets Won'] = points_won\n",
    "matches_data_filtered['Sets Lost'] = points_lost\n",
    "matches_data_filtered"
   ],
   "id": "3bb54cd4f4333ec8",
   "execution_count": 30,
   "outputs": []
  },
  {
   "metadata": {
    "ExecuteTime": {
     "end_time": "2024-06-05T12:19:21.978310Z",
     "start_time": "2024-06-05T12:19:21.824359Z"
    }
   },
   "cell_type": "code",
   "source": [
    "# show the row with the highest value of hour\n",
    "matches_data_filtered['Hours'] = pd.to_numeric(matches_data_filtered['Hours'])\n",
    "matches_data_filtered['Minutes'] = pd.to_numeric(matches_data_filtered['Minutes'])"
   ],
   "id": "b9ff6a3c22c6f359",
   "execution_count": 31,
   "outputs": []
  },
  {
   "metadata": {
    "ExecuteTime": {
     "end_time": "2024-06-05T12:19:22.024391Z",
     "start_time": "2024-06-05T12:19:21.979309Z"
    }
   },
   "cell_type": "code",
   "source": "matches_data_filtered = matches_data_filtered.drop(['Set Scores', 'Set 1', 'Set 2', 'Set 3', 'Set 4', 'Set 5'], axis=1)",
   "id": "28fe98787c079517",
   "execution_count": 32,
   "outputs": []
  },
  {
   "metadata": {
    "ExecuteTime": {
     "end_time": "2024-06-05T12:19:22.226501Z",
     "start_time": "2024-06-05T12:19:22.025787Z"
    }
   },
   "cell_type": "code",
   "source": [
    "matches_data_filtered['Total time'] = matches_data_filtered['Hours'] * 60 + matches_data_filtered['Minutes']\n",
    "matches_data_filtered = matches_data_filtered.drop(['Hours', 'Minutes'], axis=1)\n",
    "matches_data_filtered"
   ],
   "id": "6910a2414ccfb526",
   "execution_count": 33,
   "outputs": []
  },
  {
   "metadata": {
    "ExecuteTime": {
     "end_time": "2024-06-05T12:19:22.242594Z",
     "start_time": "2024-06-05T12:19:22.227501Z"
    }
   },
   "cell_type": "code",
   "source": "#matches_data_filtered.to_csv('../../data/full_matches_data_cleaned.csv')",
   "id": "2721a14abe435340",
   "execution_count": 34,
   "outputs": []
  },
  {
   "metadata": {},
   "cell_type": "markdown",
   "source": "",
   "id": "eafe4b35594a1c7b"
  },
  {
   "metadata": {
    "ExecuteTime": {
     "end_time": "2024-06-05T12:19:22.400107Z",
     "start_time": "2024-06-05T12:19:22.243590Z"
    }
   },
   "cell_type": "code",
   "source": "matches_data_filtered",
   "id": "180782e14f7f0797",
   "execution_count": 35,
   "outputs": []
  },
  {
   "metadata": {
    "ExecuteTime": {
     "end_time": "2024-06-05T12:19:23.824868Z",
     "start_time": "2024-06-05T12:19:22.401236Z"
    }
   },
   "cell_type": "code",
   "source": [
    "all_matches = matches_data_filtered\n",
    "all_matches['Result'] = ' W'\n",
    "# drop all columns instead of Date, Tournament, Winner, Loser, Result, player, isWinner\n",
    "all_matches = all_matches[['Date', 'Tournament', 'Surface', 'Winner', 'Loser', 'player', 'isWinner','Result']]\n",
    "all_matches['Winner'] = all_matches.apply(\n",
    "    lambda row: row['player'] if row['isWinner'] else row['Winner'], axis=1)\n",
    "all_matches['Loser'] = all_matches.apply(\n",
    "    lambda row: row['player'] if not row['isWinner'] else row['Loser'], axis=1)\n",
    "# rename column Winner to Player1 and Loser to Player2\n",
    "all_matches = all_matches.rename(columns={'Winner': 'Player1', 'Loser': 'Player2'})\n",
    "all_matches = all_matches.drop('isWinner', axis=1)\n",
    "all_matches"
   ],
   "id": "8b91e0f094f5f014",
   "execution_count": 36,
   "outputs": []
  },
  {
   "metadata": {
    "ExecuteTime": {
     "end_time": "2024-06-05T12:19:35.950232Z",
     "start_time": "2024-06-05T12:19:23.825977Z"
    }
   },
   "cell_type": "code",
   "source": [
    "all_matches = spark.createDataFrame(all_matches)\n",
    "all_matches.write.csv(\"../../data/full_matches_spark_clean.csv\", header=True, mode='overwrite')"
   ],
   "id": "c1cf31252f67b82e",
   "execution_count": 37,
   "outputs": []
  },
  {
   "metadata": {
    "ExecuteTime": {
     "end_time": "2024-06-05T12:19:36.108114Z",
     "start_time": "2024-06-05T12:19:35.952741Z"
    }
   },
   "cell_type": "code",
   "source": "matches_data_filtered.isna().sum()",
   "id": "2cf64c854cf3650a",
   "execution_count": 38,
   "outputs": []
  },
  {
   "metadata": {
    "ExecuteTime": {
     "end_time": "2024-06-05T12:19:36.336904Z",
     "start_time": "2024-06-05T12:19:36.109096Z"
    }
   },
   "cell_type": "code",
   "source": [
    "# drop all rows that contain NaN values\n",
    "matches_data_filtered = matches_data_filtered.dropna()\n",
    "matches_data_filtered = matches_data_filtered.drop('isWinner', axis=1)"
   ],
   "id": "dead1f26c0b0195c",
   "execution_count": 39,
   "outputs": []
  },
  {
   "metadata": {
    "ExecuteTime": {
     "end_time": "2024-06-05T12:19:36.352306Z",
     "start_time": "2024-06-05T12:19:36.337909Z"
    }
   },
   "cell_type": "code",
   "source": "import numpy as np",
   "id": "509f0c9801a088f5",
   "execution_count": 40,
   "outputs": []
  },
  {
   "metadata": {
    "ExecuteTime": {
     "end_time": "2024-06-05T12:19:36.368450Z",
     "start_time": "2024-06-05T12:19:36.356215Z"
    }
   },
   "cell_type": "code",
   "source": [
    "def replace_non_numeric_with_nan(df, column_name):\n",
    "    for x in df[column_name].unique():\n",
    "        try:\n",
    "            float(x)\n",
    "        except ValueError:\n",
    "            df.loc[df[column_name] == x, column_name] = np.nan\n",
    "            print(f\"Replaced non-numeric value '{x}' with NaN in column '{column_name}'\")\n",
    "    return df"
   ],
   "id": "37e8e17879cfac8d",
   "execution_count": 41,
   "outputs": []
  },
  {
   "metadata": {
    "ExecuteTime": {
     "end_time": "2024-06-05T12:19:36.462138Z",
     "start_time": "2024-06-05T12:19:36.369405Z"
    }
   },
   "cell_type": "code",
   "source": [
    "matches_data_filtered = replace_non_numeric_with_nan(matches_data_filtered, \"Dominance Ratio\")\n",
    "matches_data_filtered = replace_non_numeric_with_nan(matches_data_filtered, \"Ace Ratio\")\n",
    "matches_data_filtered = replace_non_numeric_with_nan(matches_data_filtered, \"Double Fault Ratio\")\n",
    "matches_data_filtered = replace_non_numeric_with_nan(matches_data_filtered, \"First Serve Percentage\")\n",
    "matches_data_filtered = replace_non_numeric_with_nan(matches_data_filtered, \"First Serve Points Won\")\n",
    "matches_data_filtered = replace_non_numeric_with_nan(matches_data_filtered, \"Second Serve Points Won\")\n",
    "matches_data_filtered = replace_non_numeric_with_nan(matches_data_filtered, \"Break Points Won\")\n",
    "matches_data_filtered = replace_non_numeric_with_nan(matches_data_filtered, \"Break Points Faced\")\n",
    "matches_data_filtered = replace_non_numeric_with_nan(matches_data_filtered, \"round value\")\n",
    "matches_data_filtered = replace_non_numeric_with_nan(matches_data_filtered, \"Sets Won\")\n",
    "matches_data_filtered = replace_non_numeric_with_nan(matches_data_filtered, \"Sets Lost\")\n",
    "matches_data_filtered = replace_non_numeric_with_nan(matches_data_filtered, \"Total time\")"
   ],
   "id": "5317efbbbb695e40",
   "execution_count": 42,
   "outputs": []
  },
  {
   "metadata": {
    "ExecuteTime": {
     "end_time": "2024-06-05T12:19:36.801287Z",
     "start_time": "2024-06-05T12:19:36.463210Z"
    }
   },
   "cell_type": "code",
   "source": [
    "matches_data_filtered.isna().sum()\n",
    "matches_data_filtered = matches_data_filtered.dropna()"
   ],
   "id": "688cc74d447649b2",
   "execution_count": 43,
   "outputs": []
  },
  {
   "metadata": {
    "ExecuteTime": {
     "end_time": "2024-06-05T12:19:36.816901Z",
     "start_time": "2024-06-05T12:19:36.802425Z"
    }
   },
   "cell_type": "code",
   "source": [
    "# create a function that convert a column name to float\n",
    "def convert_column_to_float(df, column_name):\n",
    "    df[column_name] = df[column_name].astype(float)\n",
    "    return df"
   ],
   "id": "b88db31a9db61899",
   "execution_count": 44,
   "outputs": []
  },
  {
   "metadata": {
    "ExecuteTime": {
     "end_time": "2024-06-05T12:19:37.191442Z",
     "start_time": "2024-06-05T12:19:36.817786Z"
    }
   },
   "cell_type": "code",
   "source": [
    "matches_data_filtered = convert_column_to_float(matches_data_filtered, \"Dominance Ratio\")\n",
    "matches_data_filtered = convert_column_to_float(matches_data_filtered, \"Ace Ratio\")\n",
    "matches_data_filtered['Ranking at that time'] = matches_data_filtered['Ranking at that time'].astype(int)\n",
    "matches_data_filtered['Opponent Ranking at that time'] = matches_data_filtered['Opponent Ranking at that time'].astype(int)\n",
    "matches_data_filtered = convert_column_to_float(matches_data_filtered, \"Double Fault Ratio\")\n",
    "matches_data_filtered = convert_column_to_float(matches_data_filtered, \"First Serve Percentage\")\n",
    "matches_data_filtered = convert_column_to_float(matches_data_filtered, \"First Serve Points Won\")\n",
    "matches_data_filtered = convert_column_to_float(matches_data_filtered, \"Second Serve Points Won\")\n",
    "matches_data_filtered = convert_column_to_float(matches_data_filtered, \"Break Points Won\")\n",
    "matches_data_filtered = convert_column_to_float(matches_data_filtered, \"Break Points Faced\")\n",
    "matches_data_filtered = convert_column_to_float(matches_data_filtered, \"round value\")\n",
    "matches_data_filtered = convert_column_to_float(matches_data_filtered, \"Sets Won\")\n",
    "matches_data_filtered = convert_column_to_float(matches_data_filtered, \"Sets Lost\")\n",
    "matches_data_filtered = convert_column_to_float(matches_data_filtered, \"Total time\")"
   ],
   "id": "6ea3ea9787f2e24e",
   "execution_count": 45,
   "outputs": []
  },
  {
   "metadata": {
    "ExecuteTime": {
     "end_time": "2024-06-05T12:19:37.317928Z",
     "start_time": "2024-06-05T12:19:37.192309Z"
    }
   },
   "cell_type": "code",
   "source": "matches_data_filtered",
   "id": "68d3dfeadbe80fda",
   "execution_count": 46,
   "outputs": []
  },
  {
   "metadata": {
    "ExecuteTime": {
     "end_time": "2024-06-05T12:19:37.348935Z",
     "start_time": "2024-06-05T12:19:37.318943Z"
    }
   },
   "cell_type": "code",
   "source": "player_stats = matches_data_filtered.groupby('player').mean().reset_index()",
   "id": "61153d663d63dea2",
   "execution_count": 47,
   "outputs": []
  },
  {
   "metadata": {
    "ExecuteTime": {
     "end_time": "2024-06-05T12:19:37.364522Z",
     "start_time": "2024-06-05T12:19:37.350387Z"
    }
   },
   "cell_type": "code",
   "source": "player_stats",
   "id": "2c786b0164492b1f",
   "execution_count": 48,
   "outputs": []
  },
  {
   "metadata": {
    "ExecuteTime": {
     "end_time": "2024-06-05T12:19:47.111067Z",
     "start_time": "2024-06-05T12:19:37.366385Z"
    }
   },
   "cell_type": "code",
   "source": [
    "player_stats_spark = spark.createDataFrame(player_stats)\n",
    "player_stats_spark.write.csv(\"../../data/player_stats_spark.csv\", header=True, mode='overwrite')"
   ],
   "id": "45d17f9cf4c9313e",
   "execution_count": 49,
   "outputs": []
  },
  {
   "metadata": {
    "ExecuteTime": {
     "end_time": "2024-06-05T12:19:47.125985Z",
     "start_time": "2024-06-05T12:19:47.113378Z"
    }
   },
   "cell_type": "code",
   "source": [
    "player_info = pd.read_csv('../../data/player_urls.csv', index_col=0)\n",
    "player_info"
   ],
   "id": "b0b2131f6d93763f",
   "execution_count": 50,
   "outputs": []
  },
  {
   "metadata": {
    "ExecuteTime": {
     "end_time": "2024-06-05T12:19:47.156283Z",
     "start_time": "2024-06-05T12:19:47.127054Z"
    }
   },
   "cell_type": "code",
   "source": [
    "merged_df = player_stats.merge(player_info, left_on='player', right_on='name')\n",
    "merged_df"
   ],
   "id": "8cfdf067a99ddf7c",
   "execution_count": 51,
   "outputs": []
  },
  {
   "metadata": {
    "ExecuteTime": {
     "end_time": "2024-06-05T12:19:56.486062Z",
     "start_time": "2024-06-05T12:19:47.157704Z"
    }
   },
   "cell_type": "code",
   "source": [
    "merged_df_spark = spark.createDataFrame(merged_df)\n",
    "merged_df_spark.write.csv('../../data/full_player_stats_total.csv', header=True, mode=\"overwrite\")"
   ],
   "id": "42dba24b204a0688",
   "execution_count": 52,
   "outputs": []
  },
  {
   "metadata": {
    "ExecuteTime": {
     "end_time": "2024-06-05T12:19:56.501914Z",
     "start_time": "2024-06-05T12:19:56.487020Z"
    }
   },
   "cell_type": "code",
   "source": "# merged_df.to_csv('../../data/full_player_stats_total.csv')",
   "id": "e7dfab786efa3ae5",
   "execution_count": 53,
   "outputs": []
  }
 ],
 "metadata": {
  "kernelspec": {
   "display_name": "Python 3",
   "language": "python",
   "name": "python3"
  },
  "language_info": {
   "codemirror_mode": {
    "name": "ipython",
    "version": 2
   },
   "file_extension": ".py",
   "mimetype": "text/x-python",
   "name": "python",
   "nbconvert_exporter": "python",
   "pygments_lexer": "ipython2",
   "version": "2.7.6"
  }
 },
 "nbformat": 4,
 "nbformat_minor": 5
}
