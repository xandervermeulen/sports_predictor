{
 "cells": [
  {
   "metadata": {},
   "cell_type": "markdown",
   "source": "# Predicting Tennis Matches with Random Forest Classifier",
   "id": "8aac55be810037a7"
  },
  {
   "cell_type": "code",
   "id": "96c2d67c030a1a4d",
   "metadata": {
    "collapsed": true,
    "ExecuteTime": {
     "end_time": "2024-06-05T12:46:40.991346Z",
     "start_time": "2024-06-05T12:46:40.984347Z"
    }
   },
   "source": [
    "import pandas as pd\n",
    "import joblib\n",
    "from sklearn.model_selection import train_test_split\n",
    "from sklearn.ensemble import RandomForestClassifier\n",
    "from sklearn.model_selection import RandomizedSearchCV\n",
    "import config.ConnectionConfig as cc"
   ],
   "execution_count": 24,
   "outputs": []
  },
  {
   "metadata": {
    "ExecuteTime": {
     "end_time": "2024-06-05T12:46:41.036873Z",
     "start_time": "2024-06-05T12:46:41.019385Z"
    }
   },
   "cell_type": "code",
   "source": "scaler = joblib.load('../models/tennis_nn_scaler.pkl')",
   "id": "526fe070561c072b",
   "execution_count": 25,
   "outputs": []
  },
  {
   "metadata": {
    "ExecuteTime": {
     "end_time": "2024-06-05T12:46:41.089487Z",
     "start_time": "2024-06-05T12:46:41.059203Z"
    }
   },
   "cell_type": "code",
   "source": [
    "cc.setupEnvironment()\n",
    "spark = cc.startLocalCluster(\"Tennis Predictions\")\n",
    "spark.getActiveSession()"
   ],
   "id": "624ab84777a5d0f4",
   "execution_count": 26,
   "outputs": []
  },
  {
   "metadata": {
    "ExecuteTime": {
     "end_time": "2024-06-05T12:46:42.211160Z",
     "start_time": "2024-06-05T12:46:41.089487Z"
    }
   },
   "cell_type": "code",
   "source": [
    "data = spark.read.csv('../data/final_train_df_spark.csv', header=True, inferSchema=True)\n",
    "data = data.toPandas()\n",
    "data"
   ],
   "id": "4ae864d95922e797",
   "execution_count": 27,
   "outputs": []
  },
  {
   "metadata": {
    "ExecuteTime": {
     "end_time": "2024-06-05T12:46:42.226801Z",
     "start_time": "2024-06-05T12:46:42.211160Z"
    }
   },
   "cell_type": "code",
   "source": "#data = data.drop(['round value1', 'round value2', 'Break Points Faced1', 'Break Points Faced2', 'Second Serve Points Won1', 'Second Serve Points Won2', 'Dominance Ratio1', 'Dominance Ratio2', 'Ace Ratio1', 'Ace Ratio2'], axis=1)",
   "id": "60d391a7732c998",
   "execution_count": 28,
   "outputs": []
  },
  {
   "metadata": {
    "ExecuteTime": {
     "end_time": "2024-06-05T12:46:42.242710Z",
     "start_time": "2024-06-05T12:46:42.226801Z"
    }
   },
   "cell_type": "code",
   "source": [
    "X = data.iloc[:, :-1]\n",
    "y = data.iloc[:, -1]\n",
    "X.shape, y.shape"
   ],
   "id": "6c6e3d1ded17c707",
   "execution_count": 29,
   "outputs": []
  },
  {
   "metadata": {
    "ExecuteTime": {
     "end_time": "2024-06-05T12:46:42.275330Z",
     "start_time": "2024-06-05T12:46:42.242710Z"
    }
   },
   "cell_type": "code",
   "source": [
    "X_train, X_test, y_train, y_test = train_test_split(X, y, test_size=0.1, random_state=42)\n",
    "X_train.shape, X_test.shape, y_train.shape, y_test.shape"
   ],
   "id": "86ae5a4f124ab9f6",
   "execution_count": 30,
   "outputs": []
  },
  {
   "metadata": {
    "ExecuteTime": {
     "end_time": "2024-06-05T12:46:42.327776Z",
     "start_time": "2024-06-05T12:46:42.276713Z"
    }
   },
   "cell_type": "code",
   "source": [
    "X_train = scaler.fit_transform(X_train)\n",
    "X_train = pd.DataFrame(X_train, columns=X.columns)\n",
    "X_test = scaler.transform(X_test)\n",
    "X_test = pd.DataFrame(X_test, columns=X.columns)"
   ],
   "id": "87021444afdb2114",
   "execution_count": 31,
   "outputs": []
  },
  {
   "metadata": {
    "ExecuteTime": {
     "end_time": "2024-06-05T12:46:56.739278Z",
     "start_time": "2024-06-05T12:46:42.329285Z"
    }
   },
   "cell_type": "code",
   "source": [
    "param_dist = {\n",
    "    'n_estimators': [80, 100, 120, 150],\n",
    "    'max_features': ['sqrt', 'log2'], \n",
    "    'max_depth': [20, 30, 40], \n",
    "    'min_samples_split': [3, 5, 7], \n",
    "    'min_samples_leaf': [1, 2, 3],  \n",
    "    'bootstrap': [True] \n",
    "}\n",
    "\n",
    "rf = RandomForestClassifier(n_estimators= 150, min_samples_split= 3, min_samples_leaf= 1, max_features= 'log2', max_depth= 30, bootstrap=True)\n",
    "rf.fit(X_train, y_train)\n",
    "#random_search = RandomizedSearchCV(rf, param_distributions=param_dist, n_iter=10, cv=5, scoring='accuracy', random_state=42)\n",
    "#print(f'Best params: {random_search.best_params_}')\n",
    "#print(f'Best score: {random_search.best_score_}')"
   ],
   "id": "5de81bb33f681d84",
   "execution_count": 32,
   "outputs": []
  },
  {
   "metadata": {
    "ExecuteTime": {
     "end_time": "2024-06-05T12:46:56.754294Z",
     "start_time": "2024-06-05T12:46:56.740930Z"
    }
   },
   "cell_type": "code",
   "source": [
    "#rf = random_search.best_estimator_\n",
    "rf"
   ],
   "id": "b32536df2f46689c",
   "execution_count": 33,
   "outputs": []
  },
  {
   "metadata": {
    "ExecuteTime": {
     "end_time": "2024-06-05T12:46:56.951144Z",
     "start_time": "2024-06-05T12:46:56.756080Z"
    }
   },
   "cell_type": "code",
   "source": [
    "from sklearn.metrics import accuracy_score\n",
    "\n",
    "y_pred = rf.predict(X_test)\n",
    "accuracy_score(y_test, y_pred)"
   ],
   "id": "4b18cf2bc784b15a",
   "execution_count": 34,
   "outputs": []
  },
  {
   "metadata": {
    "ExecuteTime": {
     "end_time": "2024-06-05T12:46:56.966254Z",
     "start_time": "2024-06-05T12:46:56.953043Z"
    }
   },
   "cell_type": "code",
   "source": "#joblib.dump(rf, '../models/tennis_rf_model.pkl')",
   "id": "2dacb39d72451822",
   "execution_count": 35,
   "outputs": []
  },
  {
   "metadata": {},
   "cell_type": "markdown",
   "source": "### Save this model as a zip file because it is too large for GitHub",
   "id": "80d6e7f410fc4be8"
  }
 ],
 "metadata": {
  "kernelspec": {
   "display_name": "Python 3",
   "language": "python",
   "name": "python3"
  },
  "language_info": {
   "codemirror_mode": {
    "name": "ipython",
    "version": 2
   },
   "file_extension": ".py",
   "mimetype": "text/x-python",
   "name": "python",
   "nbconvert_exporter": "python",
   "pygments_lexer": "ipython2",
   "version": "2.7.6"
  }
 },
 "nbformat": 4,
 "nbformat_minor": 5
}
