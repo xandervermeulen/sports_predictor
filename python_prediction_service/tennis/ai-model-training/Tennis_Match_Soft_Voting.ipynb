{
 "cells": [
  {
   "metadata": {},
   "cell_type": "markdown",
   "source": "# Create an enseble by using a soft voting classifier",
   "id": "440b9fc042265aaf"
  },
  {
   "metadata": {
    "ExecuteTime": {
     "end_time": "2024-05-23T16:16:46.965701Z",
     "start_time": "2024-05-23T16:16:45.018287Z"
    }
   },
   "cell_type": "code",
   "source": [
    "import joblib\n",
    "import pandas as pd\n",
    "from sklearn.model_selection import train_test_split\n",
    "from sklearn.ensemble import VotingClassifier\n",
    "from sklearn.metrics import accuracy_score\n",
    "from sklearn.ensemble import StackingClassifier\n",
    "from sklearn.neural_network import MLPClassifier\n",
    "import config.ConnectionConfig as cc"
   ],
   "id": "9636faedcb3a1ea4",
   "execution_count": 1,
   "outputs": []
  },
  {
   "cell_type": "code",
   "id": "initial_id",
   "metadata": {
    "collapsed": true,
    "ExecuteTime": {
     "end_time": "2024-05-23T16:16:47.409389Z",
     "start_time": "2024-05-23T16:16:46.968338Z"
    }
   },
   "source": [
    "lr_model = joblib.load(\"../models/tennis_lr_model.pkl\")\n",
    "rf_model = joblib.load(\"../models/tennis_rf_model.pkl\")\n",
    "svm_model = joblib.load(\"../models/tennis_svm_model.pkl\")\n",
    "nn_model = joblib.load(\"../models/tennis_nn_model.pkl\")\n",
    "scaler = joblib.load(\"../models/tennis_nn_scaler.pkl\")"
   ],
   "execution_count": 2,
   "outputs": []
  },
  {
   "metadata": {
    "ExecuteTime": {
     "end_time": "2024-05-23T16:17:01.430007Z",
     "start_time": "2024-05-23T16:16:47.409389Z"
    }
   },
   "cell_type": "code",
   "source": [
    "cc.setupEnvironment()\n",
    "spark = cc.startLocalCluster(\"Tennis Predictions\")\n",
    "spark.getActiveSession()"
   ],
   "id": "33b70d3851fd27f4",
   "execution_count": 3,
   "outputs": []
  },
  {
   "metadata": {
    "ExecuteTime": {
     "end_time": "2024-05-23T16:17:14.481441Z",
     "start_time": "2024-05-23T16:17:01.438129Z"
    }
   },
   "cell_type": "code",
   "source": [
    "data = spark.read.csv('../data/final_train_df_spark.csv', header=True, inferSchema=True)\n",
    "data = data.toPandas()\n",
    "data"
   ],
   "id": "3af6ab0aaf6e8e12",
   "execution_count": 4,
   "outputs": []
  },
  {
   "metadata": {
    "ExecuteTime": {
     "end_time": "2024-05-23T16:17:14.529023Z",
     "start_time": "2024-05-23T16:17:14.487727Z"
    }
   },
   "cell_type": "code",
   "source": "data = data.drop(['Surface_Carpet', 'Surface_Clay', 'Surface_Grass', 'Surface_Hard', 'Total time1', 'Total time2', 'Ranking at that time1', 'Ranking at that time2', 'round value1', 'round value2'], axis=1)",
   "id": "fe6518c34a0121bd",
   "execution_count": 5,
   "outputs": []
  },
  {
   "metadata": {
    "ExecuteTime": {
     "end_time": "2024-05-23T16:17:14.566752Z",
     "start_time": "2024-05-23T16:17:14.530729Z"
    }
   },
   "cell_type": "code",
   "source": [
    "X = data.iloc[:, :-1]\n",
    "y = data.iloc[:, -1]\n",
    "X.shape, y.shape"
   ],
   "id": "8a9a58fc5ccda9d4",
   "execution_count": 6,
   "outputs": []
  },
  {
   "metadata": {
    "ExecuteTime": {
     "end_time": "2024-05-23T16:17:14.688741Z",
     "start_time": "2024-05-23T16:17:14.567773Z"
    }
   },
   "cell_type": "code",
   "source": [
    "X_scaled = scaler.transform(X)\n",
    "X_scaled = pd.DataFrame(X_scaled, columns=X.columns)\n",
    "X_scaled"
   ],
   "id": "9009635b06ca3fc5",
   "execution_count": 7,
   "outputs": []
  },
  {
   "metadata": {
    "ExecuteTime": {
     "end_time": "2024-05-23T16:17:14.736693Z",
     "start_time": "2024-05-23T16:17:14.689866Z"
    }
   },
   "cell_type": "code",
   "source": [
    "X_train, X_test, y_train, y_test = train_test_split(X_scaled, y, test_size=0.2, random_state=42)\n",
    "X_train.shape, X_test.shape, y_train.shape, y_test.shape"
   ],
   "id": "8e4c6766fee2b61b",
   "execution_count": 8,
   "outputs": []
  },
  {
   "metadata": {
    "ExecuteTime": {
     "end_time": "2024-05-23T16:17:14.752622Z",
     "start_time": "2024-05-23T16:17:14.737711Z"
    }
   },
   "cell_type": "code",
   "source": [
    "voting_clf = VotingClassifier(estimators=[('lr', lr_model),\n",
    "                                          #('rf', rf_model),\n",
    "                                          ('nn', nn_model)\n",
    "                                         ,('svm', svm_model)\n",
    "                                          ], voting='soft')"
   ],
   "id": "3a67dcd984d92604",
   "execution_count": 9,
   "outputs": []
  },
  {
   "metadata": {
    "ExecuteTime": {
     "end_time": "2024-05-23T16:45:21.973426Z",
     "start_time": "2024-05-23T16:17:14.757549Z"
    }
   },
   "cell_type": "code",
   "source": "voting_clf.fit(X_train, y_train)",
   "id": "2024b9099b307c89",
   "execution_count": 10,
   "outputs": []
  },
  {
   "metadata": {
    "ExecuteTime": {
     "end_time": "2024-05-23T16:45:52.502616Z",
     "start_time": "2024-05-23T16:45:21.974430Z"
    }
   },
   "cell_type": "code",
   "source": [
    "y_pred = voting_clf.predict(X_test)\n",
    "accuracy = accuracy_score(y_test, y_pred)\n",
    "print(\"Accuracy of the soft voting classifier:\", accuracy)"
   ],
   "id": "8e9e371c84e98d5d",
   "execution_count": 11,
   "outputs": []
  },
  {
   "metadata": {
    "ExecuteTime": {
     "end_time": "2024-05-23T16:46:02.278704Z",
     "start_time": "2024-05-23T16:45:52.503628Z"
    }
   },
   "cell_type": "code",
   "source": [
    "# Best params: {'mlp__validation_fraction': 0.2, 'mlp__solver': 'sgd', 'mlp__random_state': 42, 'mlp__max_iter': 300, 'mlp__learning_rate_init': 0.001, 'mlp__learning_rate': 'invscaling', 'mlp__hidden_layer_sizes': (100, 50, 100), 'mlp__epsilon': 1e-08, 'mlp__alpha': 0.01, 'mlp__activation': 'identity'}\n",
    "final_estimator = MLPClassifier(hidden_layer_sizes=(100, 50, 100), activation='identity', validation_fraction=0.2, solver='sgd', random_state=42, max_iter=300, learning_rate_init=0.001, learning_rate='invscaling', epsilon=1e-08, alpha=0.01)\n",
    "final_estimator.fit(X_train, y_train)"
   ],
   "id": "8bd35648cf3d4e1d",
   "execution_count": 12,
   "outputs": []
  },
  {
   "metadata": {
    "ExecuteTime": {
     "end_time": "2024-05-23T16:46:02.294230Z",
     "start_time": "2024-05-23T16:46:02.279730Z"
    }
   },
   "cell_type": "code",
   "source": "stacking_clf = StackingClassifier(estimators=[('voting', voting_clf)], final_estimator=final_estimator)",
   "id": "c2085cfb21b7071c",
   "execution_count": 13,
   "outputs": []
  },
  {
   "metadata": {
    "jupyter": {
     "is_executing": true
    },
    "ExecuteTime": {
     "start_time": "2024-05-23T16:46:02.295721Z"
    }
   },
   "cell_type": "code",
   "source": "stacking_clf.fit(X_train, y_train)",
   "id": "6cdf515cd54c37f7",
   "execution_count": null,
   "outputs": []
  },
  {
   "metadata": {
    "jupyter": {
     "is_executing": true
    }
   },
   "cell_type": "code",
   "source": [
    "y_pred = stacking_clf.predict(X_test)\n",
    "accuracy = accuracy_score(y_test, y_pred)\n",
    "print(\"Accuracy of the stacking classifier:\", accuracy)"
   ],
   "id": "d956991c8893a093",
   "execution_count": null,
   "outputs": []
  },
  {
   "metadata": {
    "jupyter": {
     "is_executing": true
    }
   },
   "cell_type": "code",
   "source": [
    "# save the stacking classifier\n",
    "joblib.dump(stacking_clf, \"../models/tennis_stacking_model.pkl\")"
   ],
   "id": "c81cc08cdc8e2fe4",
   "execution_count": null,
   "outputs": []
  }
 ],
 "metadata": {
  "kernelspec": {
   "display_name": "Python 3",
   "language": "python",
   "name": "python3"
  },
  "language_info": {
   "codemirror_mode": {
    "name": "ipython",
    "version": 2
   },
   "file_extension": ".py",
   "mimetype": "text/x-python",
   "name": "python",
   "nbconvert_exporter": "python",
   "pygments_lexer": "ipython2",
   "version": "2.7.6"
  }
 },
 "nbformat": 4,
 "nbformat_minor": 5
}
