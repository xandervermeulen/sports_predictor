{
 "cells": [
  {
   "metadata": {},
   "cell_type": "markdown",
   "source": "# Predicting Tennis Matches with Support Vector Machines",
   "id": "190b8c2dd436b0d"
  },
  {
   "metadata": {
    "ExecuteTime": {
     "end_time": "2024-05-23T12:38:36.217446Z",
     "start_time": "2024-05-23T12:38:35.591947Z"
    }
   },
   "cell_type": "code",
   "source": [
    "import pandas as pd\n",
    "import joblib\n",
    "from sklearn.model_selection import train_test_split\n",
    "from sklearn.model_selection import RandomizedSearchCV\n",
    "from sklearn.metrics import accuracy_score\n",
    "from scipy.stats import uniform\n",
    "from sklearn.svm import SVC\n",
    "import config.ConnectionConfig as cc"
   ],
   "id": "6b9812ab5da42a0a",
   "execution_count": 1,
   "outputs": []
  },
  {
   "metadata": {
    "ExecuteTime": {
     "end_time": "2024-05-23T12:38:36.233344Z",
     "start_time": "2024-05-23T12:38:36.218465Z"
    }
   },
   "cell_type": "code",
   "source": "scaler = joblib.load('../models/tennis_nn_scaler.pkl')",
   "id": "cb65d3f50074d5b4",
   "execution_count": 2,
   "outputs": []
  },
  {
   "metadata": {
    "ExecuteTime": {
     "end_time": "2024-05-23T12:38:40.875047Z",
     "start_time": "2024-05-23T12:38:36.233344Z"
    }
   },
   "cell_type": "code",
   "source": [
    "cc.setupEnvironment()\n",
    "spark = cc.startLocalCluster(\"Tennis Predictions\")\n",
    "spark.getActiveSession()"
   ],
   "id": "f2b09bf586b59725",
   "execution_count": 3,
   "outputs": []
  },
  {
   "metadata": {
    "ExecuteTime": {
     "end_time": "2024-05-23T12:38:45.340043Z",
     "start_time": "2024-05-23T12:38:40.876261Z"
    }
   },
   "cell_type": "code",
   "source": [
    "data = spark.read.csv('../data/final_train_df_spark.csv', header=True, inferSchema=True)\n",
    "data = data.toPandas()\n",
    "data"
   ],
   "id": "a0b9ac4d03fc702d",
   "execution_count": 4,
   "outputs": []
  },
  {
   "metadata": {
    "ExecuteTime": {
     "end_time": "2024-05-23T12:38:45.355650Z",
     "start_time": "2024-05-23T12:38:45.342043Z"
    }
   },
   "cell_type": "code",
   "source": "data = data.drop(['Surface_Carpet', 'Surface_Clay', 'Surface_Grass', 'Surface_Hard', 'Total time1', 'Total time2', 'Ranking at that time1', 'Ranking at that time2', 'round value1', 'round value2'], axis=1)",
   "id": "789eef415fee23f1",
   "execution_count": 5,
   "outputs": []
  },
  {
   "metadata": {
    "ExecuteTime": {
     "end_time": "2024-05-23T12:38:45.371167Z",
     "start_time": "2024-05-23T12:38:45.356632Z"
    }
   },
   "cell_type": "code",
   "source": [
    "X = data.iloc[:, :-1]\n",
    "y = data.iloc[:, -1]\n",
    "X.shape, y.shape"
   ],
   "id": "f74078b2c19fc63d",
   "execution_count": 6,
   "outputs": []
  },
  {
   "metadata": {
    "ExecuteTime": {
     "end_time": "2024-05-23T12:38:45.433255Z",
     "start_time": "2024-05-23T12:38:45.372151Z"
    }
   },
   "cell_type": "code",
   "source": [
    "X_scaled = scaler.fit_transform(X)\n",
    "X_scaled = pd.DataFrame(X_scaled, columns=X.columns)\n",
    "X_scaled"
   ],
   "id": "3889e23fa35e544d",
   "execution_count": 7,
   "outputs": []
  },
  {
   "metadata": {
    "ExecuteTime": {
     "end_time": "2024-05-23T12:38:45.448786Z",
     "start_time": "2024-05-23T12:38:45.433255Z"
    }
   },
   "cell_type": "code",
   "source": [
    "X_train, X_test, y_train, y_test = train_test_split(X_scaled, y, test_size=0.2, random_state=42)\n",
    "X_train.shape, X_test.shape, y_train.shape, y_test.shape"
   ],
   "id": "977f4861ca1b0755",
   "execution_count": 8,
   "outputs": []
  },
  {
   "metadata": {
    "jupyter": {
     "is_executing": true
    },
    "ExecuteTime": {
     "start_time": "2024-05-23T12:38:45.449788Z"
    }
   },
   "cell_type": "code",
   "source": [
    "\n",
    "svm_clf = SVC()\n",
    "\n",
    "# Define hyperparameter grid\n",
    "param_dist = {\n",
    "    'C': [0.1, 1.0, 10.0],  \n",
    "    'kernel': ['linear', 'poly', 'rbf', 'sigmoid'],  \n",
    "    'gamma': ['scale', 'auto'], \n",
    "    'probability': [True]\n",
    "}\n",
    "\n",
    "random_search = RandomizedSearchCV(svm_clf, param_distributions=param_dist, n_iter=5, cv=5, scoring='accuracy', random_state=42)\n",
    "\n",
    "random_search.fit(X_train, y_train)\n",
    "print(f'Best parameters: {random_search.best_params_}')\n",
    "print(f'Best score: {random_search.best_score_}')"
   ],
   "id": "958b61254898161e",
   "execution_count": null,
   "outputs": []
  },
  {
   "metadata": {
    "jupyter": {
     "is_executing": true
    }
   },
   "cell_type": "code",
   "source": [
    "svm = random_search.best_estimator_\n",
    "y_pred = svm.predict(X_test)\n",
    "accuracy_score(y_test, y_pred)"
   ],
   "id": "1058e0ab3323bcab",
   "execution_count": null,
   "outputs": []
  },
  {
   "metadata": {
    "jupyter": {
     "is_executing": true
    }
   },
   "cell_type": "code",
   "source": "joblib.dump(svm, '../models/tennis_svm_model.pkl')",
   "id": "4be9f7eb654c192e",
   "execution_count": null,
   "outputs": []
  }
 ],
 "metadata": {
  "kernelspec": {
   "display_name": "Python 3",
   "language": "python",
   "name": "python3"
  },
  "language_info": {
   "codemirror_mode": {
    "name": "ipython",
    "version": 2
   },
   "file_extension": ".py",
   "mimetype": "text/x-python",
   "name": "python",
   "nbconvert_exporter": "python",
   "pygments_lexer": "ipython2",
   "version": "2.7.6"
  }
 },
 "nbformat": 4,
 "nbformat_minor": 5
}
