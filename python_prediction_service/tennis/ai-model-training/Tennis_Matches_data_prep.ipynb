{
 "cells": [
  {
   "metadata": {},
   "cell_type": "markdown",
   "source": "# Tennis Matches Neural Network Training Data Preparation",
   "id": "a863a35cd5f4cc1e"
  },
  {
   "metadata": {},
   "cell_type": "markdown",
   "source": "We will prepare the data so it can be trained for our neural network. ",
   "id": "9a1f86d401883a97"
  },
  {
   "metadata": {
    "ExecuteTime": {
     "end_time": "2024-06-05T12:20:51.031985Z",
     "start_time": "2024-06-05T12:20:51.022247Z"
    }
   },
   "cell_type": "code",
   "source": [
    "import pandas as pd\n",
    "import config.ConnectionConfig as cc"
   ],
   "id": "ffe07eff4b409fb7",
   "execution_count": 20,
   "outputs": []
  },
  {
   "metadata": {
    "ExecuteTime": {
     "end_time": "2024-06-05T12:20:51.202400Z",
     "start_time": "2024-06-05T12:20:51.179439Z"
    }
   },
   "cell_type": "code",
   "source": [
    "cc.setupEnvironment()\n",
    "spark = cc.startLocalCluster(\"Tennis Predictions\")\n",
    "spark.getActiveSession()"
   ],
   "id": "d0f8f559d113a467",
   "execution_count": 21,
   "outputs": []
  },
  {
   "metadata": {
    "ExecuteTime": {
     "end_time": "2024-06-05T12:20:51.393252Z",
     "start_time": "2024-06-05T12:20:51.215025Z"
    }
   },
   "cell_type": "code",
   "source": "past_matches = spark.read.csv('../data/full_matches_spark_clean.csv', header=True)",
   "id": "f07b9ed817a99caa",
   "execution_count": 22,
   "outputs": []
  },
  {
   "metadata": {
    "ExecuteTime": {
     "end_time": "2024-06-05T12:20:51.692999Z",
     "start_time": "2024-06-05T12:20:51.397254Z"
    }
   },
   "cell_type": "code",
   "source": [
    "player_stats = spark.read.csv('../data/full_player_stats_total.csv', header=True)\n",
    "player_stats.show()"
   ],
   "id": "dc7d5431ff9c9b82",
   "execution_count": 23,
   "outputs": []
  },
  {
   "metadata": {
    "ExecuteTime": {
     "end_time": "2024-06-05T12:20:51.709005Z",
     "start_time": "2024-06-05T12:20:51.693999Z"
    }
   },
   "cell_type": "code",
   "source": [
    "# past_matches = pd.read_csv('../data/all_matches_data_cleaned.csv', index_col=0)\n",
    "# player_stats = pd.read_csv('../data/player_stats.csv')\n",
    "player_ids = pd.read_csv('../data/player_urls.csv')\n",
    "player_ids"
   ],
   "id": "f7aa4f3a165845e3",
   "execution_count": 24,
   "outputs": []
  },
  {
   "metadata": {
    "ExecuteTime": {
     "end_time": "2024-06-05T12:20:52.504820Z",
     "start_time": "2024-06-05T12:20:51.711514Z"
    }
   },
   "cell_type": "code",
   "source": [
    "past_matches = past_matches.toPandas()\n",
    "past_matches"
   ],
   "id": "76c1029570c07c59",
   "execution_count": 25,
   "outputs": []
  },
  {
   "metadata": {
    "ExecuteTime": {
     "end_time": "2024-06-05T12:20:52.640708Z",
     "start_time": "2024-06-05T12:20:52.505819Z"
    }
   },
   "cell_type": "code",
   "source": [
    "player_stats = player_stats.toPandas()\n",
    "player_stats.head()"
   ],
   "id": "1ca3d16d79343456",
   "execution_count": 26,
   "outputs": []
  },
  {
   "metadata": {
    "ExecuteTime": {
     "end_time": "2024-06-05T12:20:52.655857Z",
     "start_time": "2024-06-05T12:20:52.642224Z"
    }
   },
   "cell_type": "code",
   "source": "player_ids.head()",
   "id": "53022e48ed08e511",
   "execution_count": 27,
   "outputs": []
  },
  {
   "metadata": {
    "ExecuteTime": {
     "end_time": "2024-06-05T12:20:52.671176Z",
     "start_time": "2024-06-05T12:20:52.656856Z"
    }
   },
   "cell_type": "code",
   "source": [
    "# convert the date of birth to a float\n",
    "player_ids['date_of_birth'] = pd.to_datetime(player_ids['date_of_birth'])\n",
    "# convert the date of birth to days\n",
    "player_ids['date_of_birth'] = (pd.to_datetime('today') - player_ids['date_of_birth']).dt.days"
   ],
   "id": "37bf2bee888342bb",
   "execution_count": 28,
   "outputs": []
  },
  {
   "metadata": {
    "ExecuteTime": {
     "end_time": "2024-06-05T12:20:52.687150Z",
     "start_time": "2024-06-05T12:20:52.672710Z"
    }
   },
   "cell_type": "code",
   "source": "",
   "id": "1d1c27434eaf04bf",
   "execution_count": 28,
   "outputs": []
  },
  {
   "metadata": {
    "ExecuteTime": {
     "end_time": "2024-06-05T12:20:52.711199Z",
     "start_time": "2024-06-05T12:20:52.688164Z"
    }
   },
   "cell_type": "code",
   "source": [
    "def find_matching_player_name(player_name):\n",
    "    for player in player_stats['player']:\n",
    "        if all(part.lower() in player.lower() for part in player_name.split()):\n",
    "            return player\n",
    "    return player_name\n",
    "\n",
    "# Apply the function to create player_name column\n",
    "#past_matches['Winner'] = past_matches['Winner'].apply(lambda x: find_matching_player_name(x) if pd.notnull(x) else x)\n",
    "#past_matches['Loser'] = past_matches['Loser'].apply(lambda x: find_matching_player_name(x) if pd.notnull(x) else x)\n",
    "past_matches"
   ],
   "id": "e7f20978016f0ec6",
   "execution_count": 29,
   "outputs": []
  },
  {
   "metadata": {
    "ExecuteTime": {
     "end_time": "2024-06-05T12:20:52.726054Z",
     "start_time": "2024-06-05T12:20:52.713291Z"
    }
   },
   "cell_type": "code",
   "source": [
    "def add_space_in_name(name):\n",
    "    # after the first upper nothing should be added, after all the next upper case letter should be followed by a space\n",
    "    new_name = ''\n",
    "    for i in range(len(name)):\n",
    "        if i == 0:\n",
    "            new_name += name[i]\n",
    "        elif name[i].isupper():\n",
    "            new_name += ' ' + name[i]\n",
    "        else:\n",
    "            new_name += name[i]\n",
    "    return new_name"
   ],
   "id": "c72767478305b54d",
   "execution_count": 30,
   "outputs": []
  },
  {
   "metadata": {
    "ExecuteTime": {
     "end_time": "2024-06-05T12:20:52.818183Z",
     "start_time": "2024-06-05T12:20:52.727052Z"
    }
   },
   "cell_type": "code",
   "source": [
    "# drop all rows with NaN values\n",
    "past_matches = past_matches.dropna()"
   ],
   "id": "f0f4d87d753f329b",
   "execution_count": 31,
   "outputs": []
  },
  {
   "metadata": {
    "ExecuteTime": {
     "end_time": "2024-06-05T12:20:52.833474Z",
     "start_time": "2024-06-05T12:20:52.819200Z"
    }
   },
   "cell_type": "code",
   "source": [
    "#for index, row in past_matches.iterrows():\n",
    "#    if sum(1 for c in row['Winner'] if c.isupper()) > 1 and ' ' not in row['Winner']:\n",
    "#        past_matches.at[index, 'Winner'] = add_space_in_name(row['Winner'])\n",
    "#    if sum(1 for c in row['Loser'] if c.isupper()) > 1 and ' ' not in row['Loser']:\n",
    "#        past_matches.at[index, 'Loser'] = add_space_in_name(row['Loser'])\n",
    "        \n",
    "#past_matches"
   ],
   "id": "839bfc8cc9f2e93",
   "execution_count": 32,
   "outputs": []
  },
  {
   "metadata": {
    "ExecuteTime": {
     "end_time": "2024-06-05T12:20:52.865057Z",
     "start_time": "2024-06-05T12:20:52.834477Z"
    }
   },
   "cell_type": "code",
   "source": [
    "# remove all cols instead of surface, winner, loser\n",
    "past_matches = past_matches.drop(columns=['player'])\n",
    "# add a column for the result that is always W\n",
    "#past_matches['Result'] = 'W'\n",
    "# change winner and loser to player 1 and player 2\n",
    "#past_matches.columns = ['Date', 'Player1', 'Player2', 'Surface', 'Result']\n",
    "past_matches"
   ],
   "id": "a0a99b08ea1a43bd",
   "execution_count": 33,
   "outputs": []
  },
  {
   "metadata": {},
   "cell_type": "markdown",
   "source": "Randomize the order so the winner is not always the first player",
   "id": "c085f8505dee720c"
  },
  {
   "metadata": {
    "ExecuteTime": {
     "end_time": "2024-06-05T12:20:52.957839Z",
     "start_time": "2024-06-05T12:20:52.866210Z"
    }
   },
   "cell_type": "code",
   "source": [
    "import numpy as np\n",
    "\n",
    "past_matches = past_matches.sample(frac=1, random_state=42).reset_index(drop=True)\n",
    "swap_indices = np.random.choice([True, False], size=len(past_matches))\n",
    "past_matches.loc[swap_indices, ['Player1', 'Player2']] = past_matches.loc[swap_indices, ['Player2', 'Player1']].values\n",
    "past_matches.loc[swap_indices, 'Result'] = 'L'\n",
    "past_matches = past_matches[['Date', 'Player1', 'Player2', 'Surface', 'Result']]\n",
    "past_matches"
   ],
   "id": "6417149e250d4a37",
   "execution_count": 34,
   "outputs": []
  },
  {
   "metadata": {
    "ExecuteTime": {
     "end_time": "2024-06-05T12:20:53.026297Z",
     "start_time": "2024-06-05T12:20:52.958834Z"
    }
   },
   "cell_type": "code",
   "source": [
    "# join upcoming matches with player_ids on Player1 and name add the player_id to the upcoming matches as player_id1\n",
    "past_matches = past_matches.merge(player_ids, left_on='Player1', right_on='name', how='left')\n",
    "past_matches"
   ],
   "id": "7453a8cd4b46e9f8",
   "execution_count": 35,
   "outputs": []
  },
  {
   "metadata": {
    "ExecuteTime": {
     "end_time": "2024-06-05T12:20:53.157149Z",
     "start_time": "2024-06-05T12:20:53.027305Z"
    }
   },
   "cell_type": "code",
   "source": [
    "past_matches = past_matches.drop(columns=['name', 'rank', 'nationality'])\n",
    "past_matches = past_matches.rename(columns={'player_id': 'player_id1', 'date_of_birth': 'date_of_birth1_days'})\n",
    "# join upcoming matches with player_ids on Player2 and name add the player_id to the upcoming matches as player_id2\n",
    "past_matches = past_matches.merge(player_ids, left_on='Player2', right_on='name', how='left')\n",
    "past_matches = past_matches.drop(columns=['name', 'rank', 'nationality'])\n",
    "past_matches = past_matches.rename(columns={'player_id': 'player_id2', 'date_of_birth': 'date_of_birth2_days'})\n",
    "past_matches"
   ],
   "id": "b7645f016499de76",
   "execution_count": 36,
   "outputs": []
  },
  {
   "metadata": {
    "ExecuteTime": {
     "end_time": "2024-06-05T12:20:53.173052Z",
     "start_time": "2024-06-05T12:20:53.158149Z"
    }
   },
   "cell_type": "code",
   "source": "player_stats.columns",
   "id": "7a95afd30465c315",
   "execution_count": 37,
   "outputs": []
  },
  {
   "metadata": {
    "ExecuteTime": {
     "end_time": "2024-06-05T12:20:53.188651Z",
     "start_time": "2024-06-05T12:20:53.173960Z"
    }
   },
   "cell_type": "code",
   "source": [
    "# drop nationality, player_url, name\n",
    "player_stats = player_stats.drop(columns=['nationality', 'name'])"
   ],
   "id": "894d7b97958a3b7c",
   "execution_count": 38,
   "outputs": []
  },
  {
   "metadata": {
    "ExecuteTime": {
     "end_time": "2024-06-05T12:20:53.204160Z",
     "start_time": "2024-06-05T12:20:53.189576Z"
    }
   },
   "cell_type": "code",
   "source": [
    "# rename date_of_birth to date_of_birth_full\n",
    "player_stats = player_stats.rename(columns={'date_of_birth': 'date_of_birth_full'})"
   ],
   "id": "8a25f03613e29b02",
   "execution_count": 39,
   "outputs": []
  },
  {
   "metadata": {
    "ExecuteTime": {
     "end_time": "2024-06-05T12:20:53.219647Z",
     "start_time": "2024-06-05T12:20:53.206021Z"
    }
   },
   "cell_type": "code",
   "source": "past_matches.columns",
   "id": "8379f85ab653ee6b",
   "execution_count": 40,
   "outputs": []
  },
  {
   "metadata": {
    "ExecuteTime": {
     "end_time": "2024-06-05T12:20:53.315788Z",
     "start_time": "2024-06-05T12:20:53.221153Z"
    }
   },
   "cell_type": "code",
   "source": [
    "# join past matches with player stats for player 1 and add a 1 after the column name\n",
    "past_matches = past_matches.merge(player_stats, left_on='Player1', right_on='player', how='left')\n",
    "past_matches = past_matches.drop(columns='player')\n",
    "# add a 1 to every column execpt player1, player2, surface and result\n",
    "past_matches.columns = ['Date', 'Player1', 'Player2', 'Surface', 'Result','date_of_birth1_days', 'player_id1', 'date_of_birth2_days',\n",
    "       'player_id2'] + [col + '1' for col in past_matches.columns[9:]]"
   ],
   "id": "883a1d6a2ef1ac90",
   "execution_count": 41,
   "outputs": []
  },
  {
   "metadata": {
    "ExecuteTime": {
     "end_time": "2024-06-05T12:20:53.424795Z",
     "start_time": "2024-06-05T12:20:53.317335Z"
    }
   },
   "cell_type": "code",
   "source": "past_matches",
   "id": "26bb432f2054bb4b",
   "execution_count": 42,
   "outputs": []
  },
  {
   "metadata": {
    "ExecuteTime": {
     "end_time": "2024-06-05T12:20:53.441029Z",
     "start_time": "2024-06-05T12:20:53.425974Z"
    }
   },
   "cell_type": "code",
   "source": [
    "# drop the columns date_of_birth_full1\n",
    "#past_matches = past_matches.drop(columns='date_of_birth_full1')"
   ],
   "id": "8f92f062324968bd",
   "execution_count": 43,
   "outputs": []
  },
  {
   "metadata": {
    "ExecuteTime": {
     "end_time": "2024-06-05T12:20:53.456673Z",
     "start_time": "2024-06-05T12:20:53.441969Z"
    }
   },
   "cell_type": "code",
   "source": "past_matches.columns",
   "id": "4d12da9d50d3cb15",
   "execution_count": 44,
   "outputs": []
  },
  {
   "metadata": {
    "ExecuteTime": {
     "end_time": "2024-06-05T12:20:53.627680Z",
     "start_time": "2024-06-05T12:20:53.458672Z"
    }
   },
   "cell_type": "code",
   "source": [
    "# do the same for player 2\n",
    "past_matches = past_matches.merge(player_stats, left_on='Player2', right_on='player', how='left')\n",
    "past_matches"
   ],
   "id": "12f55e35f7787752",
   "execution_count": 45,
   "outputs": []
  },
  {
   "metadata": {
    "ExecuteTime": {
     "end_time": "2024-06-05T12:20:53.721309Z",
     "start_time": "2024-06-05T12:20:53.628560Z"
    }
   },
   "cell_type": "code",
   "source": [
    "past_matches.columns = (\n",
    "            ['Date', 'Player1', 'Player2', 'Surface', 'Result',\n",
    "       'date_of_birth1_days', 'player_id1', 'date_of_birth2_days',\n",
    "       'player_id2', 'Ranking at that time1', 'Opponent Ranking at that time1',\n",
    "       'Dominance Ratio1', 'Ace Ratio1', 'Double Fault Ratio1',\n",
    "       'First Serve Percentage1', 'First Serve Points Won1',\n",
    "       'Second Serve Points Won1', 'round value1', 'Break Points Won1',\n",
    "       'Break Points Faced1', 'Sets Won1', 'Sets Lost1', 'Total time1', 'date_of_birth_full1']\n",
    "            + [col + '2' for col in past_matches.columns[24:]])\n",
    "past_matches"
   ],
   "id": "7fbf73611901b155",
   "execution_count": 46,
   "outputs": []
  },
  {
   "metadata": {
    "ExecuteTime": {
     "end_time": "2024-06-05T12:20:53.737025Z",
     "start_time": "2024-06-05T12:20:53.722253Z"
    }
   },
   "cell_type": "code",
   "source": [
    "#past_matches = past_matches.drop(columns='date_of_birth_full2')\n",
    "#past_matches = past_matches.drop(columns='player2')"
   ],
   "id": "feae4c4faddef088",
   "execution_count": 47,
   "outputs": []
  },
  {
   "metadata": {
    "ExecuteTime": {
     "end_time": "2024-06-05T12:20:53.753026Z",
     "start_time": "2024-06-05T12:20:53.739222Z"
    }
   },
   "cell_type": "code",
   "source": "past_matches.columns",
   "id": "f19f3281475109d3",
   "execution_count": 48,
   "outputs": []
  },
  {
   "metadata": {
    "ExecuteTime": {
     "end_time": "2024-06-05T12:20:54.047251Z",
     "start_time": "2024-06-05T12:20:53.754042Z"
    }
   },
   "cell_type": "code",
   "source": "past_matches.isna().sum()",
   "id": "fc379bce92042c94",
   "execution_count": 49,
   "outputs": []
  },
  {
   "metadata": {
    "ExecuteTime": {
     "end_time": "2024-06-05T12:20:54.372777Z",
     "start_time": "2024-06-05T12:20:54.048281Z"
    }
   },
   "cell_type": "code",
   "source": [
    "# remove all rows with NaN values\n",
    "past_matches = past_matches.dropna()"
   ],
   "id": "7cc43c10ce29652e",
   "execution_count": 50,
   "outputs": []
  },
  {
   "metadata": {
    "ExecuteTime": {
     "end_time": "2024-06-05T12:20:54.435818Z",
     "start_time": "2024-06-05T12:20:54.373839Z"
    }
   },
   "cell_type": "code",
   "source": [
    "# show me those rows\n",
    "past_matches"
   ],
   "id": "7c8ccb639de4a06c",
   "execution_count": 51,
   "outputs": []
  },
  {
   "metadata": {
    "ExecuteTime": {
     "end_time": "2024-06-05T12:20:54.482476Z",
     "start_time": "2024-06-05T12:20:54.436912Z"
    }
   },
   "cell_type": "code",
   "source": [
    "# calculate the age of the players based on the Date and the date of birth\n",
    "past_matches['Date'] = past_matches['Date'].str.replace('‑', '-')\n",
    "# Convert the 'Date' column to datetime format\n",
    "past_matches['Date'] = pd.to_datetime(past_matches['Date'], format='%d-%b-%Y')"
   ],
   "id": "528eeb7f035fea52",
   "execution_count": 52,
   "outputs": []
  },
  {
   "metadata": {
    "ExecuteTime": {
     "end_time": "2024-06-05T12:20:54.498320Z",
     "start_time": "2024-06-05T12:20:54.484434Z"
    }
   },
   "cell_type": "code",
   "source": "past_matches.columns",
   "id": "2f2e3f4553dc19f",
   "execution_count": 53,
   "outputs": []
  },
  {
   "metadata": {
    "ExecuteTime": {
     "end_time": "2024-06-05T12:20:54.543795Z",
     "start_time": "2024-06-05T12:20:54.500046Z"
    }
   },
   "cell_type": "code",
   "source": [
    "past_matches['date_of_birth_full1'] = pd.to_datetime(past_matches['date_of_birth_full1'])\n",
    "\n",
    "past_matches['date_of_birth_full2'] = pd.to_datetime(past_matches['date_of_birth_full2'])"
   ],
   "id": "6f380c8e08e01ca7",
   "execution_count": 54,
   "outputs": []
  },
  {
   "metadata": {
    "ExecuteTime": {
     "end_time": "2024-06-05T12:20:54.621269Z",
     "start_time": "2024-06-05T12:20:54.544779Z"
    }
   },
   "cell_type": "code",
   "source": [
    "past_matches['age1'] = (past_matches['Date'] - past_matches['date_of_birth_full1']).dt.days\n",
    "past_matches['age2'] = (past_matches['Date'] - past_matches['date_of_birth_full2']).dt.days\n",
    "past_matches = past_matches.drop(columns=['Date', 'date_of_birth_full1', 'date_of_birth_full2'])\n",
    "past_matches"
   ],
   "id": "4bf0180226a4f61d",
   "execution_count": 55,
   "outputs": []
  },
  {
   "metadata": {
    "ExecuteTime": {
     "end_time": "2024-06-05T12:20:54.699959Z",
     "start_time": "2024-06-05T12:20:54.622228Z"
    }
   },
   "cell_type": "code",
   "source": [
    "# change the order so first player 1 with all his stats and then player 2 with all his stats and then the surface and the result\n",
    "past_matches = past_matches[['Player1', 'player_id1', 'age1',  'Ranking at that time1', 'Opponent Ranking at that time1', 'Dominance Ratio1', 'Ace Ratio1', 'Double Fault Ratio1', 'First Serve Percentage1', 'First Serve Points Won1', 'Second Serve Points Won1', 'round value1', 'Break Points Won1', 'Break Points Faced1', 'Sets Won1', 'Sets Lost1', 'Total time1','Player2','player_id2', 'age2', 'Ranking at that time2', 'Opponent Ranking at that time2', 'Dominance Ratio2', 'Ace Ratio2', 'Double Fault Ratio2', 'First Serve Percentage2', 'First Serve Points Won2', 'Second Serve Points Won2', 'round value2', 'Break Points Won2', 'Break Points Faced2', 'Sets Won2', 'Sets Lost2', 'Total time2', 'Surface', 'Result']]\n",
    "past_matches"
   ],
   "id": "46282ddb4065978b",
   "execution_count": 56,
   "outputs": []
  },
  {
   "metadata": {
    "ExecuteTime": {
     "end_time": "2024-06-05T12:20:54.777706Z",
     "start_time": "2024-06-05T12:20:54.701115Z"
    }
   },
   "cell_type": "code",
   "source": [
    "# remove the player1 and player2 columns\n",
    "past_matches = past_matches.drop(columns=['Player1', 'Player2'])\n",
    "past_matches"
   ],
   "id": "be30788b07308ec8",
   "execution_count": 57,
   "outputs": []
  },
  {
   "metadata": {
    "ExecuteTime": {
     "end_time": "2024-06-05T12:20:54.792947Z",
     "start_time": "2024-06-05T12:20:54.779703Z"
    }
   },
   "cell_type": "code",
   "source": "past_matches.columns",
   "id": "b51b01a6b332d37",
   "execution_count": 58,
   "outputs": []
  },
  {
   "metadata": {
    "ExecuteTime": {
     "end_time": "2024-06-05T12:20:54.810938Z",
     "start_time": "2024-06-05T12:20:54.793947Z"
    }
   },
   "cell_type": "code",
   "source": "past_matches = past_matches.loc[:,~past_matches.columns.duplicated()]",
   "id": "2a78030d8fa34dcd",
   "execution_count": 59,
   "outputs": []
  },
  {
   "metadata": {},
   "cell_type": "markdown",
   "source": "# Perform one hot encoding on the surface column",
   "id": "b7eb3151fe0a8b10"
  },
  {
   "metadata": {
    "ExecuteTime": {
     "end_time": "2024-06-05T12:20:54.841244Z",
     "start_time": "2024-06-05T12:20:54.812102Z"
    }
   },
   "cell_type": "code",
   "source": [
    "surfaces = past_matches['Surface'].unique()\n",
    "surface_mapping = {surface: index + 1 for index, surface in enumerate(surfaces)}\n",
    "past_matches['Surface'] = past_matches['Surface'].map(surface_mapping)"
   ],
   "id": "49f34aa13f735a23",
   "execution_count": 60,
   "outputs": []
  },
  {
   "metadata": {
    "ExecuteTime": {
     "end_time": "2024-06-05T12:20:54.856388Z",
     "start_time": "2024-06-05T12:20:54.842913Z"
    }
   },
   "cell_type": "code",
   "source": "past_matches.columns",
   "id": "4f8b72f211399659",
   "execution_count": 61,
   "outputs": []
  },
  {
   "metadata": {
    "ExecuteTime": {
     "end_time": "2024-06-05T12:20:54.886444Z",
     "start_time": "2024-06-05T12:20:54.858355Z"
    }
   },
   "cell_type": "code",
   "source": [
    "new_column_order = [\n",
    "    'player_id1', 'age1', 'Ranking at that time1', 'Opponent Ranking at that time1', \n",
    "    'Dominance Ratio1', 'Ace Ratio1', 'Double Fault Ratio1', 'First Serve Percentage1', \n",
    "    'First Serve Points Won1', 'Second Serve Points Won1', 'round value1', 'Break Points Won1', \n",
    "    'Break Points Faced1', 'Sets Won1', 'Sets Lost1', 'Total time1', 'player_id2', 'age2', \n",
    "    'Ranking at that time2', 'Opponent Ranking at that time2', 'Dominance Ratio2', 'Ace Ratio2', \n",
    "    'Double Fault Ratio2', 'First Serve Percentage2', 'First Serve Points Won2', \n",
    "    'Second Serve Points Won2', 'round value2', 'Break Points Won2', 'Break Points Faced2', \n",
    "    'Sets Won2', 'Sets Lost2', 'Total time2', 'Surface',  'Result'\n",
    "]\n",
    "\n",
    "# Assuming past_matches is your DataFrame\n",
    "past_matches = past_matches.reindex(columns=new_column_order)"
   ],
   "id": "6bfeb51f8af8561c",
   "execution_count": 62,
   "outputs": []
  },
  {
   "metadata": {
    "ExecuteTime": {
     "end_time": "2024-06-05T12:20:54.947836Z",
     "start_time": "2024-06-05T12:20:54.887910Z"
    }
   },
   "cell_type": "code",
   "source": "past_matches",
   "id": "3f1169f313486c3b",
   "execution_count": 63,
   "outputs": []
  },
  {
   "metadata": {
    "ExecuteTime": {
     "end_time": "2024-06-05T12:21:00.087007Z",
     "start_time": "2024-06-05T12:20:54.949108Z"
    }
   },
   "cell_type": "code",
   "source": "past_matches_spark = spark.createDataFrame(past_matches)",
   "id": "125d5946e54037a1",
   "execution_count": 64,
   "outputs": []
  },
  {
   "metadata": {
    "ExecuteTime": {
     "end_time": "2024-06-05T12:21:09.731140Z",
     "start_time": "2024-06-05T12:21:00.088008Z"
    }
   },
   "cell_type": "code",
   "source": "past_matches_spark.write.csv('../data/final_train_df_spark.csv', header=True, mode=\"overwrite\")",
   "id": "56f44e57801a107b",
   "execution_count": 65,
   "outputs": []
  },
  {
   "metadata": {
    "ExecuteTime": {
     "end_time": "2024-06-05T12:21:09.746028Z",
     "start_time": "2024-06-05T12:21:09.733126Z"
    }
   },
   "cell_type": "code",
   "source": "# past_matches.to_csv(\"../data/final_train_df.csv\")",
   "id": "8dbe44c4a0d1151e",
   "execution_count": 66,
   "outputs": []
  }
 ],
 "metadata": {
  "kernelspec": {
   "display_name": "Python 3",
   "language": "python",
   "name": "python3"
  },
  "language_info": {
   "codemirror_mode": {
    "name": "ipython",
    "version": 2
   },
   "file_extension": ".py",
   "mimetype": "text/x-python",
   "name": "python",
   "nbconvert_exporter": "python",
   "pygments_lexer": "ipython2",
   "version": "2.7.6"
  }
 },
 "nbformat": 4,
 "nbformat_minor": 5
}
