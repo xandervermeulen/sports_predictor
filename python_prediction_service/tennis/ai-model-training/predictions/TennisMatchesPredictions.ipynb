{
 "cells": [
  {
   "metadata": {},
   "cell_type": "markdown",
   "source": "# Predictions on upcoming tennis matches with stacking classifier",
   "id": "b575fa381483a34f"
  },
  {
   "cell_type": "code",
   "id": "initial_id",
   "metadata": {
    "collapsed": true,
    "ExecuteTime": {
     "end_time": "2024-06-05T12:52:57.287799Z",
     "start_time": "2024-06-05T12:52:57.273394Z"
    }
   },
   "source": [
    "import joblib\n",
    "import pandas as pd\n",
    "import config.ConnectionConfig as cc\n",
    "import re"
   ],
   "execution_count": 25,
   "outputs": []
  },
  {
   "metadata": {
    "ExecuteTime": {
     "end_time": "2024-06-05T12:52:57.337865Z",
     "start_time": "2024-06-05T12:52:57.309215Z"
    }
   },
   "cell_type": "code",
   "source": [
    "cc.setupEnvironment()\n",
    "spark = cc.startLocalCluster(\"Tennis Predictions\")\n",
    "spark.getActiveSession()"
   ],
   "id": "5666cfe3881e7316",
   "execution_count": 26,
   "outputs": []
  },
  {
   "metadata": {
    "ExecuteTime": {
     "end_time": "2024-06-05T12:52:57.384670Z",
     "start_time": "2024-06-05T12:52:57.374164Z"
    }
   },
   "cell_type": "code",
   "source": [
    "scaler = joblib.load('../../models/tennis_nn_scaler.pkl')\n",
    "nn_model = joblib.load(\"../../models/tennis_nn_model.pkl\")"
   ],
   "id": "3110dabf1af4d820",
   "execution_count": 27,
   "outputs": []
  },
  {
   "metadata": {
    "ExecuteTime": {
     "end_time": "2024-06-05T12:52:57.639099Z",
     "start_time": "2024-06-05T12:52:57.395780Z"
    }
   },
   "cell_type": "code",
   "source": [
    "player_stats = spark.read.csv('../../data/full_player_stats_total.csv', header=True)\n",
    "player_stats = player_stats.toPandas()\n",
    "player_stats.to_csv('../../data/all_player_stats.csv')"
   ],
   "id": "b7ee0a77bd590a7f",
   "execution_count": 28,
   "outputs": []
  },
  {
   "metadata": {
    "ExecuteTime": {
     "end_time": "2024-06-05T12:52:57.655227Z",
     "start_time": "2024-06-05T12:52:57.639099Z"
    }
   },
   "cell_type": "code",
   "source": [
    "upcoming_matches = pd.read_csv('../../data/upcoming_matches_info_clean.csv', index_col=0)\n",
    "upcoming_matches"
   ],
   "id": "a79945d7c3c37272",
   "execution_count": 29,
   "outputs": []
  },
  {
   "metadata": {
    "ExecuteTime": {
     "end_time": "2024-06-05T12:52:57.670941Z",
     "start_time": "2024-06-05T12:52:57.655227Z"
    }
   },
   "cell_type": "code",
   "source": [
    "surfaces = upcoming_matches['Surface'].unique()\n",
    "surface_mapping = {surface: index + 1 for index, surface in enumerate(surfaces)}\n",
    "upcoming_matches['Surface'] = upcoming_matches['Surface'].map(surface_mapping)"
   ],
   "id": "6d77eb42dced0398",
   "execution_count": 30,
   "outputs": []
  },
  {
   "metadata": {
    "ExecuteTime": {
     "end_time": "2024-06-05T12:52:57.687864Z",
     "start_time": "2024-06-05T12:52:57.672624Z"
    }
   },
   "cell_type": "code",
   "source": [
    "def clean_player_name(name):\n",
    "    # Remove everything between [], (), and extra spaces\n",
    "    cleaned_name = re.sub(r'\\[.*?\\]|\\(.*?\\)|\\s', '', name).strip()\n",
    "    return cleaned_name"
   ],
   "id": "c7aa25cde7002572",
   "execution_count": 31,
   "outputs": []
  },
  {
   "metadata": {
    "ExecuteTime": {
     "end_time": "2024-06-05T12:52:57.692443Z",
     "start_time": "2024-06-05T12:52:57.689406Z"
    }
   },
   "cell_type": "code",
   "source": "",
   "id": "34f934832eb04296",
   "execution_count": 31,
   "outputs": []
  },
  {
   "metadata": {
    "ExecuteTime": {
     "end_time": "2024-06-05T12:52:57.708482Z",
     "start_time": "2024-06-05T12:52:57.692443Z"
    }
   },
   "cell_type": "code",
   "source": [
    "def clean_player_stats_names(df):\n",
    "    df['cleaned_player'] = df['player'].apply(clean_player_name)\n",
    "    return df"
   ],
   "id": "b1e5ee93ff9dacf2",
   "execution_count": 32,
   "outputs": []
  },
  {
   "metadata": {
    "ExecuteTime": {
     "end_time": "2024-06-05T12:52:57.724572Z",
     "start_time": "2024-06-05T12:52:57.709523Z"
    }
   },
   "cell_type": "code",
   "source": "player_stats = clean_player_stats_names(player_stats)",
   "id": "19b6ad92d93fca0f",
   "execution_count": 33,
   "outputs": []
  },
  {
   "metadata": {
    "ExecuteTime": {
     "end_time": "2024-06-05T12:52:57.740683Z",
     "start_time": "2024-06-05T12:52:57.724572Z"
    }
   },
   "cell_type": "code",
   "source": "player_stats",
   "id": "8128f13dc0995a5",
   "execution_count": 34,
   "outputs": []
  },
  {
   "metadata": {
    "ExecuteTime": {
     "end_time": "2024-06-05T12:52:57.756658Z",
     "start_time": "2024-06-05T12:52:57.740683Z"
    }
   },
   "cell_type": "code",
   "source": [
    "all_upcoming_matches = upcoming_matches.copy()\n",
    "all_upcoming_matches"
   ],
   "id": "6987fbbd5d3380be",
   "execution_count": 35,
   "outputs": []
  },
  {
   "metadata": {
    "ExecuteTime": {
     "end_time": "2024-06-05T12:52:57.772331Z",
     "start_time": "2024-06-05T12:52:57.759165Z"
    }
   },
   "cell_type": "code",
   "source": [
    "upcoming_matches.drop(columns=['Event'], inplace=True)\n",
    "upcoming_matches"
   ],
   "id": "355eac2ad30bc227",
   "execution_count": 36,
   "outputs": []
  },
  {
   "metadata": {
    "ExecuteTime": {
     "end_time": "2024-06-05T12:52:57.787799Z",
     "start_time": "2024-06-05T12:52:57.773729Z"
    }
   },
   "cell_type": "code",
   "source": [
    "upcoming_matches = upcoming_matches.merge(player_stats, left_on='player1', right_on='player', how='left')\n",
    "upcoming_matches.columns = ['Location' ,'Surface', 'Date','player1', 'player2', ] + [col + '1' for col in upcoming_matches.columns[5:]]"
   ],
   "id": "934e98028d623467",
   "execution_count": 37,
   "outputs": []
  },
  {
   "metadata": {
    "ExecuteTime": {
     "end_time": "2024-06-05T12:52:57.808958Z",
     "start_time": "2024-06-05T12:52:57.789306Z"
    }
   },
   "cell_type": "code",
   "source": [
    "upcoming_matches['player1'] = upcoming_matches['player1'].astype(str)\n",
    "upcoming_matches['player2'] = upcoming_matches['player2'].astype(str)\n",
    "upcoming_matches['Date'] = upcoming_matches['Date'].astype(str)"
   ],
   "id": "6add54d2958f5807",
   "execution_count": 38,
   "outputs": []
  },
  {
   "metadata": {
    "ExecuteTime": {
     "end_time": "2024-06-05T12:52:57.815628Z",
     "start_time": "2024-06-05T12:52:57.808958Z"
    }
   },
   "cell_type": "code",
   "source": "upcoming_matches['cleaned_player2'] = upcoming_matches['player2'].apply(clean_player_name)",
   "id": "76f055f3f434134c",
   "execution_count": 39,
   "outputs": []
  },
  {
   "metadata": {
    "ExecuteTime": {
     "end_time": "2024-06-05T12:52:57.831612Z",
     "start_time": "2024-06-05T12:52:57.815628Z"
    }
   },
   "cell_type": "code",
   "source": "upcoming_matches.columns",
   "id": "a0b9860b6087a179",
   "execution_count": 40,
   "outputs": []
  },
  {
   "metadata": {
    "ExecuteTime": {
     "end_time": "2024-06-05T12:52:57.847259Z",
     "start_time": "2024-06-05T12:52:57.831612Z"
    }
   },
   "cell_type": "code",
   "source": [
    "upcoming_matches = upcoming_matches.merge(player_stats, left_on='cleaned_player2', right_on='cleaned_player', how='left')\n",
    "upcoming_matches.columns = ['Location' ,'Surface', 'Date', 'player1', 'player2', 'player1',\n",
    "       'Ranking at that time1', 'Opponent Ranking at that time1',\n",
    "       'Dominance Ratio1', 'Ace Ratio1', 'Double Fault Ratio1',\n",
    "       'First Serve Percentage1', 'First Serve Points Won1',\n",
    "       'Second Serve Points Won1', 'round value1', 'Break Points Won1',\n",
    "       'Break Points Faced1', 'Sets Won1', 'Sets Lost1', 'Total time1',\n",
    "       'player_id1', 'rank1', 'player_url1', 'name1', 'nationality1',\n",
    "       'date_of_birth1', 'cleaned_player1', 'cleaned_player2'] + [col + '2' for col in upcoming_matches.columns[28:]]\n",
    "upcoming_matches"
   ],
   "id": "d27d0ccf32c73d03",
   "execution_count": 41,
   "outputs": []
  },
  {
   "metadata": {
    "ExecuteTime": {
     "end_time": "2024-06-05T12:52:58.059056Z",
     "start_time": "2024-06-05T12:52:57.847259Z"
    }
   },
   "cell_type": "code",
   "source": [
    "# calculate the age of the players based on the Date and the date of birth\n",
    "upcoming_matches['Date'] = upcoming_matches['Date'].str.replace('‑', '-')\n",
    "# Convert the 'Date' column to datetime format\n",
    "upcoming_matches['Date'] = pd.to_datetime(upcoming_matches['Date'], format='%d-%b-%Y')\n",
    "upcoming_matches['date_of_birth1'] = pd.to_datetime(upcoming_matches['date_of_birth1'])\n",
    "upcoming_matches['date_of_birth2'] = pd.to_datetime(upcoming_matches['date_of_birth2'])\n",
    "upcoming_matches['age1'] = (upcoming_matches['Date'] - upcoming_matches['date_of_birth1']).dt.days\n",
    "upcoming_matches['age2'] = (upcoming_matches['Date'] - upcoming_matches['date_of_birth2']).dt.days\n",
    "upcoming_matches = upcoming_matches.drop(columns=['Date', 'date_of_birth1', 'date_of_birth2'])\n",
    "upcoming_matches = upcoming_matches.dropna()\n",
    "upcoming_matches_stats = upcoming_matches"
   ],
   "id": "9cea46710af22d96",
   "execution_count": 42,
   "outputs": []
  },
  {
   "metadata": {},
   "cell_type": "code",
   "source": [
    "upcoming_matches = upcoming_matches[['player_id1', 'age1', 'Ranking at that time1', 'Opponent Ranking at that time1', 'Double Fault Ratio1', 'First Serve Percentage1', 'First Serve Points Won1', 'Break Points Won1', 'Sets Won1', 'Sets Lost1', 'Total time1', 'player_id2', 'age2','Ranking at that time2', 'Opponent Ranking at that time2', 'Double Fault Ratio2', 'First Serve Percentage2', 'First Serve Points Won2', 'Break Points Won2', 'Sets Won2', 'Sets Lost2', 'Total time2', 'Surface']]\n",
    "upcoming_matches"
   ],
   "id": "dcddb9819f96506e",
   "execution_count": null,
   "outputs": []
  },
  {
   "metadata": {},
   "cell_type": "code",
   "source": [
    "X = upcoming_matches\n",
    "X.shape"
   ],
   "id": "19f7feb0b7a7aa24",
   "execution_count": null,
   "outputs": []
  },
  {
   "metadata": {},
   "cell_type": "code",
   "source": [
    "X_scaled = scaler.transform(X)\n",
    "X_scaled = pd.DataFrame(X_scaled, columns=X.columns)\n",
    "X_scaled"
   ],
   "id": "38d7afdb9d24f556",
   "execution_count": null,
   "outputs": []
  },
  {
   "metadata": {},
   "cell_type": "code",
   "source": [
    "y_pred = nn_model.predict(X_scaled)\n",
    "y_pred"
   ],
   "id": "586cb4eda0a2a4de",
   "execution_count": null,
   "outputs": []
  },
  {
   "metadata": {},
   "cell_type": "code",
   "source": [
    "# predict the probability of the player1 winning\n",
    "nn_model.predict_proba(X_scaled)\n",
    "# print all the possible outcomes\n",
    "outcomes = nn_model.classes_\n",
    "# add the probabilities= to a new df\n",
    "probabilities = nn_model.predict_proba(X_scaled)\n",
    "probabilities_df = pd.DataFrame(probabilities, columns=outcomes)"
   ],
   "id": "858c82fd85bbb1d7",
   "execution_count": null,
   "outputs": []
  },
  {
   "metadata": {},
   "cell_type": "code",
   "source": [
    "# join probabilities to the y_pred\n",
    "y_pred_df = pd.DataFrame(y_pred, columns=['Prediction'])\n",
    "y_pred_df = pd.concat([y_pred_df, probabilities_df], axis=1)"
   ],
   "id": "9360ce99f52ecbca",
   "execution_count": null,
   "outputs": []
  },
  {
   "metadata": {},
   "cell_type": "code",
   "source": [
    "y_pred_df['Accuracy'] = y_pred_df[['L', 'W']].max(axis=1)\n",
    "y_pred_df = y_pred_df.drop(columns=['L', 'W'])\n",
    "y_pred_df['Accuracy'] = y_pred_df['Accuracy'].apply(lambda x: \"{:.2}\".format(x))\n",
    "y_pred_df"
   ],
   "id": "2d920dccc7875142",
   "execution_count": null,
   "outputs": []
  },
  {
   "metadata": {},
   "cell_type": "code",
   "source": "players = pd.read_csv('../../data/player_urls.csv', index_col=0)",
   "id": "4f3459a087f3d3b",
   "execution_count": null,
   "outputs": []
  },
  {
   "metadata": {},
   "cell_type": "code",
   "source": [
    "# join y_pred_df with upcoming_matches_stats\n",
    "upcoming_matches_stats.reset_index(drop=True, inplace=True)\n",
    "y_pred_df = pd.concat([upcoming_matches_stats, y_pred_df], axis=1)\n",
    "y_pred_df = y_pred_df[['player1', 'player2', 'Prediction', 'Accuracy']]\n",
    "y_pred_df = y_pred_df.loc[:,~y_pred_df.columns.duplicated()]\n",
    "y_pred_df"
   ],
   "id": "b80105cfbf51604a",
   "execution_count": null,
   "outputs": []
  },
  {
   "metadata": {},
   "cell_type": "code",
   "source": [
    "# merge all_upcoming_matches with y_pred_df if the player1 and player2 are the same\n",
    "all_upcoming_matches = all_upcoming_matches.merge(y_pred_df, left_on=['player1', 'player2'], right_on=['player1', 'player2'], how='left')\n",
    "all_upcoming_matches = all_upcoming_matches.dropna()\n",
    "all_upcoming_matches"
   ],
   "id": "9837dbc03ad5ae4d",
   "execution_count": null,
   "outputs": []
  },
  {
   "metadata": {},
   "cell_type": "code",
   "source": [
    "all_upcoming_matches = all_upcoming_matches[['Event', 'player1', 'player2', 'Date','Prediction', 'Accuracy']]\n",
    "all_upcoming_matches"
   ],
   "id": "6db7ad888f177caa",
   "execution_count": null,
   "outputs": []
  },
  {
   "metadata": {},
   "cell_type": "code",
   "source": "all_upcoming_matches.to_csv('../../data/upcoming_matches_predictions.csv')",
   "id": "378cc16e632ff426",
   "execution_count": null,
   "outputs": []
  }
 ],
 "metadata": {
  "kernelspec": {
   "display_name": "Python 3",
   "language": "python",
   "name": "python3"
  },
  "language_info": {
   "codemirror_mode": {
    "name": "ipython",
    "version": 2
   },
   "file_extension": ".py",
   "mimetype": "text/x-python",
   "name": "python",
   "nbconvert_exporter": "python",
   "pygments_lexer": "ipython2",
   "version": "2.7.6"
  }
 },
 "nbformat": 4,
 "nbformat_minor": 5
}
