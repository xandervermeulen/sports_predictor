{
 "cells": [
  {
   "metadata": {},
   "cell_type": "markdown",
   "source": "# Predicting Tennis Matches with Support Vector Machines",
   "id": "190b8c2dd436b0d"
  },
  {
   "metadata": {
    "ExecuteTime": {
     "end_time": "2024-05-23T14:41:12.115507Z",
     "start_time": "2024-05-23T14:41:11.447047Z"
    }
   },
   "cell_type": "code",
   "source": [
    "import pandas as pd\n",
    "import joblib\n",
    "from sklearn.model_selection import train_test_split\n",
    "from sklearn.model_selection import RandomizedSearchCV\n",
    "from sklearn.metrics import accuracy_score\n",
    "from scipy.stats import uniform\n",
    "from sklearn.svm import SVC\n",
    "import config.ConnectionConfig as cc"
   ],
   "id": "6b9812ab5da42a0a",
   "execution_count": 1,
   "outputs": []
  },
  {
   "metadata": {
    "ExecuteTime": {
     "end_time": "2024-05-23T14:41:12.131196Z",
     "start_time": "2024-05-23T14:41:12.116509Z"
    }
   },
   "cell_type": "code",
   "source": "scaler = joblib.load('../models/tennis_nn_scaler.pkl')",
   "id": "cb65d3f50074d5b4",
   "execution_count": 2,
   "outputs": []
  },
  {
   "metadata": {
    "ExecuteTime": {
     "end_time": "2024-05-23T14:41:16.852238Z",
     "start_time": "2024-05-23T14:41:12.132321Z"
    }
   },
   "cell_type": "code",
   "source": [
    "cc.setupEnvironment()\n",
    "spark = cc.startLocalCluster(\"Tennis Predictions\")\n",
    "spark.getActiveSession()"
   ],
   "id": "f2b09bf586b59725",
   "execution_count": 3,
   "outputs": []
  },
  {
   "metadata": {
    "ExecuteTime": {
     "end_time": "2024-05-23T14:41:21.079042Z",
     "start_time": "2024-05-23T14:41:16.853226Z"
    }
   },
   "cell_type": "code",
   "source": [
    "data = spark.read.csv('../data/final_train_df_spark.csv', header=True, inferSchema=True)\n",
    "data = data.toPandas()\n",
    "data"
   ],
   "id": "a0b9ac4d03fc702d",
   "execution_count": 4,
   "outputs": []
  },
  {
   "metadata": {
    "ExecuteTime": {
     "end_time": "2024-05-23T14:41:21.099434Z",
     "start_time": "2024-05-23T14:41:21.079786Z"
    }
   },
   "cell_type": "code",
   "source": "data = data.drop(['Surface_Carpet', 'Surface_Clay', 'Surface_Grass', 'Surface_Hard', 'Total time1', 'Total time2', 'Ranking at that time1', 'Ranking at that time2', 'round value1', 'round value2'], axis=1)",
   "id": "789eef415fee23f1",
   "execution_count": 5,
   "outputs": []
  },
  {
   "metadata": {
    "ExecuteTime": {
     "end_time": "2024-05-23T14:41:21.114742Z",
     "start_time": "2024-05-23T14:41:21.100662Z"
    }
   },
   "cell_type": "code",
   "source": [
    "X = data.iloc[:, :-1]\n",
    "y = data.iloc[:, -1]\n",
    "X.shape, y.shape"
   ],
   "id": "f74078b2c19fc63d",
   "execution_count": 6,
   "outputs": []
  },
  {
   "metadata": {
    "ExecuteTime": {
     "end_time": "2024-05-23T14:41:21.176764Z",
     "start_time": "2024-05-23T14:41:21.115748Z"
    }
   },
   "cell_type": "code",
   "source": [
    "X_scaled = scaler.fit_transform(X)\n",
    "X_scaled = pd.DataFrame(X_scaled, columns=X.columns)\n",
    "X_scaled"
   ],
   "id": "3889e23fa35e544d",
   "execution_count": 7,
   "outputs": []
  },
  {
   "metadata": {
    "ExecuteTime": {
     "end_time": "2024-05-23T14:41:21.209411Z",
     "start_time": "2024-05-23T14:41:21.177764Z"
    }
   },
   "cell_type": "code",
   "source": [
    "X_train, X_test, y_train, y_test = train_test_split(X_scaled, y, test_size=0.2, random_state=42)\n",
    "X_train.shape, X_test.shape, y_train.shape, y_test.shape"
   ],
   "id": "977f4861ca1b0755",
   "execution_count": 8,
   "outputs": []
  },
  {
   "metadata": {
    "ExecuteTime": {
     "end_time": "2024-05-23T15:09:20.621421Z",
     "start_time": "2024-05-23T14:41:21.210403Z"
    }
   },
   "cell_type": "code",
   "source": [
    "svm_clf = SVC(probability=True)\n",
    "svm_clf.fit(X_train, y_train)"
   ],
   "id": "958b61254898161e",
   "execution_count": 9,
   "outputs": []
  },
  {
   "metadata": {
    "ExecuteTime": {
     "end_time": "2024-05-23T15:09:50.222331Z",
     "start_time": "2024-05-23T15:09:20.621421Z"
    }
   },
   "cell_type": "code",
   "source": [
    "y_pred = svm_clf.predict(X_test)\n",
    "accuracy_score(y_test, y_pred)"
   ],
   "id": "1058e0ab3323bcab",
   "execution_count": 10,
   "outputs": []
  },
  {
   "metadata": {
    "ExecuteTime": {
     "end_time": "2024-05-23T15:18:20.631491Z",
     "start_time": "2024-05-23T15:18:20.600406Z"
    }
   },
   "cell_type": "code",
   "source": "joblib.dump(svm_clf, '../models/tennis_svm_model.pkl')",
   "id": "4be9f7eb654c192e",
   "execution_count": 12,
   "outputs": []
  }
 ],
 "metadata": {
  "kernelspec": {
   "display_name": "Python 3",
   "language": "python",
   "name": "python3"
  },
  "language_info": {
   "codemirror_mode": {
    "name": "ipython",
    "version": 2
   },
   "file_extension": ".py",
   "mimetype": "text/x-python",
   "name": "python",
   "nbconvert_exporter": "python",
   "pygments_lexer": "ipython2",
   "version": "2.7.6"
  }
 },
 "nbformat": 4,
 "nbformat_minor": 5
}
