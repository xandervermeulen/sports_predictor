{
 "cells": [
  {
   "cell_type": "markdown",
   "source": [
    "### Hard voting ensemble classifier"
   ],
   "metadata": {
    "collapsed": false
   },
   "id": "761c17bd6f0f790e"
  },
  {
   "cell_type": "markdown",
   "source": [
    "A hard voting ensemble classifier is an ensemble learning method that combines multiple base classifiers and predicts the class that gets the most votes. The base classifiers are trained on the same training set and predict the class labels. The"
   ],
   "metadata": {
    "collapsed": false
   },
   "id": "346f397b65012d26"
  },
  {
   "cell_type": "markdown",
   "source": [
    "## Importing the necessary libraries"
   ],
   "metadata": {
    "collapsed": false
   },
   "id": "279831ccaefc356b"
  },
  {
   "cell_type": "code",
   "source": [
    "from sklearn.model_selection import train_test_split\n",
    "from sklearn.linear_model import LogisticRegression\n",
    "import config.ConnectionConfig as cc\n",
    "from pyspark.sql import SparkSession\n",
    "from sklearn.preprocessing import StandardScaler\n",
    "from sklearn.metrics import accuracy_score\n",
    "from sklearn.model_selection import GridSearchCV\n",
    "import joblib"
   ],
   "metadata": {
    "collapsed": false,
    "ExecuteTime": {
     "end_time": "2024-06-05T11:58:37.705406Z",
     "start_time": "2024-06-05T11:58:37.690765Z"
    }
   },
   "id": "c3b9cc0f40941f26",
   "execution_count": 31,
   "outputs": []
  },
  {
   "cell_type": "markdown",
   "source": [
    "## spark session"
   ],
   "metadata": {
    "collapsed": false
   },
   "id": "1b8b3dad0ba45486"
  },
  {
   "cell_type": "code",
   "source": [
    "cc.setupEnvironment()\n",
    "spark = cc.startLocalCluster(\"UFC_Logistic_Regression_Training\")\n",
    "spark.getActiveSession()\n",
    "spark = SparkSession.builder.appName(\"UFC_Fights\").getOrCreate()"
   ],
   "metadata": {
    "collapsed": false,
    "ExecuteTime": {
     "end_time": "2024-06-05T11:58:37.783083Z",
     "start_time": "2024-06-05T11:58:37.756666Z"
    }
   },
   "id": "7de56132c34276ca",
   "execution_count": 32,
   "outputs": []
  },
  {
   "cell_type": "markdown",
   "source": [
    "## data retrieval"
   ],
   "metadata": {
    "collapsed": false
   },
   "id": "d8059cef5723f143"
  },
  {
   "cell_type": "code",
   "id": "initial_id",
   "metadata": {
    "collapsed": true,
    "ExecuteTime": {
     "end_time": "2024-06-05T11:58:38.202090Z",
     "start_time": "2024-06-05T11:58:37.785094Z"
    }
   },
   "source": [
    "total_df = spark.read.csv(\"../processed_data/fight_total.csv\", header=True, inferSchema=True)\n",
    "total_df.show()\n",
    "# select all columns except the fighter1 and fighter2 columns\n",
    "data = total_df.drop('fighter1', 'fighter2')\n",
    "# convert to a pandas dataframe\n",
    "data = data.toPandas()\n",
    "data"
   ],
   "execution_count": 33,
   "outputs": []
  },
  {
   "cell_type": "markdown",
   "source": [
    "## Splitting data into training and testing sets"
   ],
   "metadata": {
    "collapsed": false
   },
   "id": "63b65f37041246ad"
  },
  {
   "cell_type": "code",
   "source": [
    "X = data.drop('outcome', axis = 1)\n",
    "y = data['outcome']\n",
    "\n",
    "X_train, X_test, y_train, y_test = train_test_split(X, y, test_size = 0.01, random_state = 42)\n",
    "\n",
    "X_train.shape, X_test.shape, y_train.shape, y_test.shape"
   ],
   "metadata": {
    "collapsed": false,
    "ExecuteTime": {
     "end_time": "2024-06-05T11:58:38.216794Z",
     "start_time": "2024-06-05T11:58:38.203017Z"
    }
   },
   "id": "5a7c5e9a2d81c1ac",
   "execution_count": 34,
   "outputs": []
  },
  {
   "cell_type": "markdown",
   "source": [
    "## Training different models for the ensemble"
   ],
   "metadata": {
    "collapsed": false
   },
   "id": "612426d7551abd23"
  },
  {
   "cell_type": "markdown",
   "source": [
    "## Random Forest Classifier"
   ],
   "metadata": {
    "collapsed": false
   },
   "id": "b88f633910f46b32"
  },
  {
   "cell_type": "markdown",
   "source": [
    "Random Forest is an ensemble learning method that is used for classification and regression problems. It works by creating a large number of decision trees and combining their predictions to make a final prediction. Random Forest is a powerful algorithm that is used in a wide range of applications, including image classification, text classification, and bioinformatics."
   ],
   "metadata": {
    "collapsed": false
   },
   "id": "92cbc8fa4fdde678"
  },
  {
   "cell_type": "code",
   "source": [
    "from sklearn.ensemble import RandomForestClassifier\n",
    "\n",
    "rf = RandomForestClassifier(random_state=42, max_depth=10, min_samples_leaf=2, min_samples_split=5, n_estimators=100)\n",
    "\n",
    "rf.fit(X_train, y_train)\n",
    "\n",
    "print(f\"Accuracy: {rf.score(X_test, y_test)}\")"
   ],
   "metadata": {
    "collapsed": false,
    "ExecuteTime": {
     "end_time": "2024-06-05T11:58:39.252976Z",
     "start_time": "2024-06-05T11:58:38.218173Z"
    }
   },
   "id": "9c480d737b06f0e2",
   "execution_count": 35,
   "outputs": []
  },
  {
   "cell_type": "markdown",
   "source": [
    "## neural network"
   ],
   "metadata": {
    "collapsed": false
   },
   "id": "4640398ae96700b2"
  },
  {
   "cell_type": "markdown",
   "source": [
    "mlp stands for Multi-layer Perceptron, this is a type of feedforward artificial neural network, this means that the connections between the nodes do not form a cycle. The nodes are organized in layers, the input layer, one or more hidden layers, and the output layer. The nodes in the input layer are connected to the nodes in the hidden layer, and the nodes in the hidden layer are connected to the nodes in the output layer. The nodes in the hidden layer are connected to all the nodes in the input layer and the output layer."
   ],
   "metadata": {
    "collapsed": false
   },
   "id": "24c79daf0e6baf3e"
  },
  {
   "cell_type": "code",
   "source": [
    "from sklearn.neural_network import MLPClassifier\n",
    "\n",
    "mlp = MLPClassifier(hidden_layer_sizes=(5, 5), solver='adam', max_iter=20000, activation='identity', learning_rate='adaptive', learning_rate_init=0.01, random_state=42)\n",
    "\n",
    "mlp.fit(X_train, y_train)\n",
    "\n",
    "print(f\"Accuracy: {mlp.score(X_train, y_train)}\")"
   ],
   "metadata": {
    "collapsed": false,
    "ExecuteTime": {
     "end_time": "2024-06-05T11:58:39.802326Z",
     "start_time": "2024-06-05T11:58:39.253962Z"
    }
   },
   "id": "87ca1f0c9a6db50f",
   "execution_count": 36,
   "outputs": []
  },
  {
   "cell_type": "markdown",
   "source": [
    "## Logistic Regression"
   ],
   "metadata": {
    "collapsed": false
   },
   "id": "dbbd3ed43f1fc75e"
  },
  {
   "cell_type": "code",
   "source": [
    "from sklearn.preprocessing import StandardScaler\n",
    "from sklearn.linear_model import LogisticRegression\n",
    "scaler = StandardScaler()\n",
    "X_train_scaled = scaler.fit_transform(X_train)\n",
    "X_test_scaled = scaler.transform(X_test)\n",
    "\n",
    "log_clf = LogisticRegression(fit_intercept=True, random_state=42, C=10, penalty='l2', solver='saga')\n",
    "\n",
    "log_clf.fit(X_train_scaled, y_train)\n",
    "\n",
    "print(f\"Accuracy: {log_clf.score(X_test_scaled, y_test)}\")\n"
   ],
   "metadata": {
    "collapsed": false,
    "ExecuteTime": {
     "end_time": "2024-06-05T11:58:40.112219Z",
     "start_time": "2024-06-05T11:58:39.804273Z"
    }
   },
   "id": "c7057790b5ba90e5",
   "execution_count": 37,
   "outputs": []
  },
  {
   "cell_type": "markdown",
   "source": [
    "## Support Vector Machine"
   ],
   "metadata": {
    "collapsed": false
   },
   "id": "2e0f4e1bc0432d1a"
  },
  {
   "cell_type": "markdown",
   "source": [
    "Support Vector Machine (SVM) is a supervised machine learning algorithm that is used for classification and regression problems. It works by finding the hyperplane that best separates the data into different classes. The hyperplane is the line that maximizes the margin between the classes. SVM is a powerful algorithm that is used in a wide range of applications, including image classification, text classification, and bioinformatics."
   ],
   "metadata": {
    "collapsed": false
   },
   "id": "30ee68697ae45165"
  },
  {
   "cell_type": "code",
   "source": [
    "from sklearn.svm import SVC\n",
    "\n",
    "\n",
    "svm_clf = SVC(random_state=42, C=1, gamma='scale', kernel='linear', probability=True)\n",
    "\n",
    "svm_clf.fit(X_train_scaled, y_train)\n",
    "\n",
    "print(f\"Accuracy: {svm_clf.score(X_test_scaled, y_test)}\")"
   ],
   "metadata": {
    "collapsed": false,
    "ExecuteTime": {
     "end_time": "2024-06-05T11:58:46.771179Z",
     "start_time": "2024-06-05T11:58:40.114234Z"
    }
   },
   "id": "4b333bc49c55d326",
   "execution_count": 38,
   "outputs": []
  },
  {
   "metadata": {
    "ExecuteTime": {
     "end_time": "2024-06-05T11:58:46.787039Z",
     "start_time": "2024-06-05T11:58:46.772088Z"
    }
   },
   "cell_type": "code",
   "source": "",
   "id": "c123c90c31bd6ff0",
   "execution_count": 38,
   "outputs": []
  },
  {
   "cell_type": "markdown",
   "source": [
    "## Ensemble Classifier --> Hard Voting"
   ],
   "metadata": {
    "collapsed": false
   },
   "id": "a66f94f852fb58ae"
  },
  {
   "cell_type": "markdown",
   "source": [
    "In hard voting, the predicted class label for a particular sample is the majority class label among the classifiers. In soft voting, the predicted class label for a particular sample is the class label that has the highest probability among all the classifiers."
   ],
   "metadata": {
    "collapsed": false
   },
   "id": "af14ede8640bd95e"
  },
  {
   "cell_type": "code",
   "source": [
    "from sklearn.ensemble import VotingClassifier\n",
    "\n",
    "voting_clf = VotingClassifier(\n",
    "    estimators=[('rf', rf), ('mlp', mlp), ('log_clf', log_clf), ('svm_clf', svm_clf)],\n",
    "    voting='soft'\n",
    ")\n",
    "\n",
    "voting_clf.fit(X_train_scaled, y_train)\n",
    "\n",
    "print(f\"Accuracy: {voting_clf.score(X_test_scaled, y_test)}\")\n",
    "\n",
    "print(f\"Actual: {y_test.values}\")\n",
    "\n",
    "print(f\"Predicted: {voting_clf.predict(X_test_scaled)}\")\n",
    "# joblib.dump(voting_clf, 'models/ufc_voting_clf.pkl')\n",
    "accuracy_score(y_test, voting_clf.predict(X_test_scaled))"
   ],
   "metadata": {
    "collapsed": false,
    "ExecuteTime": {
     "end_time": "2024-06-05T11:59:35.855607Z",
     "start_time": "2024-06-05T11:59:27.192169Z"
    }
   },
   "id": "74665d60581b9933",
   "execution_count": 40,
   "outputs": []
  },
  {
   "metadata": {},
   "cell_type": "code",
   "source": "",
   "id": "115e428497311b4d",
   "execution_count": null,
   "outputs": []
  },
  {
   "cell_type": "markdown",
   "source": [
    "## Hyperparameter tuning for each model"
   ],
   "metadata": {
    "collapsed": false
   },
   "id": "b2c9227b034fba97"
  },
  {
   "cell_type": "markdown",
   "source": [
    "### Random Forest"
   ],
   "metadata": {
    "collapsed": false
   },
   "id": "3a423d149454719c"
  },
  {
   "cell_type": "code",
   "source": [
    "from sklearn.model_selection import GridSearchCV\n",
    "\n",
    "param_grid = {\n",
    "    'n_estimators': [50, 100, 200],\n",
    "    'max_depth': [10, 20, 30, 40, 50],\n",
    "    'min_samples_split': [2, 5, 10],\n",
    "    'min_samples_leaf': [1, 2, 4]\n",
    "}\n",
    "\n",
    "rf = RandomForestClassifier(random_state=42)\n",
    "\n",
    "grid_search = GridSearchCV(estimator=rf, param_grid=param_grid, cv=3, n_jobs=-1, verbose=2)\n",
    "\n",
    "grid_search.fit(X_train, y_train)\n",
    "\n",
    "print(grid_search.best_params_)\n",
    "\n",
    "print(f\"Accuracy: {grid_search.score(X_test, y_test)}\")\n",
    "\n",
    "print(f\"Actual: {y_test.values}\")\n",
    "\n",
    "print(f\"Predicted: {grid_search.predict(X_test)}\")"
   ],
   "metadata": {
    "collapsed": false,
    "ExecuteTime": {
     "end_time": "2024-06-05T12:00:24.084423Z",
     "start_time": "2024-06-05T11:59:35.857116Z"
    }
   },
   "id": "733438c3d5038a60",
   "execution_count": 41,
   "outputs": []
  },
  {
   "cell_type": "markdown",
   "source": [
    "### Neural Network"
   ],
   "metadata": {
    "collapsed": false
   },
   "id": "d7716ea5658e47a0"
  },
  {
   "cell_type": "code",
   "source": [
    "param_grid = {\n",
    "    'hidden_layer_sizes': [(50, 50, 50), (50, 100, 50), (100,)],\n",
    "    'activation': ['tanh ', 'relu'],\n",
    "    'solver': ['sgd', 'adam'],\n",
    "    'alpha': [0.0001, 0.05],\n",
    "    'learning_rate': ['constant', 'adaptive'],\n",
    "}\n",
    "\n",
    "mlp = MLPClassifier(random_state=42, max_iter=1000)\n",
    "\n",
    "grid_search = GridSearchCV(estimator=mlp, param_grid=param_grid, cv=3, n_jobs=-1, verbose=2)\n",
    "\n",
    "grid_search.fit(X_train, y_train)\n",
    "\n",
    "print(grid_search.best_params_)\n",
    "\n",
    "print(f\"Accuracy: {grid_search.score(X_test, y_test)}\")\n",
    "\n",
    "print(f\"Actual: {y_test.values}\")\n",
    "\n",
    "print(f\"Predicted: {grid_search.predict(X_test)}\")"
   ],
   "metadata": {
    "collapsed": false,
    "ExecuteTime": {
     "end_time": "2024-06-05T12:01:21.225955Z",
     "start_time": "2024-06-05T12:00:24.086422Z"
    }
   },
   "id": "c69ce2b261cbcb44",
   "execution_count": 42,
   "outputs": []
  },
  {
   "cell_type": "markdown",
   "source": [
    "### Logistic Regression"
   ],
   "metadata": {
    "collapsed": false
   },
   "id": "e689ce97f18cc463"
  },
  {
   "cell_type": "code",
   "source": [
    "param_grid = {\n",
    "    'C': [0.001, 0.01, 0.1, 1, 10, 100, 1000],\n",
    "    'penalty': ['l1', 'l2'],\n",
    "    'solver': ['liblinear', 'saga']\n",
    "}\n",
    "\n",
    "log_clf = LogisticRegression(fit_intercept=True, random_state=42)\n",
    "\n",
    "grid_search = GridSearchCV(estimator=log_clf, param_grid=param_grid, cv=3, n_jobs=-1, verbose=2)\n",
    "\n",
    "grid_search.fit(X_train_scaled, y_train)\n",
    "\n",
    "print(grid_search.best_params_)\n",
    "\n",
    "print(f\"Accuracy: {grid_search.score(X_test_scaled, y_test)}\")\n",
    "\n",
    "print(f\"Actual: {y_test.values}\")\n",
    "\n",
    "print(f\"Predicted: {grid_search.predict(X_test_scaled)}\")"
   ],
   "metadata": {
    "collapsed": false,
    "ExecuteTime": {
     "end_time": "2024-06-05T12:01:23.963312Z",
     "start_time": "2024-06-05T12:01:21.227349Z"
    }
   },
   "id": "182594f2eb195e63",
   "execution_count": 43,
   "outputs": []
  },
  {
   "cell_type": "markdown",
   "source": [
    "### Support Vector Machine"
   ],
   "metadata": {
    "collapsed": false
   },
   "id": "78f63e33b37d7391"
  },
  {
   "cell_type": "markdown",
   "source": [],
   "metadata": {
    "collapsed": false
   },
   "id": "d9d65843a9f6875a"
  },
  {
   "cell_type": "code",
   "source": [
    "param_grid = {\n",
    "    'C': [0.1, 1, 10, 100],\n",
    "    'kernel': ['linear', 'poly', 'rbf', 'sigmoid'],\n",
    "    'gamma': ['scale', 'auto']\n",
    "}\n",
    "\n",
    "svm_clf = SVC(random_state=42, probability=True)\n",
    "\n",
    "grid_search = GridSearchCV(estimator=svm_clf, param_grid=param_grid, cv=3, n_jobs=-1, verbose=2)\n",
    "\n",
    "grid_search.fit(X_train_scaled, y_train)\n",
    "\n",
    "print(grid_search.best_params_)\n",
    "\n",
    "print(f\"Accuracy: {grid_search.score(X_test_scaled, y_test)}\")\n",
    "\n",
    "print(f\"Actual: {y_test.values}\")\n"
   ],
   "metadata": {
    "collapsed": false,
    "jupyter": {
     "is_executing": true
    },
    "ExecuteTime": {
     "start_time": "2024-06-05T12:01:23.964304Z"
    }
   },
   "id": "c4bd640f932d3488",
   "execution_count": null,
   "outputs": []
  },
  {
   "cell_type": "markdown",
   "source": [
    "## Hyperparameter tuning for the ensemble classifier"
   ],
   "metadata": {
    "collapsed": false
   },
   "id": "5be946b831381d6b"
  },
  {
   "cell_type": "code",
   "source": [
    "param_grid = {\n",
    "    'voting': ['hard', 'soft'],\n",
    "}\n",
    "\n",
    "voting_clf = VotingClassifier(\n",
    "    estimators=[('rf', rf), ('mlp', mlp), ('log_clf', log_clf), ('svm_clf', svm_clf)],\n",
    "    voting='hard'\n",
    ")\n",
    "voting_clf_soft = VotingClassifier(\n",
    "    estimators=[('rf', rf), ('mlp', mlp), ('log_clf', log_clf), ('svm_clf', svm_clf)],\n",
    "    voting='soft'\n",
    ")\n",
    "#grid_search = GridSearchCV(estimator=voting_clf, param_grid=param_grid, cv=3, n_jobs=-1, verbose=2)\n",
    "\n",
    "#grid_search.fit(X_train_scaled, y_train)\n",
    "voting_clf_soft.fit(X_train_scaled, y_train)\n",
    "voting_clf.fit(X_train_scaled, y_train)\n",
    "#print(grid_search.best_params_)\n",
    "\n",
    "#print(f\"Accuracy: {grid_search.score(X_test_scaled, y_test)}\")\n",
    "\n",
    "#print(f\"Actual: {y_test.values}\")\n",
    "\n",
    "print(f\"Accuracy on hard model: {voting_clf.score(X_train_scaled, y_train)}\")\n",
    "print(f\"Accuracy on soft model: {voting_clf_soft.score(X_train_scaled, y_train)}\")\n",
    "\n",
    "print(f\"Accuracy Score on Test set (hard): {voting_clf.score(X_test_scaled, y_test)}\")\n",
    "print(f\"Accuracy Score on Test set (soft): {voting_clf_soft.score(X_test_scaled, y_test)}\")"
   ],
   "metadata": {
    "collapsed": false,
    "jupyter": {
     "is_executing": true
    }
   },
   "id": "4281c6609298ea4a",
   "execution_count": null,
   "outputs": []
  }
 ],
 "metadata": {
  "kernelspec": {
   "display_name": "Python 3",
   "language": "python",
   "name": "python3"
  },
  "language_info": {
   "codemirror_mode": {
    "name": "ipython",
    "version": 2
   },
   "file_extension": ".py",
   "mimetype": "text/x-python",
   "name": "python",
   "nbconvert_exporter": "python",
   "pygments_lexer": "ipython2",
   "version": "2.7.6"
  }
 },
 "nbformat": 4,
 "nbformat_minor": 5
}
