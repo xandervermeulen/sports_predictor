{
 "cells": [
  {
   "cell_type": "code",
   "execution_count": 1,
   "id": "1110c1bb48a1640c",
   "metadata": {
    "collapsed": false,
    "ExecuteTime": {
     "end_time": "2024-04-25T09:36:34.211718Z",
     "start_time": "2024-04-25T09:36:32.440314Z"
    }
   },
   "source": [
    "import joblib\n",
    "import numpy as np\n",
    "import pandas as pd\n",
    "import config.ConnectionConfig as cc\n",
    "from sklearn.ensemble import VotingClassifier\n",
    "from pyspark.sql import SparkSession\n",
    "from sklearn.preprocessing import StandardScaler"
   ],
   "outputs": []
  },
  {
   "cell_type": "code",
   "source": [
    "\n",
    "cc.setupEnvironment()\n",
    "spark = cc.startLocalCluster(\"UFC_Logistic_Regression_Training\")\n",
    "spark.getActiveSession()\n",
    "spark = SparkSession.builder.appName(\"UFC_Fights\").getOrCreate()"
   ],
   "metadata": {
    "collapsed": true,
    "ExecuteTime": {
     "end_time": "2024-04-24T11:29:52.080345Z",
     "start_time": "2024-04-24T11:29:43.824100Z"
    }
   },
   "id": "initial_id",
   "execution_count": 2,
   "outputs": []
  },
  {
   "cell_type": "code",
   "source": [
    "model_mlp = joblib.load('models/ufc_mlpclassifier_model.pkl')\n",
    "model_lr = joblib.load('models/ufc_logistic_regression_model.pkl')\n",
    "model_sve = joblib.load('models/ufc_voting_clf.pkl')"
   ],
   "metadata": {
    "collapsed": false,
    "ExecuteTime": {
     "end_time": "2024-04-24T11:29:52.252105Z",
     "start_time": "2024-04-24T11:29:52.081342Z"
    }
   },
   "id": "1eea8e9c940ac51",
   "execution_count": 3,
   "outputs": []
  },
  {
   "cell_type": "code",
   "source": [
    "upcoming_fight_info = spark.read.csv('processed_data/upcoming_events_fights.csv', header=True, inferSchema=True)\n",
    "upcoming_fight_info.show(100)"
   ],
   "metadata": {
    "collapsed": false,
    "ExecuteTime": {
     "end_time": "2024-04-24T11:29:56.736512Z",
     "start_time": "2024-04-24T11:29:52.253105Z"
    }
   },
   "id": "7332d720aaa7019a",
   "execution_count": 4,
   "outputs": []
  },
  {
   "cell_type": "code",
   "source": [
    "fighters = spark.read.csv('processed_data/fighter_details.csv', header=True, inferSchema=True)\n",
    "# order by event_date\n",
    "#fighters.show(100)\n",
    "# select row where fighter1 is alexandre pantoja\n",
    "fighters.show()"
   ],
   "metadata": {
    "collapsed": false,
    "ExecuteTime": {
     "end_time": "2024-04-24T11:29:57.889101Z",
     "start_time": "2024-04-24T11:29:56.738491Z"
    }
   },
   "id": "dfb1c7e48cbcaa2d",
   "execution_count": 5,
   "outputs": []
  },
  {
   "cell_type": "code",
   "source": [
    "upcoming_fight_info.createOrReplaceTempView(\"upcoming_fight_info\")\n",
    "fighters.createOrReplaceTempView(\"fighters\")\n",
    "\n",
    "info_upcoming_fights = spark.sql(\"\"\"SELECT\n",
    "                                    f1.fighter as fighter_1, \n",
    "                                    f1.fighter_index as fighter_index_1,\n",
    "                                    f1.AVG_KD as AVG_KD_1,\n",
    "                                    f1.AVG_SUB_ATT as AVG_SUB_ATT_1,\n",
    "                                    f1.AVG_TD_Percentage as AVG_TD_Percentage_1,\n",
    "                                    f1.AVG_Significant_Strike_Percentage as AVG_Significant_Strike_Percentage_1,\n",
    "                                    f1.AVG_TOTAL_STR as AVG_TOTAL_STR_1,\n",
    "                                    f1.AVG_ROUND as AVG_ROUND_1,\n",
    "                                    f1.AVG_CTRL_SECONDS as AVG_CTRL_SECONDS_1,\n",
    "                                    f1.total_wins as total_wins_1,\n",
    "                                    f1.total_losses as total_loss_1,\n",
    "                                    f1.total_draws as total_draws_1,\n",
    "                                    f1.Win_Percentage as Win_Percentage_1,\n",
    "                                    f1.Height_CM as Height_CM_1,\n",
    "                                    f1.Weight_KG as Weight_KG_1,\n",
    "                                    f1.Reach_Conv as Reach_Conv_1,\n",
    "                                    f2.fighter as fighter_2,\n",
    "                                    f2.fighter_index as fighter_index_2,\n",
    "                                    f2.AVG_KD as AVG_KD_2,\n",
    "                                    f2.AVG_SUB_ATT as AVG_SUB_ATT_2,\n",
    "                                    f2.AVG_TD_Percentage as AVG_TD_Percentage_2,\n",
    "                                    f2.AVG_Significant_Strike_Percentage as AVG_Significant_Strike_Percentage_2,\n",
    "                                    f2.AVG_TOTAL_STR as AVG_TOTAL_STR_2,\n",
    "                                    f2.AVG_ROUND as AVG_ROUND_2,\n",
    "                                    f2.AVG_CTRL_SECONDS as AVG_CTRL_SECONDS_2,\n",
    "                                    f2.total_wins as total_wins_2,\n",
    "                                    f2.total_losses as total_loss_2,\n",
    "                                    f2.total_draws as total_draws_2,\n",
    "                                    f2.Win_Percentage as Win_Percentage_2,\n",
    "                                    f2.Height_CM as Height_CM_2,\n",
    "                                    f2.Weight_KG as Weight_KG_2,\n",
    "                                    f2.Reach_Conv as Reach_Conv_2\n",
    "                                    FROM upcoming_fight_info as ufi \\\n",
    "                                    JOIN fighters as f1 ON ufi.fighter1 = f1.fighter \\\n",
    "                                    JOIN fighters as f2 ON ufi.fighter2 = f2.fighter\n",
    "                                    ORDER BY ufi.fighter1\n",
    "                                    \"\"\")\n",
    "info_upcoming_fights.show(200)"
   ],
   "metadata": {
    "collapsed": false,
    "ExecuteTime": {
     "end_time": "2024-04-24T11:29:59.736322Z",
     "start_time": "2024-04-24T11:29:57.891101Z"
    }
   },
   "id": "c0e154e570b639a3",
   "execution_count": 6,
   "outputs": []
  },
  {
   "cell_type": "code",
   "source": [
    "info_upcoming_fights.createOrReplaceTempView(\"info_upcoming_fights\")\n",
    "\n",
    "info_upcoming_fights = info_upcoming_fights.drop('fighter_1', 'fighter_2')\n",
    "\n",
    "info_upcoming_fights = info_upcoming_fights.toPandas()\n",
    "info_upcoming_fights"
   ],
   "metadata": {
    "collapsed": false,
    "ExecuteTime": {
     "end_time": "2024-04-24T11:30:02.290364Z",
     "start_time": "2024-04-24T11:29:59.737322Z"
    }
   },
   "id": "2811679a67c48293",
   "execution_count": 7,
   "outputs": []
  },
  {
   "cell_type": "code",
   "source": [
    "\n",
    "scaler = StandardScaler()\n",
    "X = scaler.fit_transform(info_upcoming_fights)\n",
    "\n",
    "# Predict outcomes using the trained models\n",
    "y_mlp = model_mlp.predict(X)\n",
    "y_lr = model_lr.predict(X)\n",
    "y_sve = model_sve.predict(X)\n",
    "\n",
    "# Combine predictions\n",
    "full_upcoming_fight_results_pd = pd.DataFrame({\n",
    "    'mlp_prediction': y_mlp,\n",
    "    'lr_prediction': y_lr,\n",
    "    'hve_prediction': y_sve\n",
    "})"
   ],
   "metadata": {
    "collapsed": false,
    "ExecuteTime": {
     "end_time": "2024-04-24T11:30:02.337956Z",
     "start_time": "2024-04-24T11:30:02.292878Z"
    }
   },
   "id": "c069dc93c973865c",
   "execution_count": 8,
   "outputs": []
  },
  {
   "cell_type": "code",
   "source": [
    "full_upcoming_fight_results_pd"
   ],
   "metadata": {
    "collapsed": false,
    "ExecuteTime": {
     "end_time": "2024-04-24T11:30:02.353997Z",
     "start_time": "2024-04-24T11:30:02.339956Z"
    }
   },
   "id": "4e7e65be99f72fd",
   "execution_count": 9,
   "outputs": []
  },
  {
   "cell_type": "code",
   "source": [
    "# get the most common prediction of the three models\n",
    "full_upcoming_fight_results_pd['final_prediction'] = full_upcoming_fight_results_pd.mode(axis=1)[0]\n",
    "full_upcoming_fight_results_pd"
   ],
   "metadata": {
    "collapsed": false,
    "ExecuteTime": {
     "end_time": "2024-04-24T11:30:02.401185Z",
     "start_time": "2024-04-24T11:30:02.355999Z"
    }
   },
   "id": "4a72fd45b63359a8",
   "execution_count": 10,
   "outputs": []
  },
  {
   "cell_type": "code",
   "source": [
    "probabilities = model_mlp.predict_proba(X)\n",
    "probabilities = pd.DataFrame(probabilities, columns=model_mlp.classes_)\n",
    "probabilities"
   ],
   "metadata": {
    "collapsed": false,
    "ExecuteTime": {
     "end_time": "2024-04-24T11:30:02.416640Z",
     "start_time": "2024-04-24T11:30:02.403119Z"
    }
   },
   "id": "e6ff65d07fd08a1",
   "execution_count": 11,
   "outputs": []
  },
  {
   "cell_type": "code",
   "source": [
    "\n",
    "# the probability should be the col 'W/L'\n",
    "full_upcoming_fight_results_pd['probability'] = probabilities['W/L']\n",
    "total_fights_data = pd.concat([info_upcoming_fights, full_upcoming_fight_results_pd], axis=1)\n",
    "total_fights_data"
   ],
   "metadata": {
    "collapsed": false,
    "ExecuteTime": {
     "end_time": "2024-04-24T11:30:02.478121Z",
     "start_time": "2024-04-24T11:30:02.418638Z"
    }
   },
   "id": "eaaba718b4c2558e",
   "execution_count": 12,
   "outputs": []
  },
  {
   "cell_type": "code",
   "source": [
    "total_fights_data = spark.createDataFrame(total_fights_data)\n",
    "total_fights_data.createOrReplaceTempView(\"total_fights_data\")"
   ],
   "metadata": {
    "collapsed": false,
    "ExecuteTime": {
     "end_time": "2024-04-24T11:30:02.589230Z",
     "start_time": "2024-04-24T11:30:02.479121Z"
    }
   },
   "id": "62edce410605f7fc",
   "execution_count": 13,
   "outputs": []
  },
  {
   "cell_type": "code",
   "source": [
    "final_predictions = spark.sql(\"SELECT ufi.fighter_1, ufi.fighter_2, tfd.final_prediction, tfd.probability \"\n",
    "                              \"FROM info_upcoming_fights as ufi \"\n",
    "                              \"JOIN total_fights_data as tfd \"\n",
    "                              \"on ufi.fighter_index_1 = tfd.fighter_index_1 and ufi.fighter_index_2 = tfd.fighter_index_2 \"\n",
    "                              \"ORDER BY ufi.fighter_1\"\n",
    "                              \"\").show(100)"
   ],
   "metadata": {
    "collapsed": false,
    "ExecuteTime": {
     "end_time": "2024-04-24T11:30:19.933138Z",
     "start_time": "2024-04-24T11:30:02.592758Z"
    }
   },
   "id": "f357b42b94f7cda0",
   "execution_count": 14,
   "outputs": []
  }
 ],
 "metadata": {
  "kernelspec": {
   "display_name": "Python 3",
   "language": "python",
   "name": "python3"
  },
  "language_info": {
   "codemirror_mode": {
    "name": "ipython",
    "version": 2
   },
   "file_extension": ".py",
   "mimetype": "text/x-python",
   "name": "python",
   "nbconvert_exporter": "python",
   "pygments_lexer": "ipython2",
   "version": "2.7.6"
  }
 },
 "nbformat": 4,
 "nbformat_minor": 5
}
