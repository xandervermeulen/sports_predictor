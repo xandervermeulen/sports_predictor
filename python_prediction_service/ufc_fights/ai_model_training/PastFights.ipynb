{
 "cells": [
  {
   "cell_type": "markdown",
   "source": [
    "# Past Fight Analysis"
   ],
   "metadata": {
    "collapsed": false
   },
   "id": "bba9b4e23a24c5f8"
  },
  {
   "cell_type": "code",
   "source": [
    "import config.ConnectionConfig as cc\n",
    "import pandas as pd\n",
    "from tqdm import tqdm_notebook\n",
    "import yaml\n",
    "import ufc_fights.data_collector.scrape_ufc_stats_library as LIB"
   ],
   "metadata": {
    "collapsed": false,
    "ExecuteTime": {
     "end_time": "2024-05-08T11:56:06.369414Z",
     "start_time": "2024-05-08T11:56:06.352302Z"
    }
   },
   "id": "c42844bd54d2091e",
   "execution_count": 59,
   "outputs": []
  },
  {
   "metadata": {
    "ExecuteTime": {
     "end_time": "2024-05-08T11:55:57.409308Z",
     "start_time": "2024-05-08T11:55:12.987889Z"
    }
   },
   "cell_type": "code",
   "source": [
    "\n",
    "config = yaml.safe_load(open('../data_collector/scrape_ufc_stats_config.yaml'))\n",
    "events_url = config['completed_events_all_url']\n",
    "# get soup\n",
    "soup = LIB.get_soup(events_url)\n",
    "\n",
    "# parse event details\n",
    "all_event_details_df = LIB.parse_event_details(soup)\n",
    "list_of_events_urls = list(all_event_details_df['URL'])\n",
    "# create empty df to store fight details\n",
    "all_fight_details_df = pd.DataFrame(columns=config['fight_details_column_names'])\n",
    "# define list of urls of fights to parse\n",
    "\n",
    "# loop through each event and parse fight details\n",
    "for url in tqdm_notebook(list_of_events_urls):\n",
    "\n",
    "    # get soup\n",
    "    soup = LIB.get_soup(url)\n",
    "\n",
    "    # parse fight links\n",
    "    fight_details_df = LIB.parse_fight_details(soup)\n",
    "    \n",
    "    # concat fight details\n",
    "    all_fight_details_df = pd.concat([all_fight_details_df, fight_details_df])\n",
    "    "
   ],
   "id": "2c4ad77ee700e7a1",
   "execution_count": 58,
   "outputs": []
  },
  {
   "metadata": {},
   "cell_type": "code",
   "source": [
    "    \n",
    "list_of_fight_details_urls = list(all_fight_details_df['URL'])\n",
    "# create empty df to store fight results\n",
    "all_fight_results_df = pd.DataFrame(columns=config['fight_results_column_names'])"
   ],
   "id": "5eea30c33f2f13ac",
   "execution_count": null,
   "outputs": []
  },
  {
   "metadata": {},
   "cell_type": "code",
   "source": [
    "# Initialize an empty list to store individual fight result DataFrames\n",
    "all_fight_results_dfs = []\n",
    "\n",
    "# loop through each fight and parse fight results and stats\n",
    "for url in list_of_fight_details_urls[:10]:\n",
    "    # get soup\n",
    "    soup = LIB.get_soup(url)\n",
    "\n",
    "    # parse fight results and fight stats\n",
    "    fight_results_df, fight_stats_df = LIB.parse_organise_fight_results_and_stats(\n",
    "        soup,\n",
    "        url,\n",
    "        config['fight_results_column_names'],\n",
    "        config['totals_column_names'],\n",
    "        config['significant_strikes_column_names']\n",
    "    )\n",
    "\n",
    "    # Append the fight result DataFrame to the list\n",
    "    all_fight_results_dfs.append(fight_results_df)\n",
    "\n",
    "# Concatenate all the fight result DataFrames in one go\n",
    "all_fight_results_df = pd.concat(all_fight_results_dfs)\n",
    "\n",
    "# Display the concatenated DataFrame\n",
    "display(all_fight_results_df)\n"
   ],
   "id": "3e7e4926e0a1227",
   "execution_count": null,
   "outputs": []
  },
  {
   "cell_type": "code",
   "source": [
    "cc.setupEnvironment()\n",
    "spark = cc.startLocalCluster(\"UFC_Fighter_Stats\")\n",
    "spark.getActiveSession()"
   ],
   "metadata": {
    "collapsed": false,
    "ExecuteTime": {
     "end_time": "2024-05-08T11:56:09.990926Z",
     "start_time": "2024-05-08T11:56:09.974940Z"
    }
   },
   "id": "1f845c8cd4b7273b",
   "execution_count": 60,
   "outputs": []
  },
  {
   "cell_type": "code",
   "id": "initial_id",
   "metadata": {
    "collapsed": true,
    "ExecuteTime": {
     "end_time": "2024-05-08T11:56:12.541917Z",
     "start_time": "2024-05-08T11:56:12.301781Z"
    }
   },
   "source": [
    "past_fights = spark.read.csv(\"../data/ufc_fight_results.csv\", header=True)\n",
    "fight_total = spark.read.csv(\"../processed_data/fight_total.csv\", header=True)\n",
    "print(past_fights.count())\n",
    "fight_total.count()"
   ],
   "execution_count": 61,
   "outputs": []
  },
  {
   "cell_type": "code",
   "source": [
    "past_fights.show()"
   ],
   "metadata": {
    "collapsed": false,
    "ExecuteTime": {
     "end_time": "2024-05-08T11:56:16.495197Z",
     "start_time": "2024-05-08T11:56:16.460633Z"
    }
   },
   "id": "bcefe7d9a808e843",
   "execution_count": 62,
   "outputs": []
  },
  {
   "cell_type": "code",
   "source": [
    "fight_total.show()\n",
    "fight_total.createOrReplaceTempView(\"fight_total\")"
   ],
   "metadata": {
    "collapsed": false,
    "ExecuteTime": {
     "end_time": "2024-05-08T11:56:17.468310Z",
     "start_time": "2024-05-08T11:56:17.410286Z"
    }
   },
   "id": "cfdd3b26575c861f",
   "execution_count": 63,
   "outputs": []
  },
  {
   "cell_type": "code",
   "source": [
    "from pyspark.sql.functions import split\n",
    "\n",
    "# Assuming 'past_fights' is your Spark DataFrame\n",
    "# Splitting the 'BOUT' column into 'fighter1' and 'fighter2'\n",
    "past_fights = past_fights.withColumn('fighter1', split('BOUT', ' vs. ')[0])\n",
    "past_fights = past_fights.withColumn('fighter2', split('BOUT', ' vs. ')[1])\n",
    "# drop all columns except EVENT, OUTCOME, fighter1, fighter2\n",
    "past_fights = past_fights.select('EVENT', 'OUTCOME', 'fighter1', 'fighter2')\n",
    "final_past_fight_data = past_fights\n",
    "# Display the DataFrame to check the changes\n",
    "past_fights.show()"
   ],
   "metadata": {
    "collapsed": false,
    "ExecuteTime": {
     "end_time": "2024-05-08T11:56:18.211952Z",
     "start_time": "2024-05-08T11:56:18.118437Z"
    }
   },
   "id": "2cfa78ff40489940",
   "execution_count": 64,
   "outputs": []
  },
  {
   "cell_type": "code",
   "source": [
    "# past_fights = past_fights.drop('EVENT')\n",
    "past_fights.createOrReplaceTempView(\"past_fights\")"
   ],
   "metadata": {
    "collapsed": false,
    "ExecuteTime": {
     "end_time": "2024-05-08T11:56:19.031587Z",
     "start_time": "2024-05-08T11:56:19.010584Z"
    }
   },
   "id": "d8092481df30fb70",
   "execution_count": 65,
   "outputs": []
  },
  {
   "cell_type": "code",
   "source": [
    "past_fights.printSchema()"
   ],
   "metadata": {
    "collapsed": false,
    "ExecuteTime": {
     "end_time": "2024-05-08T11:56:23.943677Z",
     "start_time": "2024-05-08T11:56:23.929610Z"
    }
   },
   "id": "a71ad8427591bd19",
   "execution_count": 66,
   "outputs": []
  },
  {
   "cell_type": "code",
   "source": [
    "from pyspark.sql.functions import trim\n",
    "\n",
    "# Trim extra spaces from fighter names in both DataFrames\n",
    "fight_total_spark = spark.sql(\"\"\"\n",
    "    SELECT TRIM(fighter1) AS fighter_1,\n",
    "           TRIM(fighter2) AS fighter_2, *\n",
    "    FROM fight_total\n",
    "\"\"\")\n",
    "fight_total_spark.createOrReplaceTempView(\"trimmed_fight_total\")\n",
    "# drop fighter1 and fighter2 columns\n",
    "fight_total_spark = fight_total_spark.drop('fighter1', 'fighter2')\n",
    "# rename fighter_1 and fighter_2 columns to fighter1 and fighter2\n",
    "fight_total_spark = fight_total_spark.withColumnRenamed('fighter_1', 'fighter1')\n",
    "fight_total_spark = fight_total_spark.withColumnRenamed('fighter_2', 'fighter2')\n",
    "fight_total_spark.show()"
   ],
   "metadata": {
    "collapsed": false,
    "ExecuteTime": {
     "end_time": "2024-05-08T11:56:24.475879Z",
     "start_time": "2024-05-08T11:56:24.411860Z"
    }
   },
   "id": "b08fba5a9696ba0f",
   "execution_count": 67,
   "outputs": []
  },
  {
   "cell_type": "code",
   "source": [
    "\n",
    "spark.sql(\"\"\"\n",
    "    SELECT TRIM(fighter1) AS fighter1,\n",
    "           TRIM(fighter2) AS fighter2,\n",
    "           monotonically_increasing_id() AS row_id\n",
    "    FROM past_fights\n",
    "\"\"\").createOrReplaceTempView(\"trimmed_past_fights\")\n",
    "\n",
    "# |-- fighter1_index: string (nullable = true)\n",
    "# |-- height1: string (nullable = true)\n",
    "# |-- weight_kg1: string (nullable = true)\n",
    "# |-- avg_kd1: string (nullable = true)\n",
    "# |-- avg_sub_att1: string (nullable = true)\n",
    "# |-- avg_td_percentage1: string (nullable = true)\n",
    "# |-- avg_significant_strike_percentage1: string (nullable = true)\n",
    "# |-- avg_total_str1: string (nullable = true)\n",
    "# |-- avg_round1: string (nullable = true)\n",
    "# |-- avg_ctrl_seconds1: string (nullable = true)\n",
    "# |-- total_wins1: string (nullable = true)\n",
    "# |-- total_losses1: string (nullable = true)\n",
    "# |-- total_draws1: string (nullable = true)\n",
    "# |-- win_percentage1: string (nullable = true)\n",
    "# |-- reach_conv1: string (nullable = true)\n",
    "joined_df = spark.sql(\"\"\"\n",
    "    SELECT pf.fighter1, \n",
    "    ft.fighter1_index,\n",
    "    ft.height1,\n",
    "    ft.weight_kg1,\n",
    "    ft.avg_kd1,\n",
    "    ft.avg_sub_att1,\n",
    "    ft.avg_td_percentage1,\n",
    "    ft.avg_significant_strike_percentage1,\n",
    "    ft.avg_total_str1,\n",
    "    ft.avg_round1,\n",
    "    ft.avg_ctrl_seconds1,\n",
    "    ft.total_wins1,\n",
    "    ft.total_losses1,\n",
    "    ft.total_draws1,\n",
    "    ft.win_percentage1,\n",
    "    ft.reach_conv1,\n",
    "    pf.fighter2, \n",
    "    ft.fighter2_index,  \n",
    "    ft.height2,\n",
    "    ft.weight_kg2,\n",
    "    ft.avg_kd2,\n",
    "    ft.avg_sub_att2,\n",
    "    ft.avg_td_percentage2,\n",
    "    ft.avg_significant_strike_percentage2,\n",
    "    ft.avg_total_str2,\n",
    "    ft.avg_round2,\n",
    "    ft.avg_ctrl_seconds2,\n",
    "    ft.total_wins2,\n",
    "    ft.total_losses2,\n",
    "    ft.total_draws2,\n",
    "    ft.win_percentage2,\n",
    "    ft.reach_conv2,\n",
    "    ft.OUTCOME\n",
    "    FROM trimmed_fight_total AS ft\n",
    "    JOIN trimmed_past_fights AS pf\n",
    "    ON ft.fighter1 = pf.fighter1 AND ft.fighter2 = pf.fighter2\n",
    "    ORDER BY pf.row_id\n",
    "\"\"\")"
   ],
   "metadata": {
    "collapsed": false,
    "ExecuteTime": {
     "end_time": "2024-05-08T11:56:25.342716Z",
     "start_time": "2024-05-08T11:56:25.325718Z"
    }
   },
   "id": "3696c42cb8127fc2",
   "execution_count": 68,
   "outputs": []
  },
  {
   "cell_type": "code",
   "source": [
    "joined_df.show()"
   ],
   "metadata": {
    "collapsed": false,
    "ExecuteTime": {
     "end_time": "2024-05-08T11:56:26.161237Z",
     "start_time": "2024-05-08T11:56:26.053194Z"
    }
   },
   "id": "fa86eaf4b92d3897",
   "execution_count": 69,
   "outputs": []
  },
  {
   "cell_type": "code",
   "source": [
    "all_past_fight_data = joined_df\n",
    "joined_df.show()"
   ],
   "metadata": {
    "collapsed": false,
    "ExecuteTime": {
     "end_time": "2024-05-08T11:56:26.662936Z",
     "start_time": "2024-05-08T11:56:26.545143Z"
    }
   },
   "id": "5638f439a7771607",
   "execution_count": 70,
   "outputs": []
  },
  {
   "cell_type": "code",
   "source": [
    "joined_df = joined_df.drop('fighter1', 'fighter2')"
   ],
   "metadata": {
    "collapsed": false,
    "ExecuteTime": {
     "end_time": "2024-05-08T11:56:27.054817Z",
     "start_time": "2024-05-08T11:56:27.037023Z"
    }
   },
   "id": "4485b253753a286b",
   "execution_count": 71,
   "outputs": []
  },
  {
   "cell_type": "code",
   "source": [
    "joined_df.show()"
   ],
   "metadata": {
    "collapsed": false,
    "ExecuteTime": {
     "end_time": "2024-05-08T11:56:27.743102Z",
     "start_time": "2024-05-08T11:56:27.621368Z"
    }
   },
   "id": "7a90c269aa56b6f5",
   "execution_count": 72,
   "outputs": []
  },
  {
   "cell_type": "code",
   "source": [
    "from pyspark.sql.functions import col\n",
    "\n",
    "def split_data(joined_df, num_parts):\n",
    "    # Calculate the total count of rows\n",
    "    total_rows = joined_df.count()\n",
    "    \n",
    "    # Calculate the number of rows for each part\n",
    "    part_rows = int(total_rows / num_parts)\n",
    "    \n",
    "    # Create a list to store the segmented DataFrames\n",
    "    segmented_data = []\n",
    "    \n",
    "    # Split the data into parts\n",
    "    for i in range(num_parts):\n",
    "        # Define the start and end indices for the part\n",
    "        start_index = part_rows * i\n",
    "        end_index = part_rows * (i + 1)\n",
    "        \n",
    "        # Extract the part from the DataFrame\n",
    "        part_df = joined_df.select('*').limit(end_index).subtract(joined_df.select('*').limit(start_index))\n",
    "        \n",
    "        # Append the part to the list\n",
    "        segmented_data.append(part_df)\n",
    "    \n",
    "    return segmented_data"
   ],
   "metadata": {
    "collapsed": false,
    "ExecuteTime": {
     "end_time": "2024-05-08T11:56:28.057251Z",
     "start_time": "2024-05-08T11:56:28.038251Z"
    }
   },
   "id": "1d08afaf3c6f38df",
   "execution_count": 73,
   "outputs": []
  },
  {
   "cell_type": "code",
   "source": [
    "num_parts = 5\n",
    "part_data = split_data(joined_df, num_parts)\n",
    "part1, part2, part3, part4, part5 = part_data"
   ],
   "metadata": {
    "collapsed": false,
    "ExecuteTime": {
     "end_time": "2024-05-08T11:56:28.874986Z",
     "start_time": "2024-05-08T11:56:28.644446Z"
    }
   },
   "id": "d062f38f84ccd0a5",
   "execution_count": 74,
   "outputs": []
  },
  {
   "metadata": {
    "ExecuteTime": {
     "end_time": "2024-05-08T11:56:29.410233Z",
     "start_time": "2024-05-08T11:56:29.236265Z"
    }
   },
   "cell_type": "code",
   "source": [
    "part1.count()"
   ],
   "id": "a37c39e825338061",
   "execution_count": 75,
   "outputs": []
  },
  {
   "cell_type": "code",
   "source": [
    "total = joined_df.count()\n",
    "train_rows = int(total * 0.8)\n",
    "# train data is part 5, 2, 3, 4\n",
    "train_data = part5.union(part4).union(part3).union(part2)\n",
    "# test data is part 1\n",
    "test_data = part1\n",
    "X_train = train_data.drop('OUTCOME')\n",
    "y_train = train_data.select('OUTCOME')\n",
    "X_test = test_data.drop('OUTCOME')\n",
    "y_test = test_data.select('OUTCOME')\n",
    "print(X_train.count())\n",
    "print(y_train.count())\n",
    "print(X_test.count())\n",
    "print(y_test.count())"
   ],
   "metadata": {
    "collapsed": false,
    "ExecuteTime": {
     "end_time": "2024-05-08T11:56:33.002474Z",
     "start_time": "2024-05-08T11:56:30.423768Z"
    }
   },
   "id": "be9bf6079956ce5e",
   "execution_count": 76,
   "outputs": []
  },
  {
   "cell_type": "code",
   "source": [
    "from sklearn.preprocessing import StandardScaler\n",
    "\n",
    "scaler = StandardScaler()\n",
    "X_train = X_train.toPandas()\n",
    "X_test = X_test.toPandas()\n",
    "\n",
    "X_train_scaled = scaler.fit_transform(X_train)\n",
    "X_test_scaled = scaler.transform(X_test)"
   ],
   "metadata": {
    "collapsed": false,
    "ExecuteTime": {
     "end_time": "2024-05-08T11:56:34.190837Z",
     "start_time": "2024-05-08T11:56:33.003477Z"
    }
   },
   "id": "de9b64ca03b46c50",
   "execution_count": 77,
   "outputs": []
  },
  {
   "cell_type": "code",
   "source": [
    "import joblib\n",
    "from sklearn.neural_network import MLPClassifier\n",
    "model = joblib.load(\"../models/ufc_mlpclassifier_model.pkl\")"
   ],
   "metadata": {
    "collapsed": false,
    "ExecuteTime": {
     "end_time": "2024-05-08T11:56:34.206945Z",
     "start_time": "2024-05-08T11:56:34.191838Z"
    }
   },
   "id": "f87c65e46c8246a6",
   "execution_count": 78,
   "outputs": []
  },
  {
   "cell_type": "code",
   "source": [
    "y_train_flat = y_train.toPandas().values.flatten()\n",
    "model.fit(X_train_scaled, y_train_flat)"
   ],
   "metadata": {
    "collapsed": false,
    "ExecuteTime": {
     "end_time": "2024-05-08T11:56:35.412392Z",
     "start_time": "2024-05-08T11:56:34.208929Z"
    }
   },
   "id": "74c1524931ad3f5",
   "execution_count": 79,
   "outputs": []
  },
  {
   "cell_type": "code",
   "source": [
    "model.score(X_train_scaled, y_train_flat)"
   ],
   "metadata": {
    "collapsed": false,
    "ExecuteTime": {
     "end_time": "2024-05-08T11:56:35.428392Z",
     "start_time": "2024-05-08T11:56:35.413393Z"
    }
   },
   "id": "2b5a73c01a6471c4",
   "execution_count": 80,
   "outputs": []
  },
  {
   "cell_type": "code",
   "source": [
    "predictions = model.predict(X_test_scaled)"
   ],
   "metadata": {
    "collapsed": false,
    "ExecuteTime": {
     "end_time": "2024-05-08T11:56:35.507963Z",
     "start_time": "2024-05-08T11:56:35.429392Z"
    }
   },
   "id": "54e3ae5445f4686d",
   "execution_count": 81,
   "outputs": []
  },
  {
   "cell_type": "code",
   "source": [
    "probabilities = model.predict_proba(X_test_scaled)\n",
    "# use model.classes_ to get the class labels\n",
    "probabilities = pd.DataFrame(probabilities, columns=model.classes_)\n",
    "probabilities"
   ],
   "metadata": {
    "collapsed": false,
    "ExecuteTime": {
     "end_time": "2024-05-08T11:56:35.615803Z",
     "start_time": "2024-05-08T11:56:35.508904Z"
    }
   },
   "id": "f989a98504b2f645",
   "execution_count": 82,
   "outputs": []
  },
  {
   "cell_type": "code",
   "source": [
    "# accuracy score of the test data\n",
    "y_test_flat = y_test.toPandas().values.flatten()\n",
    "print(f'Test accuracy: {model.score(X_test_scaled, y_test_flat)}')"
   ],
   "metadata": {
    "collapsed": false,
    "ExecuteTime": {
     "end_time": "2024-05-08T11:56:35.948528Z",
     "start_time": "2024-05-08T11:56:35.616803Z"
    }
   },
   "id": "10bb2c5d310e0a43",
   "execution_count": 83,
   "outputs": []
  },
  {
   "cell_type": "code",
   "source": [
    "# join X_test with y_test\n",
    "# convert numpt to pandas\n",
    "predictions = pd.DataFrame(predictions, columns=['predicted_outcome'])\n",
    "predictions = pd.concat([probabilities, predictions], axis=1)\n",
    "predictions"
   ],
   "metadata": {
    "collapsed": false,
    "ExecuteTime": {
     "end_time": "2024-05-08T11:56:35.963528Z",
     "start_time": "2024-05-08T11:56:35.949528Z"
    }
   },
   "id": "8644c96373e3b60a",
   "execution_count": 84,
   "outputs": []
  },
  {
   "cell_type": "code",
   "source": [
    "X_test = pd.concat([X_test, predictions], axis=1)\n",
    "X_test"
   ],
   "metadata": {
    "collapsed": false,
    "ExecuteTime": {
     "end_time": "2024-05-08T11:56:35.978532Z",
     "start_time": "2024-05-08T11:56:35.964527Z"
    }
   },
   "id": "1816ac22c5375275",
   "execution_count": 85,
   "outputs": []
  },
  {
   "cell_type": "code",
   "source": [
    "X_test = spark.createDataFrame(X_test)\n",
    "X_test.createOrReplaceTempView(\"X_test\")"
   ],
   "metadata": {
    "collapsed": false,
    "ExecuteTime": {
     "end_time": "2024-05-08T11:56:36.136667Z",
     "start_time": "2024-05-08T11:56:35.979531Z"
    }
   },
   "id": "d84946869e30ec43",
   "execution_count": 86,
   "outputs": []
  },
  {
   "cell_type": "code",
   "source": [
    "print(X_test.count())\n",
    "X_test"
   ],
   "metadata": {
    "collapsed": false,
    "ExecuteTime": {
     "end_time": "2024-05-08T11:56:44.117261Z",
     "start_time": "2024-05-08T11:56:36.137568Z"
    }
   },
   "id": "d4a6edcb3b0a0d17",
   "execution_count": 87,
   "outputs": []
  },
  {
   "cell_type": "code",
   "source": [
    "spark.sql(\"SELECT TRIM(fighter1) AS fighter1, \"\n",
    "          \"TRIM(fighter2) AS fighter2,\"\n",
    "          \"OUTCOME, EVENT \"\n",
    "          \"FROM past_fights\").createOrReplaceTempView(\"past_fights\")"
   ],
   "metadata": {
    "collapsed": false,
    "ExecuteTime": {
     "end_time": "2024-05-08T11:56:44.133276Z",
     "start_time": "2024-05-08T11:56:44.117261Z"
    }
   },
   "id": "db5f4aca8457257e",
   "execution_count": 88,
   "outputs": []
  },
  {
   "cell_type": "code",
   "source": [
    "final_df = spark.sql(\"SELECT pf.EVENT, pf.fighter1, pf.fighter2, \"\n",
    "                     \"xt.predicted_outcome, xt.`W/L` as predicted_accuracy, pf.OUTCOME as actual_outcome \"\n",
    "                     \"FROM X_test as xt \"\n",
    "                     \"JOIN fight_total as ft \"\n",
    "                     \"ON xt.fighter1_index = ft.fighter1_index \"\n",
    "                     \"AND xt.fighter2_index = ft.fighter2_index \"\n",
    "                     \"JOIN past_fights as pf ON pf.fighter1 = ft.fighter1 AND pf.fighter2 = ft.fighter2 \"\n",
    "                     \"group by pf.fighter1, pf.fighter2, pf.EVENT, xt.predicted_outcome, pf.OUTCOME, xt.`W/L` \")\n",
    "final_df.show(2000)"
   ],
   "metadata": {
    "collapsed": false,
    "ExecuteTime": {
     "end_time": "2024-05-08T11:56:51.630592Z",
     "start_time": "2024-05-08T11:56:44.134260Z"
    }
   },
   "id": "c56fecd233a783b5",
   "execution_count": 89,
   "outputs": []
  },
  {
   "cell_type": "code",
   "source": [
    "final_df.count()"
   ],
   "metadata": {
    "collapsed": false,
    "ExecuteTime": {
     "end_time": "2024-05-08T11:56:59.264489Z",
     "start_time": "2024-05-08T11:56:51.631577Z"
    }
   },
   "id": "f785d9a78d061107",
   "execution_count": 90,
   "outputs": []
  },
  {
   "metadata": {
    "ExecuteTime": {
     "end_time": "2024-05-08T11:57:06.979143Z",
     "start_time": "2024-05-08T11:56:59.265473Z"
    }
   },
   "cell_type": "code",
   "source": [
    "final_df.toPandas().to_csv(\"../processed_data/past_fights_predictions/past_fight_predictions_6.csv\", index=False)"
   ],
   "id": "a91134f05dd01116",
   "execution_count": 91,
   "outputs": []
  },
  {
   "cell_type": "code",
   "source": [
    "pred_1 = pd.read_csv(\"../processed_data/past_fights_predictions/past_fight_predictions_1.csv\", sep=',')\n",
    "pred_2 = pd.read_csv(\"../processed_data/past_fights_predictions/past_fight_predictions_2.csv\", sep=',')\n",
    "pred_3 = pd.read_csv(\"../processed_data/past_fights_predictions/past_fight_predictions_3.csv\", sep=',')\n",
    "pred_4 = pd.read_csv(\"../processed_data/past_fights_predictions/past_fight_predictions_4.csv\", sep=',')\n",
    "pred_5 = pd.read_csv(\"../processed_data/past_fights_predictions/past_fight_predictions_5.csv\", sep=',')\n",
    "pred_6 = pd.read_csv(\"../processed_data/past_fights_predictions/past_fight_predictions_6.csv\", sep=',')"
   ],
   "metadata": {
    "collapsed": false,
    "ExecuteTime": {
     "end_time": "2024-05-08T11:57:07.011275Z",
     "start_time": "2024-05-08T11:57:06.980144Z"
    }
   },
   "id": "31121a01cb01a630",
   "execution_count": 92,
   "outputs": []
  },
  {
   "cell_type": "code",
   "source": [
    "# combine all predictions\n",
    "all_predictions = pd.concat([pred_1, pred_2, pred_3, pred_4, pred_5, pred_6])\n",
    "# order by event\n",
    "all_predictions = all_predictions.sort_values(by='EVENT')\n",
    "all_predictions.count()"
   ],
   "metadata": {
    "collapsed": false,
    "ExecuteTime": {
     "end_time": "2024-05-08T11:57:07.027147Z",
     "start_time": "2024-05-08T11:57:07.012142Z"
    }
   },
   "id": "9d16c149404dd2b2",
   "execution_count": 93,
   "outputs": []
  },
  {
   "metadata": {
    "ExecuteTime": {
     "end_time": "2024-05-08T11:57:07.042657Z",
     "start_time": "2024-05-08T11:57:07.028654Z"
    }
   },
   "cell_type": "code",
   "source": [
    "# remove all rows with duplicate event, fighter1 and fighter2 combinations\n",
    "all_predictions = all_predictions.drop_duplicates(subset=['EVENT', 'fighter1', 'fighter2'])\n",
    "all_predictions.count()"
   ],
   "id": "b7ecc0c478c3fcb4",
   "execution_count": 94,
   "outputs": []
  },
  {
   "cell_type": "code",
   "source": [
    "all_predictions.to_csv(\"../processed_data/past_fights_predictions/all_past_fight_predictions.csv\", index=False)"
   ],
   "metadata": {
    "collapsed": false,
    "ExecuteTime": {
     "end_time": "2024-05-08T11:57:33.841245Z",
     "start_time": "2024-05-08T11:57:33.820248Z"
    }
   },
   "id": "ce5e546b8f18b197",
   "execution_count": 96,
   "outputs": []
  },
  {
   "metadata": {},
   "cell_type": "code",
   "execution_count": null,
   "source": [],
   "id": "d57794df7dfbd4d1",
   "outputs": []
  }
 ],
 "metadata": {
  "kernelspec": {
   "display_name": "Python 3",
   "language": "python",
   "name": "python3"
  },
  "language_info": {
   "codemirror_mode": {
    "name": "ipython",
    "version": 2
   },
   "file_extension": ".py",
   "mimetype": "text/x-python",
   "name": "python",
   "nbconvert_exporter": "python",
   "pygments_lexer": "ipython2",
   "version": "2.7.6"
  }
 },
 "nbformat": 4,
 "nbformat_minor": 5
}
