{
 "cells": [
  {
   "cell_type": "markdown",
   "source": [
    "# Compare the performance of the different models"
   ],
   "metadata": {
    "collapsed": false
   },
   "id": "6d319e1453fd276a"
  },
  {
   "cell_type": "markdown",
   "source": [
    "## 1. Importing Libraries"
   ],
   "metadata": {
    "collapsed": false
   },
   "id": "f2aa4e83c67ac198"
  },
  {
   "cell_type": "code",
   "source": [
    "import joblib\n",
    "import numpy as np\n",
    "import pandas as pd\n",
    "import config.ConnectionConfig as cc\n",
    "from sklearn.ensemble import VotingClassifier\n",
    "from pyspark.sql import SparkSession\n",
    "from sklearn.preprocessing import StandardScaler"
   ],
   "metadata": {
    "collapsed": false,
    "ExecuteTime": {
     "end_time": "2024-04-23T09:00:42.992004500Z",
     "start_time": "2024-04-23T09:00:42.903467700Z"
    }
   },
   "id": "a3594a7ca8c21dde",
   "execution_count": 5,
   "outputs": []
  },
  {
   "cell_type": "code",
   "source": [
    "cc.setupEnvironment()\n",
    "spark = cc.startLocalCluster(\"UFC_Logistic_Regression_Training\")\n",
    "spark.getActiveSession()\n",
    "spark = SparkSession.builder.appName(\"UFC_Fights\").getOrCreate()"
   ],
   "metadata": {
    "collapsed": false,
    "ExecuteTime": {
     "end_time": "2024-04-23T09:00:43.558597800Z",
     "start_time": "2024-04-23T09:00:42.982007600Z"
    }
   },
   "id": "4b7b7af666193d96",
   "execution_count": 6,
   "outputs": []
  },
  {
   "cell_type": "markdown",
   "source": [
    "## 2. Load the models\n",
    " - MLPClassifier\n",
    " - Logistic Regression\n",
    " - Hard Voting Ensemble"
   ],
   "metadata": {
    "collapsed": false
   },
   "id": "f3c80d5aa0c32678"
  },
  {
   "cell_type": "code",
   "execution_count": 7,
   "id": "initial_id",
   "metadata": {
    "collapsed": true,
    "ExecuteTime": {
     "end_time": "2024-04-23T09:00:43.661250400Z",
     "start_time": "2024-04-23T09:00:43.554618Z"
    }
   },
   "source": [
    "model_mlp = joblib.load('../models/ufc_mlpclassifier_model.pkl')\n",
    "model_lr = joblib.load('../models/ufc_logistic_regression_model.pkl')\n",
    "model_sve = joblib.load('../models/ufc_voting_clf.pkl')"
   ],
   "outputs": []
  },
  {
   "cell_type": "markdown",
   "source": [
    "## 3. Load the data of upcoming fights"
   ],
   "metadata": {
    "collapsed": false
   },
   "id": "dac8be8b5751688c"
  },
  {
   "cell_type": "code",
   "source": [
    "upcoming_fight_info = spark.read.csv('../processed_data/upcoming_events_fights.csv', header=True, inferSchema=True)\n",
    "upcoming_fight_info.show()"
   ],
   "metadata": {
    "collapsed": false,
    "ExecuteTime": {
     "end_time": "2024-04-23T09:00:48.386574600Z",
     "start_time": "2024-04-23T09:00:43.663261200Z"
    }
   },
   "id": "e36ffcfd80de53e7",
   "execution_count": 8,
   "outputs": []
  },
  {
   "cell_type": "markdown",
   "source": [
    "## 3.1 Load the data of the fighters"
   ],
   "metadata": {
    "collapsed": false
   },
   "id": "819611f7485815a1"
  },
  {
   "cell_type": "code",
   "source": [
    "fighters = spark.read.csv('../processed_data/fighter_details.csv', header=True, inferSchema=True)\n",
    "fighters.show()"
   ],
   "metadata": {
    "collapsed": false,
    "ExecuteTime": {
     "end_time": "2024-04-23T09:00:49.473484200Z",
     "start_time": "2024-04-23T09:00:48.384573100Z"
    }
   },
   "id": "8a0f949ebd563205",
   "execution_count": 9,
   "outputs": []
  },
  {
   "cell_type": "markdown",
   "source": [
    "## 4. Preprocess the data\n",
    "We want to create a dataframe with all the features of the fighters that are going to fight each other."
   ],
   "metadata": {
    "collapsed": false
   },
   "id": "e3125d75f363dc63"
  },
  {
   "cell_type": "code",
   "source": [
    "upcoming_fight_info.createOrReplaceTempView(\"upcoming_fight_info\")\n",
    "fighters.createOrReplaceTempView(\"fighters\")\n",
    "\n",
    "full_upcoming_fight_info = spark.sql(\"\"\"SELECT\n",
    "                                    ufi.event,\n",
    "                                    ufi.event_date,\n",
    "                                    ufi.event_location,\n",
    "                                    ufi.fighter1,\n",
    "                                    f1.fighter_index as fighter_index_1,\n",
    "                                    f1.AVG_KD as AVG_KD_1,\n",
    "                                    f1.AVG_SUB_ATT as AVG_SUB_ATT_1,\n",
    "                                    f1.AVG_TD_Percentage as AVG_TD_Percentage_1,\n",
    "                                    f1.AVG_Significant_Strike_Percentage as AVG_Significant_Strike_Percentage_1,\n",
    "                                    f1.AVG_TOTAL_STR as AVG_TOTAL_STR_1,\n",
    "                                    f1.AVG_ROUND as AVG_ROUND_1,\n",
    "                                    f1.AVG_CTRL_SECONDS as AVG_CTRL_SECONDS_1,\n",
    "                                    f1.total_wins as total_wins_1,\n",
    "                                    f1.total_losses as total_loss_1,\n",
    "                                    f1.total_draws as total_draws_1,\n",
    "                                    f1.Win_Percentage as Win_Percentage_1,\n",
    "                                    f1.Height_CM as Height_CM_1,\n",
    "                                    f1.Weight_KG as Weight_KG_1,\n",
    "                                    f1.Reach_Conv as Reach_Conv_1,\n",
    "                                    ufi.fighter2,\n",
    "                                    f2.fighter_index as fighter_index_2,\n",
    "                                    f2.AVG_KD as AVG_KD_2,\n",
    "                                    f2.AVG_SUB_ATT as AVG_SUB_ATT_2,\n",
    "                                    f2.AVG_TD_Percentage as AVG_TD_Percentage_2,\n",
    "                                    f2.AVG_Significant_Strike_Percentage as AVG_Significant_Strike_Percentage_2,\n",
    "                                    f2.AVG_TOTAL_STR as AVG_TOTAL_STR_2,\n",
    "                                    f2.AVG_ROUND as AVG_ROUND_2,\n",
    "                                    f2.AVG_CTRL_SECONDS as AVG_CTRL_SECONDS_2,\n",
    "                                    f2.total_wins as total_wins_2,\n",
    "                                    f2.total_losses as total_loss_2,\n",
    "                                    f2.total_draws as total_draws_2,\n",
    "                                    f2.Win_Percentage as Win_Percentage_2,\n",
    "                                    f2.Height_CM as Height_CM_2,\n",
    "                                    f2.Weight_KG as Weight_KG_2,\n",
    "                                    f2.Reach_Conv as Reach_Conv_2\n",
    "                                    FROM upcoming_fight_info as ufi \\\n",
    "                                    JOIN fighters as f1 ON ufi.fighter1 = f1.fighter \\\n",
    "                                    JOIN fighters as f2 ON ufi.fighter2 = f2.fighter\n",
    "                                    \"\"\")\n",
    "full_upcoming_fight_info.show(200)"
   ],
   "metadata": {
    "collapsed": false,
    "ExecuteTime": {
     "end_time": "2024-04-23T09:00:51.428363200Z",
     "start_time": "2024-04-23T09:00:49.473484200Z"
    }
   },
   "id": "ef32795a69b24424",
   "execution_count": 10,
   "outputs": []
  },
  {
   "cell_type": "code",
   "source": [
    "#make event index as well\n",
    "\n",
    "full_upcoming_fight_info.createOrReplaceTempView(\"full_upcoming_fight_info\")\n",
    "\n",
    "\n",
    "backlog_table = spark.sql(\"\"\"\n",
    "    SELECT\n",
    "        event,\n",
    "        event_location,\n",
    "        event_date,\n",
    "        fighter1,\n",
    "        fighter_index_1,\n",
    "        fighter2,\n",
    "        fighter_index_2\n",
    "    FROM \n",
    "        full_upcoming_fight_info\n",
    "\"\"\")\n",
    "\n",
    "backlog_table.show(60)"
   ],
   "metadata": {
    "collapsed": false,
    "ExecuteTime": {
     "end_time": "2024-04-23T09:00:52.220843Z",
     "start_time": "2024-04-23T09:00:51.423173400Z"
    }
   },
   "id": "feadb73535517d04",
   "execution_count": 11,
   "outputs": []
  },
  {
   "cell_type": "code",
   "source": [
    "full_upcoming_fight_info = full_upcoming_fight_info.drop('event', 'fighter1', 'fighter2', 'event_date', 'event_location')\n",
    "full_upcoming_fight_info.show(60)"
   ],
   "metadata": {
    "collapsed": false,
    "ExecuteTime": {
     "end_time": "2024-04-23T09:00:53.178923400Z",
     "start_time": "2024-04-23T09:00:52.196854700Z"
    }
   },
   "id": "c77dce25d3c45ff7",
   "execution_count": 12,
   "outputs": []
  },
  {
   "cell_type": "markdown",
   "source": [
    "## 5. Predict the outcome of the fights"
   ],
   "metadata": {
    "collapsed": false
   },
   "id": "24d57254ea78f835"
  },
  {
   "cell_type": "code",
   "source": [
    "# Convert Spark DataFrame to pandas DataFrame\n",
    "full_upcoming_fight_info_pd = full_upcoming_fight_info.toPandas()\n",
    "\n",
    "\n",
    "# Scale the features if needed\n",
    "scaler = StandardScaler()\n",
    "X = scaler.fit_transform(full_upcoming_fight_info_pd)\n",
    "\n",
    "# Predict outcomes using the trained models\n",
    "y_mlp = model_mlp.predict(X)\n",
    "y_lr = model_lr.predict(X)\n",
    "y_sve = model_sve.predict(X)\n",
    "\n",
    "# Combine predictions\n",
    "full_upcoming_fight_results_pd = pd.DataFrame({\n",
    "    'mlp_prediction': y_mlp,\n",
    "    'lr_prediction': y_lr,\n",
    "    'hve_prediction': y_sve\n",
    "})\n",
    "full_upcoming_fight_results_pd"
   ],
   "metadata": {
    "collapsed": false,
    "ExecuteTime": {
     "end_time": "2024-04-23T09:00:54.391651200Z",
     "start_time": "2024-04-23T09:00:53.128764500Z"
    }
   },
   "id": "7ccaf8ed5db927bf",
   "execution_count": 13,
   "outputs": []
  },
  {
   "cell_type": "code",
   "source": [
    "# Determine the most common prediction\n",
    "final_pred = full_upcoming_fight_results_pd.mode(axis=1)[0].rename('final_prediction')\n",
    "final_pred"
   ],
   "metadata": {
    "collapsed": false,
    "ExecuteTime": {
     "end_time": "2024-04-23T09:00:54.431641600Z",
     "start_time": "2024-04-23T09:00:54.403645100Z"
    }
   },
   "id": "80ad8119b7025d30",
   "execution_count": 14,
   "outputs": []
  },
  {
   "cell_type": "markdown",
   "source": [
    "#### Probability of the prediction"
   ],
   "metadata": {
    "collapsed": false
   },
   "id": "a62819b52091f241"
  },
  {
   "cell_type": "code",
   "source": [
    "proba_mlp = model_mlp.predict_proba(X)\n",
    "proba_lr = model_lr.predict_proba(X)\n",
    "proba_sve = model_sve.predict_proba(X)\n",
    "\n",
    "# Combine probabilities\n",
    "overall_proba = (proba_mlp + proba_lr + proba_sve) / 3\n",
    "overall_proba_normalized = overall_proba / overall_proba.sum(axis=1)[:, None]\n",
    "overall_proba_df = pd.DataFrame(overall_proba_normalized, columns=model_lr.classes_)\n",
    "# combine the probabilities with the final prediction\n",
    "overall_proba_df = pd.concat([overall_proba_df, final_pred], axis=1)\n",
    "overall_proba_df"
   ],
   "metadata": {
    "collapsed": false,
    "ExecuteTime": {
     "end_time": "2024-04-23T09:00:54.539188700Z",
     "start_time": "2024-04-23T09:00:54.422656700Z"
    }
   },
   "id": "f1fde83b4392e955",
   "execution_count": 15,
   "outputs": []
  },
  {
   "cell_type": "code",
   "source": [
    "# Add final prediction as a new column to the pandas DataFrame\n",
    "full_upcoming_fight_info_pd['final_prediction'] = final_pred\n",
    "# join the final prediction to the probabilities\n",
    "full_upcoming_fight_info_pd"
   ],
   "metadata": {
    "collapsed": false,
    "ExecuteTime": {
     "end_time": "2024-04-23T09:00:54.576206Z",
     "start_time": "2024-04-23T09:00:54.453642700Z"
    }
   },
   "id": "ea9c94b5b3012071",
   "execution_count": 16,
   "outputs": []
  },
  {
   "cell_type": "code",
   "source": [
    "\n",
    "# add the W/L probabilities to the dataframe\n",
    "full_upcoming_fight_info_pd = pd.concat([full_upcoming_fight_info_pd, overall_proba_df['W/L']], axis=1)\n",
    "full_upcoming_fight_info_pd"
   ],
   "metadata": {
    "collapsed": false,
    "ExecuteTime": {
     "end_time": "2024-04-23T09:00:54.629733900Z",
     "start_time": "2024-04-23T09:00:54.512191100Z"
    }
   },
   "id": "6a6add0de9d385bc",
   "execution_count": 17,
   "outputs": []
  },
  {
   "cell_type": "code",
   "source": [
    "\n",
    "# Convert pandas DataFrame back to Spark DataFrame\n",
    "full_upcoming_fight_info_with_pred = spark.createDataFrame(full_upcoming_fight_info_pd)\n",
    "#rename W/L to W_L_fighter1\n",
    "full_upcoming_fight_info_with_pred = full_upcoming_fight_info_with_pred.withColumnRenamed('W/L', 'W_L_fighter1')\n",
    "# Show the DataFrame with final predictions\n",
    "full_upcoming_fight_info_with_pred.show()"
   ],
   "metadata": {
    "collapsed": false,
    "ExecuteTime": {
     "end_time": "2024-04-23T09:01:00.758104400Z",
     "start_time": "2024-04-23T09:00:54.559197700Z"
    }
   },
   "id": "bdd68abb4cd87812",
   "execution_count": 18,
   "outputs": []
  },
  {
   "cell_type": "markdown",
   "source": [
    "## couple back to the event and fighters"
   ],
   "metadata": {
    "collapsed": false
   },
   "id": "5c80ab5a060c5f51"
  },
  {
   "cell_type": "code",
   "source": [
    "full_upcoming_fight_info_with_pred.createOrReplaceTempView(\"full_upcoming_fight_info_with_pred\")\n",
    "\n",
    "backlog_table.createOrReplaceTempView(\"backlog_table\")\n",
    "\n",
    "final_table = spark.sql(\"\"\"\n",
    "    SELECT\n",
    "        backlog_table.event,\n",
    "        backlog_table.event_location,\n",
    "        backlog_table.event_date,\n",
    "        backlog_table.fighter1,\n",
    "        backlog_table.fighter_index_1,\n",
    "        backlog_table.fighter2,\n",
    "        backlog_table.fighter_index_2,\n",
    "        full_upcoming_fight_info_with_pred.final_prediction,\n",
    "        full_upcoming_fight_info_with_pred.W_L_fighter1\n",
    "    FROM \n",
    "        backlog_table\n",
    "    JOIN\n",
    "        full_upcoming_fight_info_with_pred\n",
    "    ON\n",
    "        backlog_table.fighter_index_1 = full_upcoming_fight_info_with_pred.fighter_index_1 and backlog_table.fighter_index_2 = full_upcoming_fight_info_with_pred.fighter_index_2\n",
    "\"\"\")\n",
    "\n",
    "final_table.drop('event_index', 'fighter_index_1', 'fighter_index_2')\n",
    "\n",
    "final_table_to_write = final_table.drop('event_date', 'event_location', 'fighter_index_1', 'fighter_index_2')\n",
    "\n",
    "final_table_to_write.show(200)"
   ],
   "metadata": {
    "collapsed": false,
    "ExecuteTime": {
     "end_time": "2024-04-23T09:06:24.303976900Z",
     "start_time": "2024-04-23T09:06:13.906823600Z"
    }
   },
   "id": "73f1c713f9f16891",
   "execution_count": 30,
   "outputs": []
  },
  {
   "cell_type": "code",
   "source": [
    "final_table_to_write = final_table_to_write.toPandas()\n",
    "\n",
    "final_table_to_write.to_csv('processed_data/final_table_fights.csv', index=False)"
   ],
   "metadata": {
    "collapsed": false,
    "ExecuteTime": {
     "end_time": "2024-04-23T09:06:49.099597Z",
     "start_time": "2024-04-23T09:06:39.373050Z"
    }
   },
   "id": "d728e5c5bcd35c9f",
   "execution_count": 31,
   "outputs": []
  },
  {
   "cell_type": "markdown",
   "source": [
    "Get events only:"
   ],
   "metadata": {
    "collapsed": false
   },
   "id": "b6cb4a85d5e2c23c"
  },
  {
   "cell_type": "code",
   "source": [
    "final_table.createOrReplaceTempView(\"final_table\")\n",
    "\n",
    "event_table = spark.sql(\"\"\"\n",
    "    SELECT\n",
    "        DISTINCT\n",
    "        event,\n",
    "        event_location,\n",
    "        event_date\n",
    "    FROM\n",
    "        final_table\n",
    "\"\"\")\n",
    "\n",
    "# write the event table to pandas\n",
    "\n",
    "event_table_pd = event_table.toPandas()\n",
    "\n",
    "#writing the event table to csv\n",
    "\n",
    "event_table_pd.to_csv('processed_data/upcoming_events.csv', index=False)"
   ],
   "metadata": {
    "collapsed": false,
    "ExecuteTime": {
     "end_time": "2024-04-23T09:01:22.120075500Z",
     "start_time": "2024-04-23T09:01:11.554041200Z"
    }
   },
   "id": "ddbd1273918b544d",
   "execution_count": 20,
   "outputs": []
  },
  {
   "cell_type": "markdown",
   "source": [
    "### Comparing with individual results"
   ],
   "metadata": {
    "collapsed": false
   },
   "id": "31f57588fdc11d25"
  },
  {
   "cell_type": "code",
   "source": [
    "fighter_table = spark.sql(\"\"\"\n",
    "    SELECT\n",
    "        *\n",
    "    FROM\n",
    "        fighters\n",
    "\"\"\")\n",
    "\n",
    "#get by name islam makachev and dustin porrier\n",
    "\n",
    "fighter_table.createOrReplaceTempView(\"fighter_table\")\n",
    "\n",
    "fighter1 = spark.sql(\"\"\"\n",
    "    SELECT\n",
    "        *\n",
    "    FROM\n",
    "        fighter_table\n",
    "    WHERE\n",
    "        fighter = 'Islam Makhachev'\n",
    "\"\"\")\n",
    "\n",
    "fighter2 = spark.sql(\"\"\"\n",
    "    SELECT\n",
    "        *\n",
    "    FROM\n",
    "        fighter_table\n",
    "    WHERE\n",
    "        fighter = 'Dustin Poirier'\n",
    "\"\"\")\n",
    "\n",
    "fighter1.show()\n"
   ],
   "metadata": {
    "collapsed": false,
    "ExecuteTime": {
     "end_time": "2024-04-23T09:01:22.436419100Z",
     "start_time": "2024-04-23T09:01:22.123079500Z"
    }
   },
   "id": "986bfbed6de9b260",
   "execution_count": 21,
   "outputs": []
  },
  {
   "cell_type": "code",
   "source": [
    "fighter2.show()"
   ],
   "metadata": {
    "collapsed": false,
    "ExecuteTime": {
     "end_time": "2024-04-23T09:01:22.658420500Z",
     "start_time": "2024-04-23T09:01:22.422327300Z"
    }
   },
   "id": "695d3c6e97146cbb",
   "execution_count": 22,
   "outputs": []
  },
  {
   "cell_type": "code",
   "source": [
    "from pyspark.sql.functions import lit\n",
    "\n",
    "#now we simulate the fight between islam makhachev and dustin porrier, join the 2 rows, dustin is fighter 1 and islam is fighter 2\n",
    "\n",
    "fighter1 = fighter1.withColumnRenamed('fighter', 'fighter1')\n",
    "\n",
    "fighter2 = fighter2.withColumnRenamed('fighter', 'fighter2')\n",
    "\n",
    "#add index to the fighters\n",
    "\n",
    "fighter1 = fighter1.withColumn('fighter_index', lit(1))\n",
    "\n",
    "fighter2 = fighter2.withColumn('fighter_index', lit(2))\n",
    "\n",
    "fighter1.createOrReplaceTempView(\"fighter1\")\n",
    "\n",
    "fighter2.createOrReplaceTempView(\"fighter2\")\n",
    "\n",
    "little_table = spark.sql(\"\"\"\n",
    "                            SELECT\n",
    "                                    f1.fighter1,\n",
    "                                    f1.fighter_index as fighter_index_1,\n",
    "                                    f1.AVG_KD as AVG_KD_1,\n",
    "                                    f1.AVG_SUB_ATT as AVG_SUB_ATT_1,\n",
    "                                    f1.AVG_TD_Percentage as AVG_TD_Percentage_1,\n",
    "                                    f1.AVG_Significant_Strike_Percentage as AVG_Significant_Strike_Percentage_1,\n",
    "                                    f1.AVG_TOTAL_STR as AVG_TOTAL_STR_1,\n",
    "                                    f1.AVG_ROUND as AVG_ROUND_1,\n",
    "                                    f1.AVG_CTRL_SECONDS as AVG_CTRL_SECONDS_1,\n",
    "                                    f1.total_wins as total_wins_1,\n",
    "                                    f1.total_losses as total_loss_1,\n",
    "                                    f1.total_draws as total_draws_1,\n",
    "                                    f1.Win_Percentage as Win_Percentage_1,\n",
    "                                    f1.Height_CM as Height_CM_1,\n",
    "                                    f1.Weight_KG as Weight_KG_1,\n",
    "                                    f1.Reach_Conv as Reach_Conv_1,\n",
    "                                    f2.fighter2,\n",
    "                                    f2.fighter_index as fighter_index_2,\n",
    "                                    f2.AVG_KD as AVG_KD_2,\n",
    "                                    f2.AVG_SUB_ATT as AVG_SUB_ATT_2,\n",
    "                                    f2.AVG_TD_Percentage as AVG_TD_Percentage_2,\n",
    "                                    f2.AVG_Significant_Strike_Percentage as AVG_Significant_Strike_Percentage_2,\n",
    "                                    f2.AVG_TOTAL_STR as AVG_TOTAL_STR_2,\n",
    "                                    f2.AVG_ROUND as AVG_ROUND_2,\n",
    "                                    f2.AVG_CTRL_SECONDS as AVG_CTRL_SECONDS_2,\n",
    "                                    f2.total_wins as total_wins_2,\n",
    "                                    f2.total_losses as total_loss_2,\n",
    "                                    f2.total_draws as total_draws_2,\n",
    "                                    f2.Win_Percentage as Win_Percentage_2,\n",
    "                                    f2.Height_CM as Height_CM_2,\n",
    "                                    f2.Weight_KG as Weight_KG_2,\n",
    "                                    f2.Reach_Conv as Reach_Conv_2\n",
    "                                    FROM fighter1 as f1 \\\n",
    "                                    JOIN fighter2 as f2\n",
    "                                    \"\"\")\n",
    "\n",
    "little_table.show()\n"
   ],
   "metadata": {
    "collapsed": false,
    "ExecuteTime": {
     "end_time": "2024-04-23T09:01:23.307382800Z",
     "start_time": "2024-04-23T09:01:22.631415600Z"
    }
   },
   "id": "2ad95767c3832635",
   "execution_count": 23,
   "outputs": []
  },
  {
   "cell_type": "code",
   "source": [
    "#now we predict the fight between islam makhachev and dustin porrier using the models\n",
    "\n",
    "little_table = little_table.drop('fighter1', 'fighter2')\n",
    "\n",
    "little_table_pd = little_table.toPandas()\n",
    "\n",
    "little_table_pd.head()"
   ],
   "metadata": {
    "collapsed": false,
    "ExecuteTime": {
     "end_time": "2024-04-23T09:01:23.707303Z",
     "start_time": "2024-04-23T09:01:23.306389200Z"
    }
   },
   "id": "d1e01db277d07681",
   "execution_count": 24,
   "outputs": []
  },
  {
   "cell_type": "code",
   "source": [
    "\n",
    "# Scale the features if needed\n",
    "\n",
    "scaler = StandardScaler()\n",
    "\n",
    "X = scaler.fit_transform(little_table_pd)\n",
    "\n",
    "# Predict outcomes using the trained models\n",
    "\n",
    "y_mlp = model_mlp.predict(X)\n",
    "\n",
    "y_lr = model_lr.predict(X)\n",
    "\n",
    "y_sve = model_sve.predict(X)\n",
    "\n",
    "# Combine predictions\n",
    "\n",
    "little_table_results_pd = pd.DataFrame({\n",
    "\n",
    "    'mlp_prediction': y_mlp,\n",
    "\n",
    "    'lr_prediction': y_lr,\n",
    "\n",
    "    'hve_prediction': y_sve\n",
    "\n",
    "})\n",
    "\n",
    "little_table_results_pd"
   ],
   "metadata": {
    "collapsed": false,
    "ExecuteTime": {
     "end_time": "2024-04-23T09:01:23.767298600Z",
     "start_time": "2024-04-23T09:01:23.683775700Z"
    }
   },
   "id": "3af3e612c75da310",
   "execution_count": 25,
   "outputs": []
  },
  {
   "cell_type": "code",
   "source": [
    "# Determine the most common prediction\n",
    "\n",
    "final_pred = little_table_results_pd.mode(axis=1)[0].rename('final_prediction')\n",
    "\n",
    "final_pred"
   ],
   "metadata": {
    "collapsed": false,
    "ExecuteTime": {
     "end_time": "2024-04-23T09:01:23.840382300Z",
     "start_time": "2024-04-23T09:01:23.715303100Z"
    }
   },
   "id": "846fb4bc1771d554",
   "execution_count": 26,
   "outputs": []
  },
  {
   "cell_type": "code",
   "source": [
    "# Probability of the prediction\n",
    "\n",
    "proba_mlp = model_mlp.predict_proba(X)\n",
    "\n",
    "proba_lr = model_lr.predict_proba(X)\n",
    "\n",
    "proba_sve = model_sve.predict_proba(X)\n",
    "\n",
    "# Combine probabilities\n",
    "\n",
    "overall_proba = (proba_mlp + proba_lr + proba_sve) / 3\n",
    "\n",
    "overall_proba_normalized = overall_proba / overall_proba.sum(axis=1)[:, np.newaxis]\n",
    "\n",
    "overall_proba_df = pd.DataFrame(overall_proba_normalized, columns=model_lr.classes_)\n",
    "\n",
    "overall_proba_df\n",
    "\n",
    "final_table.drop('event_index', 'fighter_index_1', 'fighter_index_2').show(60)"
   ],
   "metadata": {
    "collapsed": false,
    "ExecuteTime": {
     "end_time": "2024-04-23T09:01:34.618444500Z",
     "start_time": "2024-04-23T09:01:23.731299500Z"
    }
   },
   "id": "c40ed78d3d4c9893",
   "execution_count": 27,
   "outputs": []
  }
 ],
 "metadata": {
  "kernelspec": {
   "display_name": "Python 3",
   "language": "python",
   "name": "python3"
  },
  "language_info": {
   "codemirror_mode": {
    "name": "ipython",
    "version": 2
   },
   "file_extension": ".py",
   "mimetype": "text/x-python",
   "name": "python",
   "nbconvert_exporter": "python",
   "pygments_lexer": "ipython2",
   "version": "2.7.6"
  }
 },
 "nbformat": 4,
 "nbformat_minor": 5
}
