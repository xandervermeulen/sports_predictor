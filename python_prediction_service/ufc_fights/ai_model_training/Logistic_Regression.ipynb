{
 "cells": [
  {
   "cell_type": "markdown",
   "source": [
    "# Logistic Regression"
   ],
   "metadata": {
    "collapsed": false
   },
   "id": "8dc56db4bb41f9a3"
  },
  {
   "cell_type": "markdown",
   "source": [
    "## 1. Importing the libraries"
   ],
   "metadata": {
    "collapsed": false
   },
   "id": "31159697b25cdfbb"
  },
  {
   "cell_type": "code",
   "execution_count": 1,
   "id": "initial_id",
   "metadata": {
    "collapsed": true,
    "ExecuteTime": {
     "end_time": "2024-04-18T08:01:29.706873Z",
     "start_time": "2024-04-18T08:01:28.882057Z"
    }
   },
   "source": [
    "import pandas as pd\n",
    "from sklearn.model_selection import train_test_split\n",
    "from sklearn.linear_model import LogisticRegression\n",
    "import config.ConnectionConfig as cc\n",
    "from pyspark.sql import SparkSession\n",
    "from sklearn.preprocessing import StandardScaler\n",
    "from sklearn.metrics import accuracy_score\n",
    "from sklearn.model_selection import GridSearchCV\n",
    "import joblib"
   ],
   "outputs": []
  },
  {
   "cell_type": "markdown",
   "source": [
    "## 2. Setting up the spark session"
   ],
   "metadata": {
    "collapsed": false
   },
   "id": "cbb1f42087235bff"
  },
  {
   "cell_type": "code",
   "source": [
    "cc.setupEnvironment()\n",
    "spark = cc.startLocalCluster(\"UFC_Logistic_Regression_Training\")\n",
    "spark.getActiveSession()\n",
    "spark = SparkSession.builder.appName(\"UFC_Fights\").getOrCreate()"
   ],
   "metadata": {
    "collapsed": false,
    "ExecuteTime": {
     "end_time": "2024-04-18T08:01:34.436424Z",
     "start_time": "2024-04-18T08:01:29.707854Z"
    }
   },
   "id": "64be78b3e0301c1f",
   "execution_count": 2,
   "outputs": []
  },
  {
   "cell_type": "markdown",
   "source": [
    "## 3. Importing the dataset"
   ],
   "metadata": {
    "collapsed": false
   },
   "id": "b7bc83f342e6c84a"
  },
  {
   "cell_type": "code",
   "source": [
    "data = spark.read.csv('../processed_data/fight_total.csv', header = True, inferSchema = True)\n",
    "data.show()"
   ],
   "metadata": {
    "collapsed": false,
    "ExecuteTime": {
     "end_time": "2024-04-18T08:01:37.523048Z",
     "start_time": "2024-04-18T08:01:34.437572Z"
    }
   },
   "id": "333cbc4caafa4042",
   "execution_count": 3,
   "outputs": []
  },
  {
   "cell_type": "markdown",
   "source": [
    "## 3. Splitting the dataset into the Training set and Test set"
   ],
   "metadata": {
    "collapsed": false
   },
   "id": "cad452fd1879681c"
  },
  {
   "cell_type": "code",
   "source": [
    "# drop both the fighter names because they are not needed\n",
    "data = data.drop('fighter1', 'fighter2')\n",
    "\n",
    "data = data.toPandas()\n",
    "X = data.drop('outcome', axis = 1)\n",
    "y = data['outcome']\n",
    "\n",
    "X_train, X_test, y_train, y_test = train_test_split(X, y, test_size = 0.10, random_state = 0)\n",
    "X_train.shape, X_test.shape, y_train.shape, y_test.shape"
   ],
   "metadata": {
    "collapsed": false,
    "ExecuteTime": {
     "end_time": "2024-04-18T08:01:38.402167Z",
     "start_time": "2024-04-18T08:01:37.524048Z"
    }
   },
   "id": "45907132a2cabf3d",
   "execution_count": 4,
   "outputs": []
  },
  {
   "cell_type": "markdown",
   "source": [
    "## 4. Feature Scaling"
   ],
   "metadata": {
    "collapsed": false
   },
   "id": "5725e621e71a021c"
  },
  {
   "cell_type": "code",
   "source": [
    "scaler = StandardScaler()\n",
    "\n",
    "X_train = scaler.fit_transform(X_train)\n",
    "X_test = scaler.transform(X_test)"
   ],
   "metadata": {
    "collapsed": false,
    "ExecuteTime": {
     "end_time": "2024-04-18T08:01:38.417166Z",
     "start_time": "2024-04-18T08:01:38.404167Z"
    }
   },
   "id": "736d9b6d967a12f6",
   "execution_count": 5,
   "outputs": []
  },
  {
   "cell_type": "markdown",
   "source": [
    "## 5. Hyperparameter tuning"
   ],
   "metadata": {
    "collapsed": false
   },
   "id": "1d040abe30ada603"
  },
  {
   "cell_type": "code",
   "source": [
    "\n",
    "parameters = {\n",
    "    'penalty': ['l1', 'l2', 'elasticnet', 'none'],\n",
    "    'C': [0.1, 0.5, 1, 5, 10],\n",
    "    'solver': ['newton-cg', 'lbfgs', 'liblinear', 'sag', 'saga']\n",
    "}\n",
    "\n",
    "grid_search = GridSearchCV(estimator = LogisticRegression(), param_grid = parameters, scoring = 'accuracy', cv = 10, n_jobs = -1)\n",
    "grid_search = grid_search.fit(X_train, y_train)\n",
    "\n",
    "print(\"Best Accuracy: {:.2f} %\".format(grid_search.best_score_ * 100))\n",
    "print(\"Best Parameters:\", grid_search.best_params_)\n",
    "\n",
    "model = grid_search.best_estimator_"
   ],
   "metadata": {
    "collapsed": false,
    "ExecuteTime": {
     "end_time": "2024-04-18T08:01:51.856716Z",
     "start_time": "2024-04-18T08:01:38.418166Z"
    }
   },
   "id": "32d6091b224de7b7",
   "execution_count": 6,
   "outputs": []
  },
  {
   "cell_type": "markdown",
   "source": [
    "## 6. Training the Logistic Regression model on the Training set"
   ],
   "metadata": {
    "collapsed": false
   },
   "id": "338400ca48345c4f"
  },
  {
   "cell_type": "code",
   "source": [
    "model.fit(X_train, y_train)\n",
    "# model score\n",
    "print(\"Model Score: {:f} %\".format(model.score(X_test, y_test) * 100))"
   ],
   "metadata": {
    "collapsed": false,
    "ExecuteTime": {
     "end_time": "2024-04-18T08:01:52.287920Z",
     "start_time": "2024-04-18T08:01:51.857701Z"
    }
   },
   "id": "1586709b772292c",
   "execution_count": 7,
   "outputs": []
  },
  {
   "cell_type": "markdown",
   "source": [
    "## 7. Making Predictions"
   ],
   "metadata": {
    "collapsed": false
   },
   "id": "c2620a575d9363fa"
  },
  {
   "cell_type": "code",
   "source": [
    "y_pred = model.predict(X_test)\n",
    "\n",
    "print(\"Accuracy on Test Set: {:.2f} %\".format(accuracy_score(y_test, y_pred) * 100))"
   ],
   "metadata": {
    "collapsed": false,
    "ExecuteTime": {
     "end_time": "2024-04-18T08:01:52.304024Z",
     "start_time": "2024-04-18T08:01:52.288898Z"
    }
   },
   "id": "bf12dc81ee978359",
   "execution_count": 8,
   "outputs": []
  },
  {
   "cell_type": "markdown",
   "source": [
    "## 8. Checking the results and probabilities"
   ],
   "metadata": {
    "collapsed": false
   },
   "id": "ed89d4de08445165"
  },
  {
   "cell_type": "code",
   "source": [
    "pred_prob = model.predict_proba(X_test)\n",
    "pos_outcomes = model.classes_\n",
    "norm_prob = pred_prob / pred_prob.sum(axis = 1)[:, None]\n",
    "# rearrange the cols so first is D/D then NC/NC then W/L then L/W, currently it is DD, LW, NCNC, WL\n",
    "norm_prob = norm_prob[:, [0, 2, 3, 1]]\n",
    "pos_outcomes = pos_outcomes[[0, 2, 3, 1]]\n",
    "prob_norm_df = pd.DataFrame(norm_prob, columns = pos_outcomes)\n",
    "prob_norm_df['outcome_predicted'] = y_pred\n",
    "prob_norm_df['outcome_actual'] = y_test.values\n",
    "prob_norm_df"
   ],
   "metadata": {
    "collapsed": false,
    "ExecuteTime": {
     "end_time": "2024-04-18T08:01:52.320011Z",
     "start_time": "2024-04-18T08:01:52.305013Z"
    }
   },
   "id": "5a1289f3d588fdb8",
   "execution_count": 9,
   "outputs": []
  },
  {
   "cell_type": "markdown",
   "source": [
    "## 9. Saving the model"
   ],
   "metadata": {
    "collapsed": false
   },
   "id": "89a7d69269f21dd4"
  },
  {
   "cell_type": "code",
   "source": [
    "joblib.dump(model, 'models/ufc_logistic_regression_model.pkl')"
   ],
   "metadata": {
    "collapsed": false,
    "ExecuteTime": {
     "end_time": "2024-04-18T08:01:52.335184Z",
     "start_time": "2024-04-18T08:01:52.321013Z"
    }
   },
   "id": "231132aa71d94bc6",
   "execution_count": 10,
   "outputs": []
  }
 ],
 "metadata": {
  "kernelspec": {
   "display_name": "Python 3",
   "language": "python",
   "name": "python3"
  },
  "language_info": {
   "codemirror_mode": {
    "name": "ipython",
    "version": 2
   },
   "file_extension": ".py",
   "mimetype": "text/x-python",
   "name": "python",
   "nbconvert_exporter": "python",
   "pygments_lexer": "ipython2",
   "version": "2.7.6"
  }
 },
 "nbformat": 4,
 "nbformat_minor": 5
}
