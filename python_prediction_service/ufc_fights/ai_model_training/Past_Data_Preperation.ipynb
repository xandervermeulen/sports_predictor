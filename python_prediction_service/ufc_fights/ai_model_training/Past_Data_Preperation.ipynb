{
 "cells": [
  {
   "cell_type": "markdown",
   "source": [
    "Extra csv for past fights and events"
   ],
   "metadata": {
    "collapsed": false
   },
   "id": "955557eb8f3efa61"
  },
  {
   "cell_type": "code",
   "id": "a70f53d0ba4592b",
   "metadata": {
    "collapsed": true,
    "ExecuteTime": {
     "end_time": "2024-05-08T11:39:01.650702Z",
     "start_time": "2024-05-08T11:39:01.358574Z"
    }
   },
   "source": [
    "import config.ConnectionConfig as cc\n",
    "import pandas as pd"
   ],
   "execution_count": 1,
   "outputs": []
  },
  {
   "metadata": {
    "ExecuteTime": {
     "end_time": "2024-05-08T11:39:08.297349Z",
     "start_time": "2024-05-08T11:39:03.511490Z"
    }
   },
   "cell_type": "code",
   "source": [
    "\n",
    "cc.setupEnvironment()\n",
    "spark = cc.startLocalCluster(\"UFC_Fighter_Stats\")\n",
    "spark.getActiveSession()"
   ],
   "id": "initial_id",
   "execution_count": 2,
   "outputs": []
  },
  {
   "cell_type": "code",
   "source": [
    "from datetime import date\n",
    "\n",
    "past_events = spark.read.csv(\"../data/ufc_event_details.csv\", header=True)\n",
    "\n",
    "#take only the past events\n",
    "\n",
    "past_events = past_events.toPandas()\n",
    "\n",
    "past_events.DATE = pd.to_datetime(past_events.DATE, format='%B %d, %Y')\n",
    "past_events.DATE = past_events.DATE.dt.strftime('%Y-%m-%dT%H:%M:%S.%fZ')\n",
    "\n",
    "past_events.head()\n",
    "\n",
    "past_events.drop('URL', axis=1, inplace=True)\n",
    "\n",
    "past_events.to_csv(\"../processed_data/past_events.csv\", index=False, sep=\",\")\n",
    "\n",
    "past_events"
   ],
   "metadata": {
    "collapsed": false,
    "ExecuteTime": {
     "end_time": "2024-05-08T11:40:51.593596Z",
     "start_time": "2024-05-08T11:40:51.420461Z"
    }
   },
   "id": "cff911060629301",
   "execution_count": 13,
   "outputs": []
  },
  {
   "cell_type": "markdown",
   "source": [
    "Past fights"
   ],
   "metadata": {
    "collapsed": false
   },
   "id": "cac37c67293db89e"
  },
  {
   "cell_type": "code",
   "source": [
    "from pyspark.sql.functions import split\n",
    "\n",
    "past_fights = spark.read.csv(\"../data/ufc_fight_results.csv\", header=True)\n",
    "\n",
    "past_fights.createOrReplaceTempView(\"fight_results\")\n",
    "\n",
    "past_fights = spark.sql(\"\"\"\n",
    "    SELECT \n",
    "        EVENT,\n",
    "        BOUT,\n",
    "        OUTCOME\n",
    "    FROM \n",
    "        fight_results\n",
    "\"\"\")\n",
    "\n",
    "#get fighters from bout\n",
    "\n",
    "past_fights = past_fights.withColumn(\"fighter1\", split(past_fights[\"BOUT\"], \" vs. \")[0]) \\\n",
    "    .withColumn(\"fighter2\", split(past_fights[\"BOUT\"], \" vs. \")[1])\n",
    "\n",
    "past_fights = past_fights.drop(\"BOUT\")\n",
    "\n",
    "\n",
    "past_fights.show()"
   ],
   "metadata": {
    "collapsed": false,
    "ExecuteTime": {
     "end_time": "2024-05-08T11:40:54.326988Z",
     "start_time": "2024-05-08T11:40:54.185231Z"
    }
   },
   "id": "eb9565ec4450f1b1",
   "execution_count": 14,
   "outputs": []
  },
  {
   "cell_type": "code",
   "source": [
    "fighter_details = spark.read.csv(\"../processed_data/fighter_details.csv\", header=True, inferSchema=True)\n",
    "\n",
    "\n",
    "fighter_details.show()"
   ],
   "metadata": {
    "collapsed": false,
    "ExecuteTime": {
     "end_time": "2024-05-08T11:40:59.925831Z",
     "start_time": "2024-05-08T11:40:59.750888Z"
    }
   },
   "id": "c7dca238fe3d627c",
   "execution_count": 15,
   "outputs": []
  },
  {
   "cell_type": "code",
   "source": [
    "past_fights.createOrReplaceTempView(\"past_fights\")\n",
    "fighter_details.createOrReplaceTempView(\"fighters\")\n",
    "\n",
    "total_df_test = spark.sql(\"\"\"SELECT\n",
    "    f.EVENT,\n",
    "    f.fighter1,\n",
    "    fr1.fighter_index as fighter1_index,\n",
    "    f.fighter2,\n",
    "    fr2.fighter_index as fighter2_index,\n",
    "    f.OUTCOME\n",
    "FROM\n",
    "    past_fights f\n",
    "JOIN \n",
    "    fighters fr1 ON trim(f.fighter1) = trim(fr1.FIGHTER)\n",
    "JOIN\n",
    "    fighters fr2 ON trim(f.fighter2) = trim(fr1.FIGHTER)\n",
    "\"\"\")\n",
    "\n",
    "total_df_test.show()"
   ],
   "metadata": {
    "collapsed": false,
    "ExecuteTime": {
     "end_time": "2024-05-08T11:42:26.913272Z",
     "start_time": "2024-05-08T11:42:26.686634Z"
    }
   },
   "id": "a96abbc7bd6ff595",
   "execution_count": 17,
   "outputs": []
  },
  {
   "cell_type": "code",
   "source": [
    "#join on fighter 1 and 2 from event\n",
    "past_fights.createOrReplaceTempView(\"match_results\")\n",
    "fighter_details.createOrReplaceTempView(\"fighters\")\n",
    "\n",
    "\n",
    "total_df = spark.sql(\"\"\"SELECT\n",
    "    f.EVENT,\n",
    "    f.fighter1,\n",
    "    fr1.fighter_index as fighter1_index,\n",
    "    fr1.Height_CM AS height1,\n",
    "    fr1.Weight_KG AS weight_kg1,\n",
    "    fr1.AVG_KD AS avg_kd1,\n",
    "    fr1.AVG_SUB_ATT AS avg_sub_att1,\n",
    "    fr1.AVG_TD_Percentage AS avg_td_percentage1,\n",
    "    fr1.AVG_Significant_Strike_Percentage AS avg_significant_strike_percentage1,\n",
    "    fr1.AVG_TOTAL_STR AS avg_total_str1,\n",
    "    fr1.AVG_ROUND AS avg_round1,\n",
    "    fr1.AVG_CTRL_SECONDS AS avg_ctrl_seconds1,\n",
    "    fr1.total_wins AS total_wins1,\n",
    "    fr1.total_losses AS total_losses1,\n",
    "    fr1.total_draws AS total_draws1,\n",
    "    fr1.Win_Percentage AS win_percentage1,\n",
    "    fr1.Reach_Conv AS reach_conv1,\n",
    "    f.fighter2,\n",
    "    fr2.fighter_index as fighter2_index,\n",
    "    fr2.Height_CM AS height2,\n",
    "    fr2.Weight_KG AS weight_kg2,\n",
    "    fr2.AVG_KD AS avg_kd2,\n",
    "    fr2.AVG_SUB_ATT AS avg_sub_att2,\n",
    "    fr2.AVG_TD_Percentage AS avg_td_percentage2,\n",
    "    fr2.AVG_Significant_Strike_Percentage AS avg_significant_strike_percentage2,\n",
    "    fr2.AVG_TOTAL_STR AS avg_total_str2,\n",
    "    fr2.AVG_ROUND AS avg_round2,\n",
    "    fr2.AVG_CTRL_SECONDS AS avg_ctrl_seconds2,\n",
    "    fr2.total_wins AS total_wins2,\n",
    "    fr2.total_losses AS total_losses2,\n",
    "    fr2.total_draws AS total_draws2,\n",
    "    fr2.Win_Percentage AS win_percentage2,\n",
    "    fr2.Reach_Conv AS reach_conv2,\n",
    "    f.OUTCOME\n",
    "FROM\n",
    "    past_fights f\n",
    "JOIN \n",
    "    fighters fr1 ON f.fighter1 = fr1.fighter\n",
    "JOIN\n",
    "    fighters fr2 ON f.fighter2 = fr2.fighter;\n",
    "\"\"\")\n",
    "\n",
    "total_df.show()"
   ],
   "metadata": {
    "collapsed": false,
    "ExecuteTime": {
     "end_time": "2024-05-08T11:40:14.880353Z",
     "start_time": "2024-05-08T11:40:14.672085Z"
    }
   },
   "id": "7548a0df9755fee4",
   "execution_count": 12,
   "outputs": []
  }
 ],
 "metadata": {
  "kernelspec": {
   "display_name": "Python 3",
   "language": "python",
   "name": "python3"
  },
  "language_info": {
   "codemirror_mode": {
    "name": "ipython",
    "version": 2
   },
   "file_extension": ".py",
   "mimetype": "text/x-python",
   "name": "python",
   "nbconvert_exporter": "python",
   "pygments_lexer": "ipython2",
   "version": "2.7.6"
  }
 },
 "nbformat": 4,
 "nbformat_minor": 5
}
