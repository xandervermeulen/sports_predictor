{
 "cells": [
  {
   "cell_type": "code",
   "metadata": {
    "ExecuteTime": {
     "end_time": "2024-04-29T18:27:27.067454Z",
     "start_time": "2024-04-29T18:27:27.025026Z"
    }
   },
   "source": [
    "'''\n",
    "Overview\n",
    "this notebook parses all past ufc fight stats when run, it does not include upcoming fights\n",
    "\n",
    "\n",
    "scrape ufc fight stats\n",
    "get all event details, name, url, date, location for all ufc events\n",
    "for each event, get fight details all fights on card\n",
    "parse each fight to get fight stats of both fighters\n",
    "'''"
   ],
   "execution_count": 5,
   "outputs": []
  },
  {
   "cell_type": "code",
   "metadata": {
    "ExecuteTime": {
     "end_time": "2024-04-29T18:27:27.113236Z",
     "start_time": "2024-04-29T18:27:27.088599Z"
    }
   },
   "source": [
    "# imports\n",
    "import pandas as pd\n",
    "from tqdm.notebook import tqdm_notebook\n",
    "\n",
    "# import library\n",
    "import scrape_ufc_stats_library as LIB\n",
    "\n",
    "# import config\n",
    "import yaml\n",
    "config = yaml.safe_load(open('scrape_ufc_stats_config.yaml'))"
   ],
   "execution_count": 6,
   "outputs": []
  },
  {
   "cell_type": "markdown",
   "metadata": {},
   "source": [
    "# Parse Event Details\n",
    "Includes:\n",
    "<br>\n",
    "Event\n",
    "<br>\n",
    "URL\n",
    "<br>\n",
    "Date\n",
    "<br>\n",
    "Location\n",
    "<br>"
   ]
  },
  {
   "cell_type": "code",
   "metadata": {
    "ExecuteTime": {
     "end_time": "2024-04-29T18:27:27.129297Z",
     "start_time": "2024-04-29T18:27:27.115245Z"
    }
   },
   "source": [
    "# define url to parse\n",
    "events_url = config['completed_events_all_url']"
   ],
   "execution_count": 7,
   "outputs": []
  },
  {
   "cell_type": "code",
   "metadata": {
    "ExecuteTime": {
     "end_time": "2024-04-29T18:27:28.520042Z",
     "start_time": "2024-04-29T18:27:27.130295Z"
    }
   },
   "source": [
    "# get soup\n",
    "soup = LIB.get_soup(events_url)\n",
    "\n",
    "# parse event details\n",
    "all_event_details_df = LIB.parse_event_details(soup)\n",
    "\n",
    "# show event details\n",
    "display(all_event_details_df)\n",
    "\n",
    "# write event details to file\n",
    "#all_event_details_df.to_csv(config['event_details_file_name'], index=False)"
   ],
   "execution_count": 8,
   "outputs": []
  },
  {
   "cell_type": "markdown",
   "metadata": {},
   "source": [
    "# Parse Fight Details\n",
    "Includes:\n",
    "<br>\n",
    "Event\n",
    "<br>\n",
    "Bout\n",
    "<br>\n",
    "URL"
   ]
  },
  {
   "cell_type": "code",
   "metadata": {
    "ExecuteTime": {
     "end_time": "2024-04-29T18:27:28.535789Z",
     "start_time": "2024-04-29T18:27:28.521977Z"
    }
   },
   "source": [
    "# define list of urls of fights to parse\n",
    "list_of_events_urls = list(all_event_details_df['URL'])"
   ],
   "execution_count": 9,
   "outputs": []
  },
  {
   "cell_type": "code",
   "metadata": {
    "ExecuteTime": {
     "end_time": "2024-04-29T18:33:53.061590Z",
     "start_time": "2024-04-29T18:27:28.537430Z"
    }
   },
   "source": [
    "# create empty df to store fight details\n",
    "all_fight_details_df = pd.DataFrame(columns=config['fight_details_column_names'])\n",
    "\n",
    "# loop through each event and parse fight details\n",
    "for url in tqdm_notebook(list_of_events_urls):\n",
    "\n",
    "    # get soup\n",
    "    soup = LIB.get_soup(url)\n",
    "\n",
    "    # parse fight links\n",
    "    fight_details_df = LIB.parse_fight_details(soup)\n",
    "    \n",
    "    # concat fight details\n",
    "    all_fight_details_df = pd.concat([all_fight_details_df, fight_details_df])\n",
    "\n",
    "# show all fight details\n",
    "display(all_fight_details_df)\n",
    "\n",
    "# write fight details to file\n",
    "#all_fight_details_df.to_csv(config['fight_details_file_name'], index=False)"
   ],
   "execution_count": 10,
   "outputs": []
  },
  {
   "cell_type": "markdown",
   "metadata": {},
   "source": [
    "# Parse Fight Results and Fight Stats\n",
    "\n",
    "Fight Results Includes:\n",
    "<br>\n",
    "Event\n",
    "<br>\n",
    "Bout\n",
    "<br>\n",
    "Weightclass\n",
    "<br>\n",
    "Method\n",
    "<br>\n",
    "Round\n",
    "<br>\n",
    "Time\n",
    "<br>\n",
    "Time Format\n",
    "<br>\n",
    "Referee\n",
    "<br>\n",
    "Details\n",
    "<br>\n",
    "\n",
    "Fight Stats Includes:\n",
    "<br>\n",
    "Event\n",
    "<br>\n",
    "Bout\n",
    "<br>\n",
    "Round\n",
    "<br>\n",
    "Fighter\n",
    "<br>\n",
    "Kd\n",
    "<br>\n",
    "Sig.Str.\n",
    "<br>\n",
    "Sig.Str. %\n",
    "<br>\n",
    "Total Str.\n",
    "<br>\n",
    "Td\n",
    "<br>\n",
    "Td %\n",
    "<br>\n",
    "Sub.Att\n",
    "<br>\n",
    "Rev.\n",
    "<br>\n",
    "Ctrl\n",
    "<br>\n",
    "Head\n",
    "<br>\n",
    "Body\n",
    "<br>\n",
    "Leg\n",
    "<br>\n",
    "Distance\n",
    "<br>\n",
    "Clinch\n",
    "<br>\n",
    "Ground\n",
    "<br>"
   ]
  },
  {
   "cell_type": "code",
   "metadata": {
    "ExecuteTime": {
     "end_time": "2024-04-29T18:33:53.092168Z",
     "start_time": "2024-04-29T18:33:53.064598Z"
    }
   },
   "source": [
    "# define list of urls of fights to parse\n",
    "list_of_fight_details_urls = list(all_fight_details_df['URL'])"
   ],
   "execution_count": 11,
   "outputs": []
  },
  {
   "cell_type": "code",
   "metadata": {
    "ExecuteTime": {
     "end_time": "2024-04-29T20:17:24.757395Z",
     "start_time": "2024-04-29T18:33:53.093176Z"
    }
   },
   "source": [
    "# create empty df to store fight results\n",
    "all_fight_results_df = pd.DataFrame(columns=config['fight_results_column_names'])\n",
    "# create empty df to store fight stats\n",
    "all_fight_stats_df = pd.DataFrame(columns=config['fight_stats_column_names'])\n",
    "\n",
    "# loop through each fight and parse fight results and stats\n",
    "for url in tqdm_notebook(list_of_fight_details_urls):\n",
    "\n",
    "    # get soup\n",
    "    soup = LIB.get_soup(url)\n",
    "\n",
    "    # parse fight results and fight stats\n",
    "    fight_results_df, fight_stats_df = LIB.parse_organise_fight_results_and_stats(\n",
    "        soup,\n",
    "        url,\n",
    "        config['fight_results_column_names'],\n",
    "        config['totals_column_names'],\n",
    "        config['significant_strikes_column_names']\n",
    "        )\n",
    "\n",
    "    # concat fight results\n",
    "    all_fight_results_df = pd.concat([all_fight_results_df, fight_results_df])\n",
    "    # concat fight stats\n",
    "    all_fight_stats_df = pd.concat([all_fight_stats_df, fight_stats_df])\n",
    "\n",
    "# show all fight results\n",
    "#display(all_fight_results_df)\n",
    "# show all fight stats\n",
    "display(all_fight_stats_df)\n",
    "\n",
    "# write to file\n",
    "all_fight_results_df.to_csv(config['fight_results_file_name'], index=False)\n",
    "# write to file\n",
    "all_fight_stats_df.to_csv(config['fight_stats_file_name'], index=False)"
   ],
   "execution_count": 12,
   "outputs": []
  }
 ],
 "metadata": {
  "interpreter": {
   "hash": "15747ae626c9cfad767687a667802efd987d29cfb104f39ef23d4cc739083892"
  },
  "kernelspec": {
   "display_name": "Python 3.8.5 64-bit ('base': conda)",
   "language": "python",
   "name": "python3"
  },
  "language_info": {
   "codemirror_mode": {
    "name": "ipython",
    "version": 3
   },
   "file_extension": ".py",
   "mimetype": "text/x-python",
   "name": "python",
   "nbconvert_exporter": "python",
   "pygments_lexer": "ipython3",
   "version": "3.8.8"
  },
  "orig_nbformat": 4
 },
 "nbformat": 4,
 "nbformat_minor": 2
}
