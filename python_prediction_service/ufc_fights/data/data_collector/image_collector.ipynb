{
 "cells": [
  {
   "metadata": {},
   "cell_type": "markdown",
   "source": [
    "# Image Collector from UFC website\n",
    "### 1. Importing Libraries"
   ],
   "id": "972fe2ae1cd68e94"
  },
  {
   "metadata": {
    "ExecuteTime": {
     "end_time": "2024-05-08T08:29:54.604568Z",
     "start_time": "2024-05-08T08:29:54.233360Z"
    }
   },
   "cell_type": "code",
   "source": [
    "import pandas as pd\n",
    "from bs4 import BeautifulSoup\n",
    "import requests"
   ],
   "id": "7a5a9cd96caa5d7",
   "execution_count": 1,
   "outputs": []
  },
  {
   "metadata": {},
   "cell_type": "markdown",
   "source": "### 2. Importing the dataset with all fighter names",
   "id": "205cfd2d6c7ec472"
  },
  {
   "metadata": {
    "ExecuteTime": {
     "end_time": "2024-05-08T08:29:54.635767Z",
     "start_time": "2024-05-08T08:29:54.605548Z"
    }
   },
   "cell_type": "code",
   "source": [
    "fighters = pd.read_csv('../processed_data/all_fighter_details.csv', index_col=0)\n",
    "fighters"
   ],
   "id": "965fe33932eb6812",
   "execution_count": 2,
   "outputs": []
  },
  {
   "metadata": {},
   "cell_type": "markdown",
   "source": "### 3. Setting up the headers and the URL",
   "id": "5a2bdea30de83471"
  },
  {
   "metadata": {
    "ExecuteTime": {
     "end_time": "2024-05-08T08:29:54.651766Z",
     "start_time": "2024-05-08T08:29:54.636765Z"
    }
   },
   "cell_type": "code",
   "source": [
    "ufc_url = 'https://www.ufc.com/athlete/jose-aldo'\n",
    "headers = {\n",
    "    'User-Agent': 'Mozilla/5.0 (Windows NT 10.0; Win64; x64) AppleWebKit/537.36 (KHTML, like Gecko) Chrome/96.0.4664.110 Safari/537.36',\n",
    "    'referer': 'https://www.ufc.com/'\n",
    "}"
   ],
   "id": "27378ffc6260656e",
   "execution_count": 3,
   "outputs": []
  },
  {
   "metadata": {},
   "cell_type": "markdown",
   "source": "### 4. Looping through the fighter names and getting the image URL by scraping the UFC website",
   "id": "64cf971afa7ee6c"
  },
  {
   "metadata": {
    "ExecuteTime": {
     "end_time": "2024-05-08T08:30:47.489894Z",
     "start_time": "2024-05-08T08:30:36.714577Z"
    }
   },
   "cell_type": "code",
   "source": [
    "for index, row in fighters.iterrows():\n",
    "    row['format_name'] = row['FIGHTER'].replace(' ', '-').lower()\n",
    "    ufc_url = f'https://www.ufc.com/athlete/{row[\"format_name\"]}'\n",
    "    response = requests.get(ufc_url, headers=headers)\n",
    "    if response.status_code == 200:\n",
    "       #  print(f\"Retrieved URL: {ufc_url}\")\n",
    "        soup = BeautifulSoup(response.text, 'html.parser')\n",
    "        image_tag = soup.find('meta', property='og:image')\n",
    "        if image_tag:\n",
    "            image_url = image_tag['content']\n",
    "            print(f\"Image URL: {image_url}\")\n",
    "            fighters.loc[index, 'image_url'] = image_url\n",
    "        else:\n",
    "           print(f\"Failed to retrieve image\")\n",
    "    else:\n",
    "        print(f\"Failed to retrieve URL: {ufc_url}\")"
   ],
   "id": "b8497228512d942b",
   "execution_count": 6,
   "outputs": []
  },
  {
   "metadata": {},
   "cell_type": "markdown",
   "source": "### 5. Final DataFrame with all the fighter details and image URLs",
   "id": "ec4169906f0642b8"
  },
  {
   "metadata": {
    "ExecuteTime": {
     "end_time": "2024-05-07T18:46:00.171198Z",
     "start_time": "2024-05-07T18:46:00.157225Z"
    }
   },
   "cell_type": "code",
   "source": "fighters",
   "id": "cc2dc75d90ceb18e",
   "execution_count": 50,
   "outputs": []
  },
  {
   "metadata": {
    "ExecuteTime": {
     "end_time": "2024-05-07T18:46:00.186696Z",
     "start_time": "2024-05-07T18:46:00.172172Z"
    }
   },
   "cell_type": "code",
   "source": [
    "# give me the amount of rows that dont contain an image url\n",
    "fighters['image_url'].isnull().sum()"
   ],
   "id": "fd43362f234c2b91",
   "execution_count": 51,
   "outputs": []
  },
  {
   "metadata": {
    "ExecuteTime": {
     "end_time": "2024-05-07T18:46:00.202234Z",
     "start_time": "2024-05-07T18:46:00.187713Z"
    }
   },
   "cell_type": "code",
   "source": [
    "# give me the total amount of rows\n",
    "fighters.shape[0]"
   ],
   "id": "87bb3d8aba36f4d5",
   "execution_count": 52,
   "outputs": []
  },
  {
   "metadata": {
    "ExecuteTime": {
     "end_time": "2024-05-07T22:58:37.776825Z",
     "start_time": "2024-05-07T22:58:37.736143Z"
    }
   },
   "cell_type": "code",
   "source": "fighters.to_csv('../processed_data/all_fighter_details_and_images.csv')",
   "id": "6a33a72f31fb25d6",
   "execution_count": 53,
   "outputs": []
  },
  {
   "metadata": {},
   "cell_type": "markdown",
   "source": [
    "# Conclusion\n",
    "All images were successfully retrieved from the UFC website. The images were saved in a new CSV file called `all_fighter_details_and_images.csv`, 554 fighters do not have an image URL, the other 2000 fighters have an image URL.\n",
    "Now all the imag_urls have to be added to the database."
   ],
   "id": "3d520fb0b35a1575"
  }
 ],
 "metadata": {
  "kernelspec": {
   "display_name": "Python 3",
   "language": "python",
   "name": "python3"
  },
  "language_info": {
   "codemirror_mode": {
    "name": "ipython",
    "version": 2
   },
   "file_extension": ".py",
   "mimetype": "text/x-python",
   "name": "python",
   "nbconvert_exporter": "python",
   "pygments_lexer": "ipython2",
   "version": "2.7.6"
  }
 },
 "nbformat": 4,
 "nbformat_minor": 5
}
