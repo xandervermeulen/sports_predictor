{
 "cells": [
  {
   "cell_type": "code",
   "execution_count": 32,
   "metadata": {
    "ExecuteTime": {
     "end_time": "2024-04-18T11:14:34.928557Z",
     "start_time": "2024-04-18T11:14:34.909541Z"
    }
   },
   "source": [
    "'''\n",
    "Overview\n",
    "this notebook is a working example of scraping ufc fight stats one at a time\n",
    "the code is broken down into small steps that can be run in parts to view and verify results at each step\n",
    "this is useful for testing and debugging the code as the ufc stats website may be update, breaking the code\n",
    "\n",
    "\n",
    "scrape ufc fight stats\n",
    "get all event details, name, url, date, location for all ufc events\n",
    "for each event, get fight details all fights on card\n",
    "parse each fight to get fight stats of both fighters\n",
    "\n",
    "additional scraping of fighter's details, name, nickname, url\n",
    "for each fighter, get their tale of the tape\n",
    "'''"
   ],
   "outputs": []
  },
  {
   "cell_type": "code",
   "execution_count": 2,
   "metadata": {
    "ExecuteTime": {
     "end_time": "2024-04-25T11:51:01.374461Z",
     "start_time": "2024-04-25T11:51:00.562917Z"
    }
   },
   "source": [
    "# imports\n",
    "import pandas as pd\n",
    "import numpy as np\n",
    "import os\n",
    "import re\n",
    "import requests\n",
    "from bs4 import BeautifulSoup\n",
    "import itertools\n",
    "\n",
    "# import library\n",
    "import scrape_ufc_stats_library as LIB\n",
    "import importlib\n",
    "importlib.reload(LIB)\n",
    "\n",
    "# import configs\n",
    "import yaml\n",
    "config = yaml.safe_load(open('scrape_ufc_stats_config.yaml'))"
   ],
   "outputs": []
  },
  {
   "cell_type": "markdown",
   "metadata": {},
   "source": [
    "# Parse Event Details\n",
    "Includes:\n",
    "<br>\n",
    "Event\n",
    "<br>\n",
    "URL\n",
    "<br>\n",
    "Date\n",
    "<br>\n",
    "Location\n",
    "<br>"
   ]
  },
  {
   "cell_type": "code",
   "execution_count": 3,
   "metadata": {
    "ExecuteTime": {
     "end_time": "2024-04-25T11:51:03.691259Z",
     "start_time": "2024-04-25T11:51:03.314832Z"
    }
   },
   "source": [
    "# define url to parse\n",
    "url = 'http://ufcstats.com/statistics/events/upcoming?page=all' # first page\n",
    "\n",
    "# get soup\n",
    "soup = LIB.get_soup(url)"
   ],
   "outputs": []
  },
  {
   "cell_type": "code",
   "execution_count": 4,
   "metadata": {
    "ExecuteTime": {
     "end_time": "2024-04-25T11:51:08.317895Z",
     "start_time": "2024-04-25T11:51:08.298342Z"
    }
   },
   "source": [
    "# parse event details\n",
    "event_details_df = LIB.parse_upcoming_events(soup)\n",
    "\n",
    "# show event details\n",
    "display(event_details_df)\n",
    "\n",
    "#event_details_df.to_csv('../scraped_data/upcoming_event_details.csv', index=False)"
   ],
   "outputs": []
  },
  {
   "cell_type": "markdown",
   "metadata": {},
   "source": [
    "# Parse Fight Details\n",
    "Includes:\n",
    "<br>\n",
    "Event\n",
    "<br>\n",
    "Bout\n",
    "<br>\n",
    "URL"
   ]
  },
  {
   "cell_type": "code",
   "execution_count": 5,
   "metadata": {
    "ExecuteTime": {
     "end_time": "2024-04-25T11:51:31.884021Z",
     "start_time": "2024-04-25T11:51:28.273519Z"
    }
   },
   "source": [
    "# parse one event for fight details\n",
    "combined_fight_details_df = pd.DataFrame()\n",
    "\n",
    "# loop over all the urls in the event details df\n",
    "for url in event_details_df['URL']:\n",
    "    # get soup\n",
    "    soup = LIB.get_soup(url)\n",
    "    # parse fight links\n",
    "    fight_details_df = LIB.parse_upcoming_fight_details(soup)\n",
    "    combined_fight_details_df = pd.concat([combined_fight_details_df, fight_details_df], ignore_index=True)\n",
    "\n",
    "    # show fight links\n",
    "   # display(fight_details_df)\n",
    "    \n",
    "#combined_fight_details_df.to_csv('../scraped_data/upcoming_fight_details.csv', index=False)\n",
    "combined_fight_details_df"
   ],
   "outputs": []
  }
 ],
 "metadata": {
  "interpreter": {
   "hash": "9aac8944d03ded7dbafcde28cbfe34d23c9079c2df9125865de5144d9ea8ac9a"
  },
  "kernelspec": {
   "display_name": "Python 3.8.8 64-bit ('base': conda)",
   "language": "python",
   "name": "python3"
  },
  "language_info": {
   "codemirror_mode": {
    "name": "ipython",
    "version": 3
   },
   "file_extension": ".py",
   "mimetype": "text/x-python",
   "name": "python",
   "nbconvert_exporter": "python",
   "pygments_lexer": "ipython3",
   "version": "3.8.8"
  },
  "orig_nbformat": 4
 },
 "nbformat": 4,
 "nbformat_minor": 2
}
